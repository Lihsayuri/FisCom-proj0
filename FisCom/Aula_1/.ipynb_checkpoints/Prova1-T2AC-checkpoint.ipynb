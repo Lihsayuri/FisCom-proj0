{
 "cells": [
  {
   "cell_type": "markdown",
   "metadata": {},
   "source": [
    "# Avaliação Inicial de Ciência dos dados \n",
    "\n",
    "## 2020 - 2o. semestre\n",
    "___\n"
   ]
  },
  {
   "cell_type": "markdown",
   "metadata": {},
   "source": [
    "### COLOQUE SEU NOME AQUI : Lívia Sayuri Makuta."
   ]
  },
  {
   "cell_type": "markdown",
   "metadata": {},
   "source": [
    "___\n",
    "## Instruções\n",
    "\n",
    "**Leia atentamente as instruções desta avaliação. Essas devem ser seguidas rigorosamente!**\n",
    "\n",
    "**Prezado(a) Aluno(a),**\n",
    "\n",
    "Você terá **120 minutos** a partir do início oficial da prova (**às 13h30 do dia 08/09**) para concluir esta avaliação, administre bem o seu tempo. \n",
    "\n",
    "Esta avaliação terá as seguintes etapas:\n",
    "\n",
    "**13h30 às 13h35**\n",
    "       \n",
    " * **(1 minuto) - Momento ZERO:** às 13h30 já esteja na equipe de Ciência dos dados (canal Geral) para receber instruções.\n",
    " * **(3 minutos) - Início da prova:** Entre no Blackboard e inicie o teste em `Conteúdos/Avaliações/Avaliação Inicial/Presença`. Caso não ative esse teste em até 15 minutos do início da prova (ou seja, até às 13h45), não terá mais direito de entregar essa prova, obtendo falta na mesma.\n",
    " * **(1 minuto) - Prova no Blackboard:** Entre no Blackboard e faça download do Jupyter Notebook e da base de dados em `Conteúdos/Avaliações/Avaliação Inicial/Prova`.\n",
    "\n",
    "\n",
    "**13h35 às 15h20**  \n",
    "\n",
    " * **(1 hora 45 minutos) - Desenvolvimento da prova:** Concentre-se em resolver o notebook.\n",
    " * ATENÇÃO: administre esses tempos da maneira que julgar mais adequada para você.\n",
    "\n",
    "\n",
    "**15h20 às 15h30**  \n",
    " * **(10 minutos) - Entrega via Blackboard - Notebook:** O arquivo `.ipynb` deve ser entregue em `Conteúdos/Avaliações/Avaliação Inicial/Entrega da prova`. \n",
    "\n",
    "<br>\n",
    "\n",
    "Leia atentamente as instruções a seguir e as questões da prova antes de começar a resolvê-la.\n",
    "\n",
    "1. Identifique-se no cabeçalho deste arquivo. Essa prova é INDIVIDUAL.\n",
    "2. Esta Avaliação consiste em um arquivo Jupyter que será submetido ao Blackboard.\n",
    "3. Leia atentamente as **Precauções de segurança** abaixo para evitar ter sua prova anulada.\n",
    "4. Em caso de dúvida sobre alguma questão desta avaliação, redija um texto em uma nova célula deste Jupyter notebook explicitando-a para que o professor avalie a pertinência durante a correção.  \n",
    "5. Você pode utilizar qualquer material individual para consulta – anotações, livros, etc. Mas não pode compartilhar este material com seus colegas.\n",
    "6. Consulta a colegas constituirá violação ao Código de Ética e de Conduta e acarretarão sanções nele previstas. Faça o seu trabalho de maneira ética!\n",
    "7. Leia atentamente cada questão e responda o que for pedido. Erros conceituais serão penalizados, mesmo que o conceito não se relacione com o que foi pedido na questão.\n",
    "8. Caso em algum item você necessite do resultado de um item anterior que você não conseguiu fazer, admita um valor razoável para esse resultado e faça o item normalmente. Indique na questão, caso isso aconteça.\n",
    "9. Todos os resultados devem ser justificados. Números que apareçam sem uma explicação de como foram encontrados serão ignorados na correção.\n",
    "10. A qualidade do código na resolução em cada item também será levada em consideração, ou seja, códigos complicados para soluções que podem ser simples serão penalizados.\n",
    "11. Esta avaliação requer **entrega via Blackboard**. **Não serão consideradas entregas por outros meios** (ex: e-mail, MS Teams, etc.).\n",
    "\n",
    "#### Precauções de segurança\n",
    "\n",
    "1.\tTodas as precauções abaixo podem ser resumidas da seguinte forma: consulte o material que quiser desde que não seja nenhuma pessoa e não compartilhe informações com ninguém. \n",
    "2.\tVocê não pode enviar nenhum tipo de mensagem durante a prova para qualquer pessoa dentro ou fora dela, com exceção do(a) professor(a). Por exemplo: e-mail, Skype, mensagens do Facebook, mensagens do WhatsApp, mensagens via Twitter, etc\n",
    "3.\tVocê não pode compartilhar nenhum tipo de informação em nenhum site, incluindo Pastebin, Codeshare, wikis, etc\n",
    "4.\tVocê não pode perguntar questões da prova no StackOverflow, StackExchange, MathExchange, etc. \n",
    "5.\tVocê pode procurar/tirar dúvida no Google.\n",
    "6.\tVocê pode consultar qualquer arquivo no seu computador.\n",
    "7.\tQualquer transgressão das normas acima pode zerar a nota da prova e implicar em infração ao código de ética do Insper."
   ]
  },
  {
   "cell_type": "markdown",
   "metadata": {},
   "source": [
    "__\n",
    "# Analisando o mercado imobiliário\n",
    "\n",
    "Vamos analisar um conjunto de dados acerca de aluguéis imobiliários - será que vamos descobrir os segredos do mercado \n",
    "imobiliário hoje? \n",
    "\n",
    "## Índice\n",
    "\n",
    "- [Introdução](#Introdução)\n",
    "- [Questão 1](#Questão-1)\n",
    "- [Questão 2](#Questão-2)\n",
    "- [Questão 3](#Questão-3)\n",
    "- [Questão 4](#Questão-4)\n",
    "- [Questão 5](#Questão-5)\n"
   ]
  },
  {
   "cell_type": "markdown",
   "metadata": {},
   "source": [
    "---\n",
    "\n",
    "## Introdução\n",
    "\n",
    "Primeiramente vamos importar as bibliotecas de sempre:"
   ]
  },
  {
   "cell_type": "code",
   "execution_count": 64,
   "metadata": {},
   "outputs": [],
   "source": [
    "%matplotlib inline\n",
    "import numpy as np\n",
    "import pandas as pd\n",
    "import matplotlib.pyplot as plt\n",
    "\n",
    "# Para ter melhor print de DataFrames.\n",
    "from IPython.display import display"
   ]
  },
  {
   "cell_type": "markdown",
   "metadata": {},
   "source": [
    "Vamos também verificar se o arquivo de dados está no nosso diretório:"
   ]
  },
  {
   "cell_type": "code",
   "execution_count": 65,
   "metadata": {},
   "outputs": [
    {
     "name": "stdout",
     "output_type": "stream",
     "text": [
      "Encontrei o arquivo alugueis.csv, tudo certo para prosseguir com a prova!\n"
     ]
    }
   ],
   "source": [
    "import os\n",
    "\n",
    "filename = 'alugueis.csv'\n",
    "if filename in os.listdir():\n",
    "    print(f'Encontrei o arquivo {filename}, tudo certo para prosseguir com a prova!')\n",
    "else:\n",
    "    print(f'Não encontrei o arquivo {filename} aqui no diretório {os.getcwd()}, será que você não baixou o arquivo?')"
   ]
  },
  {
   "cell_type": "markdown",
   "metadata": {},
   "source": [
    "Se tudo deu certo até agora, vamos prosseguir. Primeiro vamos ler os dados:"
   ]
  },
  {
   "cell_type": "code",
   "execution_count": 66,
   "metadata": {},
   "outputs": [],
   "source": [
    "dados = pd.read_csv(filename)"
   ]
  },
  {
   "cell_type": "markdown",
   "metadata": {},
   "source": [
    "Vamos ver algumas linhas e também a informação acerca dos tipos de dados das colunas:"
   ]
  },
  {
   "cell_type": "code",
   "execution_count": 67,
   "metadata": {},
   "outputs": [
    {
     "data": {
      "text/html": [
       "<div>\n",
       "<style scoped>\n",
       "    .dataframe tbody tr th:only-of-type {\n",
       "        vertical-align: middle;\n",
       "    }\n",
       "\n",
       "    .dataframe tbody tr th {\n",
       "        vertical-align: top;\n",
       "    }\n",
       "\n",
       "    .dataframe thead th {\n",
       "        text-align: right;\n",
       "    }\n",
       "</style>\n",
       "<table border=\"1\" class=\"dataframe\">\n",
       "  <thead>\n",
       "    <tr style=\"text-align: right;\">\n",
       "      <th></th>\n",
       "      <th>cidade</th>\n",
       "      <th>area</th>\n",
       "      <th>comodos</th>\n",
       "      <th>banheiros</th>\n",
       "      <th>vagas</th>\n",
       "      <th>andar</th>\n",
       "      <th>pets</th>\n",
       "      <th>mobiliado</th>\n",
       "      <th>condominio</th>\n",
       "      <th>aluguel</th>\n",
       "      <th>IPTU</th>\n",
       "      <th>seguro</th>\n",
       "      <th>total</th>\n",
       "    </tr>\n",
       "  </thead>\n",
       "  <tbody>\n",
       "    <tr>\n",
       "      <th>0</th>\n",
       "      <td>São Paulo</td>\n",
       "      <td>70.0</td>\n",
       "      <td>2</td>\n",
       "      <td>1</td>\n",
       "      <td>1</td>\n",
       "      <td>7</td>\n",
       "      <td>aceita</td>\n",
       "      <td>mobiliado</td>\n",
       "      <td>2065.0</td>\n",
       "      <td>3300.0</td>\n",
       "      <td>211.0</td>\n",
       "      <td>42.0</td>\n",
       "      <td>5618.0</td>\n",
       "    </tr>\n",
       "    <tr>\n",
       "      <th>1</th>\n",
       "      <td>São Paulo</td>\n",
       "      <td>320.0</td>\n",
       "      <td>4</td>\n",
       "      <td>4</td>\n",
       "      <td>0</td>\n",
       "      <td>20</td>\n",
       "      <td>aceita</td>\n",
       "      <td>nao mobiliado</td>\n",
       "      <td>1200.0</td>\n",
       "      <td>4960.0</td>\n",
       "      <td>1750.0</td>\n",
       "      <td>63.0</td>\n",
       "      <td>7973.0</td>\n",
       "    </tr>\n",
       "    <tr>\n",
       "      <th>2</th>\n",
       "      <td>Porto Alegre</td>\n",
       "      <td>51.0</td>\n",
       "      <td>2</td>\n",
       "      <td>1</td>\n",
       "      <td>0</td>\n",
       "      <td>2</td>\n",
       "      <td>aceita</td>\n",
       "      <td>nao mobiliado</td>\n",
       "      <td>270.0</td>\n",
       "      <td>1112.0</td>\n",
       "      <td>22.0</td>\n",
       "      <td>17.0</td>\n",
       "      <td>1421.0</td>\n",
       "    </tr>\n",
       "    <tr>\n",
       "      <th>3</th>\n",
       "      <td>Rio de Janeiro</td>\n",
       "      <td>72.0</td>\n",
       "      <td>2</td>\n",
       "      <td>1</td>\n",
       "      <td>0</td>\n",
       "      <td>7</td>\n",
       "      <td>aceita</td>\n",
       "      <td>nao mobiliado</td>\n",
       "      <td>740.0</td>\n",
       "      <td>1900.0</td>\n",
       "      <td>85.0</td>\n",
       "      <td>25.0</td>\n",
       "      <td>2750.0</td>\n",
       "    </tr>\n",
       "    <tr>\n",
       "      <th>4</th>\n",
       "      <td>São Paulo</td>\n",
       "      <td>213.0</td>\n",
       "      <td>4</td>\n",
       "      <td>4</td>\n",
       "      <td>4</td>\n",
       "      <td>4</td>\n",
       "      <td>aceita</td>\n",
       "      <td>nao mobiliado</td>\n",
       "      <td>2254.0</td>\n",
       "      <td>3223.0</td>\n",
       "      <td>1735.0</td>\n",
       "      <td>41.0</td>\n",
       "      <td>7253.0</td>\n",
       "    </tr>\n",
       "  </tbody>\n",
       "</table>\n",
       "</div>"
      ],
      "text/plain": [
       "           cidade   area  comodos  banheiros  vagas  andar    pets  \\\n",
       "0       São Paulo   70.0        2          1      1      7  aceita   \n",
       "1       São Paulo  320.0        4          4      0     20  aceita   \n",
       "2    Porto Alegre   51.0        2          1      0      2  aceita   \n",
       "3  Rio de Janeiro   72.0        2          1      0      7  aceita   \n",
       "4       São Paulo  213.0        4          4      4      4  aceita   \n",
       "\n",
       "       mobiliado  condominio  aluguel    IPTU  seguro   total  \n",
       "0      mobiliado      2065.0   3300.0   211.0    42.0  5618.0  \n",
       "1  nao mobiliado      1200.0   4960.0  1750.0    63.0  7973.0  \n",
       "2  nao mobiliado       270.0   1112.0    22.0    17.0  1421.0  \n",
       "3  nao mobiliado       740.0   1900.0    85.0    25.0  2750.0  \n",
       "4  nao mobiliado      2254.0   3223.0  1735.0    41.0  7253.0  "
      ]
     },
     "execution_count": 67,
     "metadata": {},
     "output_type": "execute_result"
    }
   ],
   "source": [
    "dados.head()"
   ]
  },
  {
   "cell_type": "code",
   "execution_count": 68,
   "metadata": {},
   "outputs": [
    {
     "name": "stdout",
     "output_type": "stream",
     "text": [
      "<class 'pandas.core.frame.DataFrame'>\n",
      "RangeIndex: 6955 entries, 0 to 6954\n",
      "Data columns (total 13 columns):\n",
      " #   Column      Non-Null Count  Dtype  \n",
      "---  ------      --------------  -----  \n",
      " 0   cidade      6955 non-null   object \n",
      " 1   area        6955 non-null   float64\n",
      " 2   comodos     6955 non-null   int64  \n",
      " 3   banheiros   6955 non-null   int64  \n",
      " 4   vagas       6955 non-null   int64  \n",
      " 5   andar       6955 non-null   int64  \n",
      " 6   pets        6955 non-null   object \n",
      " 7   mobiliado   6955 non-null   object \n",
      " 8   condominio  6955 non-null   float64\n",
      " 9   aluguel     6955 non-null   float64\n",
      " 10  IPTU        6955 non-null   float64\n",
      " 11  seguro      6955 non-null   float64\n",
      " 12  total       6955 non-null   float64\n",
      "dtypes: float64(6), int64(4), object(3)\n",
      "memory usage: 706.5+ KB\n"
     ]
    }
   ],
   "source": [
    "dados.info()"
   ]
  },
  {
   "cell_type": "markdown",
   "metadata": {},
   "source": [
    "O pandas não tem como saber quais variáveis são qualitativas ao carregar os dados. Então precisamos modificar as colunas explicitamente. Já deixamos isso pronto para você nesta avaliação:"
   ]
  },
  {
   "cell_type": "code",
   "execution_count": 69,
   "metadata": {},
   "outputs": [],
   "source": [
    "for coluna in ['cidade', 'pets', 'mobiliado']:\n",
    "    dados[coluna] = dados[coluna].astype('category')"
   ]
  },
  {
   "cell_type": "code",
   "execution_count": 70,
   "metadata": {},
   "outputs": [
    {
     "name": "stdout",
     "output_type": "stream",
     "text": [
      "<class 'pandas.core.frame.DataFrame'>\n",
      "RangeIndex: 6955 entries, 0 to 6954\n",
      "Data columns (total 13 columns):\n",
      " #   Column      Non-Null Count  Dtype   \n",
      "---  ------      --------------  -----   \n",
      " 0   cidade      6955 non-null   category\n",
      " 1   area        6955 non-null   float64 \n",
      " 2   comodos     6955 non-null   int64   \n",
      " 3   banheiros   6955 non-null   int64   \n",
      " 4   vagas       6955 non-null   int64   \n",
      " 5   andar       6955 non-null   int64   \n",
      " 6   pets        6955 non-null   category\n",
      " 7   mobiliado   6955 non-null   category\n",
      " 8   condominio  6955 non-null   float64 \n",
      " 9   aluguel     6955 non-null   float64 \n",
      " 10  IPTU        6955 non-null   float64 \n",
      " 11  seguro      6955 non-null   float64 \n",
      " 12  total       6955 non-null   float64 \n",
      "dtypes: category(3), float64(6), int64(4)\n",
      "memory usage: 564.2 KB\n"
     ]
    }
   ],
   "source": [
    "dados.info()"
   ]
  },
  {
   "cell_type": "markdown",
   "metadata": {},
   "source": [
    "As colunas deste DataFrame tem os seguintes significados:\n",
    "\n",
    "| Coluna         | Descrição                                    |\n",
    "|----------------|----------------------------------------------|\n",
    "| **cidade**     | A cidade onde o imóvel se localiza.          |\n",
    "| **area**       | Área do imóvel, em $m^2$.                    |\n",
    "| **comodos**    | Número de cômodos do imóvel.                 |\n",
    "| **banheiros**  | Número de banheiros do imóvel.               |\n",
    "| **vagas**      | Número de vagas de garagem.                  |\n",
    "| **andar**      | Andar do imóvel.                             |\n",
    "| **pets**       | Se o locatário permite animais de estimação. |\n",
    "| **mobiliado**  | Se o imóvel é mobiliado.                     |\n",
    "| **condominio** | Valor do condomínio, em Reais.               |\n",
    "| **aluguel**    | Valor do aluguel, em Reais.                  |\n",
    "| **IPTU**       | Valor do IPTU mensal, em Reais.              |\n",
    "| **seguro**     | Valor do seguro residencial, em Reais.       |\n",
    "| **total**      | Custo total mensal do imóvel, em Reais.      |\n",
    "\n",
    "Para sua informação, este conjunto de dados foi limpo pelo professor, para eliminar valores aberrantes, possíveis erros, valores faltantes, e anomalias como saturação de valor. O conjunto de dados original passou pelos seguintes filtros:\n",
    "\n",
    "- Valor de condomínio entre $\\text{R}\\$10,00$ e $\\text{R}\\$12.000,00$\n",
    "- Valor de IPTU entre $\\text{R}\\$1,00$ e $\\text{R}\\$4.000,00$\n",
    "- Valor do aluguel menor que $\\text{R}\\$15.000,00$\n",
    "- Número de vagas de garagem menor que $7$\n",
    "- Número de cômodos menor que $6$\n",
    "- Área do imóvel menor que $1.000 m^2$\n",
    "- Andar do imóvel menor que $30$"
   ]
  },
  {
   "cell_type": "markdown",
   "metadata": {},
   "source": [
    "<div id=\"Questão-1\"></div>\n",
    "\n",
    "---\n",
    "\n",
    "## Questão 1\n",
    "\n",
    "**[0,75 ponto]** Como foi dito acima, o conjunto de dados que temos aqui na prova é uma versão limpa de um conjunto original, que passou por uma remoção de valores aberrantes. \n",
    "\n",
    "Explique em suas palavras: qual a vantagem de remover valores aberrantes do nosso conjunto de dados antes de proceder à análise?"
   ]
  },
  {
   "cell_type": "markdown",
   "metadata": {},
   "source": [
    "**R:** Isso foi feito para que ao se calcular as medidas de resumo, como média por exemplo, não fossem influenciadas por alguns valores que distanciam muito da maioria. Dessa forma, com valores limitados por uma determinada amplitude, seus valores das medidas de resumo se tornam mais precisos.  "
   ]
  },
  {
   "cell_type": "markdown",
   "metadata": {},
   "source": [
    "<div id=\"Questão-2\"></div>\n",
    "\n",
    "___\n",
    "## Questão 2\n",
    "\n"
   ]
  },
  {
   "cell_type": "markdown",
   "metadata": {},
   "source": [
    "a) **[1,25 ponto]** Construa o *histograma* da variável `aluguel` com os seguintes pontos de corte: \n",
    "\n",
    "- menos que $1600$ (são os alugueis mais acessíveis)\n",
    "- $1600$ a $2600$ (alugueis classe média)\n",
    "- $2600$ a $4500$ (alugueis classe média-alta)\n",
    "- $4500$ em diante (aluguéis de imóveis de alto-padrão)"
   ]
  },
  {
   "cell_type": "code",
   "execution_count": 71,
   "metadata": {},
   "outputs": [
    {
     "data": {
      "image/png": "[encoded data removed]",
      "text/plain": [
       "<Figure size 360x360 with 1 Axes>"
      ]
     },
     "metadata": {
      "needs_background": "light"
     },
     "output_type": "display_data"
    }
   ],
   "source": [
    "# Escreva sua resposta aqui.\n",
    "\n",
    "plt.figure(figsize=(5, 5))\n",
    "\n",
    "plt.subplot(111)\n",
    "plt.hist(dados['aluguel'], bins= [0,1600,2600,4500,15000], edgecolor='white', density=True)\n",
    "plt.title('Densidade (eixo y ) e faixas de aluguel')\n",
    "plt.ylabel('densidade')\n",
    "plt.xlabel('faixas de aluguel')\n",
    "plt.show()"
   ]
  },
  {
   "cell_type": "markdown",
   "metadata": {},
   "source": [
    "b) **[1,0 ponto]** Baseado no histograma responda: dentre os valores em torno de\n",
    "\n",
    "- $\\text{R}\\$ \\, 1.000,00$, \n",
    "- $\\text{R}\\$ \\, 2.000,00$, \n",
    "- $\\text{R}\\$ \\, 3.000,00$, \n",
    "- $\\text{R}\\$ \\, 4.000,00$ e \n",
    "- $\\text{R}\\$ \\, 5.000,00$, \n",
    "\n",
    "qual o valor mais comum de aluguel?"
   ]
  },
  {
   "cell_type": "markdown",
   "metadata": {},
   "source": [
    "**R:** Por meio do histograma é possível concluir que os valores mais comuns de aluguel estão em torno de R$2000,00."
   ]
  },
  {
   "cell_type": "markdown",
   "metadata": {},
   "source": [
    "<div id=\"Questão-3\"></div>\n",
    "\n",
    "---\n",
    "\n",
    "## Questão 3"
   ]
  },
  {
   "cell_type": "markdown",
   "metadata": {},
   "source": [
    "a) **[1,25 ponto]** Construa uma variável qualitativa (como uma coluna nova do DataFrame `dados`) chamada `faixa` que tem os seguintes valores:\n",
    "\n",
    "- menos que $1600$: \"popular\"\n",
    "- de $1600$ a $2600$: \"media\"\n",
    "- de $2600$ a $4500$: \"alta\"\n",
    "- de $4500$ em diante: \"magnata\""
   ]
  },
  {
   "cell_type": "code",
   "execution_count": 72,
   "metadata": {},
   "outputs": [
    {
     "data": {
      "text/html": [
       "<div>\n",
       "<style scoped>\n",
       "    .dataframe tbody tr th:only-of-type {\n",
       "        vertical-align: middle;\n",
       "    }\n",
       "\n",
       "    .dataframe tbody tr th {\n",
       "        vertical-align: top;\n",
       "    }\n",
       "\n",
       "    .dataframe thead th {\n",
       "        text-align: right;\n",
       "    }\n",
       "</style>\n",
       "<table border=\"1\" class=\"dataframe\">\n",
       "  <thead>\n",
       "    <tr style=\"text-align: right;\">\n",
       "      <th></th>\n",
       "      <th>cidade</th>\n",
       "      <th>area</th>\n",
       "      <th>comodos</th>\n",
       "      <th>banheiros</th>\n",
       "      <th>vagas</th>\n",
       "      <th>andar</th>\n",
       "      <th>pets</th>\n",
       "      <th>mobiliado</th>\n",
       "      <th>condominio</th>\n",
       "      <th>aluguel</th>\n",
       "      <th>IPTU</th>\n",
       "      <th>seguro</th>\n",
       "      <th>total</th>\n",
       "      <th>faixa</th>\n",
       "    </tr>\n",
       "  </thead>\n",
       "  <tbody>\n",
       "    <tr>\n",
       "      <th>6467</th>\n",
       "      <td>São Paulo</td>\n",
       "      <td>47.0</td>\n",
       "      <td>2</td>\n",
       "      <td>1</td>\n",
       "      <td>1</td>\n",
       "      <td>1</td>\n",
       "      <td>nao aceita</td>\n",
       "      <td>nao mobiliado</td>\n",
       "      <td>500.0</td>\n",
       "      <td>1150.0</td>\n",
       "      <td>38.0</td>\n",
       "      <td>15.0</td>\n",
       "      <td>1703.0</td>\n",
       "      <td>popular</td>\n",
       "    </tr>\n",
       "    <tr>\n",
       "      <th>4940</th>\n",
       "      <td>Porto Alegre</td>\n",
       "      <td>27.0</td>\n",
       "      <td>1</td>\n",
       "      <td>1</td>\n",
       "      <td>0</td>\n",
       "      <td>9</td>\n",
       "      <td>aceita</td>\n",
       "      <td>nao mobiliado</td>\n",
       "      <td>200.0</td>\n",
       "      <td>750.0</td>\n",
       "      <td>13.0</td>\n",
       "      <td>11.0</td>\n",
       "      <td>974.0</td>\n",
       "      <td>popular</td>\n",
       "    </tr>\n",
       "    <tr>\n",
       "      <th>6226</th>\n",
       "      <td>São Paulo</td>\n",
       "      <td>30.0</td>\n",
       "      <td>1</td>\n",
       "      <td>1</td>\n",
       "      <td>0</td>\n",
       "      <td>2</td>\n",
       "      <td>aceita</td>\n",
       "      <td>nao mobiliado</td>\n",
       "      <td>300.0</td>\n",
       "      <td>1550.0</td>\n",
       "      <td>125.0</td>\n",
       "      <td>20.0</td>\n",
       "      <td>1995.0</td>\n",
       "      <td>popular</td>\n",
       "    </tr>\n",
       "    <tr>\n",
       "      <th>1459</th>\n",
       "      <td>Campinas</td>\n",
       "      <td>48.0</td>\n",
       "      <td>1</td>\n",
       "      <td>1</td>\n",
       "      <td>1</td>\n",
       "      <td>4</td>\n",
       "      <td>aceita</td>\n",
       "      <td>mobiliado</td>\n",
       "      <td>490.0</td>\n",
       "      <td>1500.0</td>\n",
       "      <td>42.0</td>\n",
       "      <td>20.0</td>\n",
       "      <td>2052.0</td>\n",
       "      <td>popular</td>\n",
       "    </tr>\n",
       "    <tr>\n",
       "      <th>1458</th>\n",
       "      <td>Porto Alegre</td>\n",
       "      <td>48.0</td>\n",
       "      <td>2</td>\n",
       "      <td>1</td>\n",
       "      <td>1</td>\n",
       "      <td>2</td>\n",
       "      <td>aceita</td>\n",
       "      <td>nao mobiliado</td>\n",
       "      <td>300.0</td>\n",
       "      <td>800.0</td>\n",
       "      <td>35.0</td>\n",
       "      <td>12.0</td>\n",
       "      <td>1147.0</td>\n",
       "      <td>popular</td>\n",
       "    </tr>\n",
       "    <tr>\n",
       "      <th>...</th>\n",
       "      <td>...</td>\n",
       "      <td>...</td>\n",
       "      <td>...</td>\n",
       "      <td>...</td>\n",
       "      <td>...</td>\n",
       "      <td>...</td>\n",
       "      <td>...</td>\n",
       "      <td>...</td>\n",
       "      <td>...</td>\n",
       "      <td>...</td>\n",
       "      <td>...</td>\n",
       "      <td>...</td>\n",
       "      <td>...</td>\n",
       "      <td>...</td>\n",
       "    </tr>\n",
       "    <tr>\n",
       "      <th>3825</th>\n",
       "      <td>São Paulo</td>\n",
       "      <td>198.0</td>\n",
       "      <td>1</td>\n",
       "      <td>1</td>\n",
       "      <td>3</td>\n",
       "      <td>2</td>\n",
       "      <td>nao aceita</td>\n",
       "      <td>mobiliado</td>\n",
       "      <td>1100.0</td>\n",
       "      <td>10700.0</td>\n",
       "      <td>350.0</td>\n",
       "      <td>136.0</td>\n",
       "      <td>12290.0</td>\n",
       "      <td>magnata</td>\n",
       "    </tr>\n",
       "    <tr>\n",
       "      <th>3826</th>\n",
       "      <td>São Paulo</td>\n",
       "      <td>40.0</td>\n",
       "      <td>1</td>\n",
       "      <td>1</td>\n",
       "      <td>1</td>\n",
       "      <td>8</td>\n",
       "      <td>nao aceita</td>\n",
       "      <td>mobiliado</td>\n",
       "      <td>1800.0</td>\n",
       "      <td>4800.0</td>\n",
       "      <td>350.0</td>\n",
       "      <td>61.0</td>\n",
       "      <td>7011.0</td>\n",
       "      <td>magnata</td>\n",
       "    </tr>\n",
       "    <tr>\n",
       "      <th>3832</th>\n",
       "      <td>São Paulo</td>\n",
       "      <td>171.0</td>\n",
       "      <td>3</td>\n",
       "      <td>5</td>\n",
       "      <td>3</td>\n",
       "      <td>16</td>\n",
       "      <td>aceita</td>\n",
       "      <td>nao mobiliado</td>\n",
       "      <td>1320.0</td>\n",
       "      <td>10600.0</td>\n",
       "      <td>870.0</td>\n",
       "      <td>135.0</td>\n",
       "      <td>12930.0</td>\n",
       "      <td>magnata</td>\n",
       "    </tr>\n",
       "    <tr>\n",
       "      <th>3757</th>\n",
       "      <td>São Paulo</td>\n",
       "      <td>57.0</td>\n",
       "      <td>1</td>\n",
       "      <td>1</td>\n",
       "      <td>0</td>\n",
       "      <td>10</td>\n",
       "      <td>aceita</td>\n",
       "      <td>mobiliado</td>\n",
       "      <td>300.0</td>\n",
       "      <td>6000.0</td>\n",
       "      <td>17.0</td>\n",
       "      <td>77.0</td>\n",
       "      <td>6394.0</td>\n",
       "      <td>magnata</td>\n",
       "    </tr>\n",
       "    <tr>\n",
       "      <th>6954</th>\n",
       "      <td>Rio de Janeiro</td>\n",
       "      <td>120.0</td>\n",
       "      <td>2</td>\n",
       "      <td>2</td>\n",
       "      <td>2</td>\n",
       "      <td>8</td>\n",
       "      <td>aceita</td>\n",
       "      <td>mobiliado</td>\n",
       "      <td>1585.0</td>\n",
       "      <td>12000.0</td>\n",
       "      <td>279.0</td>\n",
       "      <td>155.0</td>\n",
       "      <td>14020.0</td>\n",
       "      <td>magnata</td>\n",
       "    </tr>\n",
       "  </tbody>\n",
       "</table>\n",
       "<p>6955 rows × 14 columns</p>\n",
       "</div>"
      ],
      "text/plain": [
       "              cidade   area  comodos  banheiros  vagas  andar        pets  \\\n",
       "6467       São Paulo   47.0        2          1      1      1  nao aceita   \n",
       "4940    Porto Alegre   27.0        1          1      0      9      aceita   \n",
       "6226       São Paulo   30.0        1          1      0      2      aceita   \n",
       "1459        Campinas   48.0        1          1      1      4      aceita   \n",
       "1458    Porto Alegre   48.0        2          1      1      2      aceita   \n",
       "...              ...    ...      ...        ...    ...    ...         ...   \n",
       "3825       São Paulo  198.0        1          1      3      2  nao aceita   \n",
       "3826       São Paulo   40.0        1          1      1      8  nao aceita   \n",
       "3832       São Paulo  171.0        3          5      3     16      aceita   \n",
       "3757       São Paulo   57.0        1          1      0     10      aceita   \n",
       "6954  Rio de Janeiro  120.0        2          2      2      8      aceita   \n",
       "\n",
       "          mobiliado  condominio  aluguel   IPTU  seguro    total    faixa  \n",
       "6467  nao mobiliado       500.0   1150.0   38.0    15.0   1703.0  popular  \n",
       "4940  nao mobiliado       200.0    750.0   13.0    11.0    974.0  popular  \n",
       "6226  nao mobiliado       300.0   1550.0  125.0    20.0   1995.0  popular  \n",
       "1459      mobiliado       490.0   1500.0   42.0    20.0   2052.0  popular  \n",
       "1458  nao mobiliado       300.0    800.0   35.0    12.0   1147.0  popular  \n",
       "...             ...         ...      ...    ...     ...      ...      ...  \n",
       "3825      mobiliado      1100.0  10700.0  350.0   136.0  12290.0  magnata  \n",
       "3826      mobiliado      1800.0   4800.0  350.0    61.0   7011.0  magnata  \n",
       "3832  nao mobiliado      1320.0  10600.0  870.0   135.0  12930.0  magnata  \n",
       "3757      mobiliado       300.0   6000.0   17.0    77.0   6394.0  magnata  \n",
       "6954      mobiliado      1585.0  12000.0  279.0   155.0  14020.0  magnata  \n",
       "\n",
       "[6955 rows x 14 columns]"
      ]
     },
     "execution_count": 72,
     "metadata": {},
     "output_type": "execute_result"
    }
   ],
   "source": [
    "# Escreva sua resposta aqui.\n",
    "\n",
    "Popular = dados['aluguel'] < 1600\n",
    "Media = (dados['aluguel']>=1600)&(dados['aluguel']<2600)\n",
    "Alta= (dados['aluguel'] >=2600)&(dados['aluguel']<4500)\n",
    "Magnata = dados['aluguel'] >= 4500\n",
    "\n",
    "dados.loc[Popular,'faixa'] = 'popular'\n",
    "dados.loc[Media,'faixa'] = 'media'\n",
    "dados.loc[Alta,'faixa'] = 'alta'\n",
    "dados.loc[Magnata,'faixa'] = 'magnata'\n",
    "\n",
    "dados['faixa'] = dados['faixa'].astype('category')\n",
    "dados['faixa'] = pd.Categorical(dados.faixa, categories = ['popular','media','alta','magnata'],ordered=True)\n",
    "dados['faixa'] = dados['faixa'].cat.as_ordered() \n",
    "\n",
    "dados.sort_values('faixa')\n"
   ]
  },
  {
   "cell_type": "markdown",
   "metadata": {},
   "source": [
    "b) **[1,0 ponto]** Avalie a frequência relativa de cada faixa e responda: alguma faixa é muito mais frequente do que as outras, ou são todas aproximadamente iguais?"
   ]
  },
  {
   "cell_type": "code",
   "execution_count": 73,
   "metadata": {},
   "outputs": [
    {
     "data": {
      "text/plain": [
       "magnata    0.261\n",
       "popular    0.250\n",
       "media      0.248\n",
       "alta       0.241\n",
       "Name: faixa, dtype: float64"
      ]
     },
     "execution_count": 73,
     "metadata": {},
     "output_type": "execute_result"
    }
   ],
   "source": [
    "# Escreva seu código aqui.\n",
    "\n",
    "dados['faixa'].value_counts(normalize=True).round(3) #3 casas decimais"
   ]
  },
  {
   "cell_type": "markdown",
   "metadata": {},
   "source": [
    "**R:** Não, as faixas são aproximadamente iguais, variando de 0,241 até 0,261."
   ]
  },
  {
   "cell_type": "markdown",
   "metadata": {},
   "source": [
    "c) **[1,25 ponto]** Construa uma tabela cruzada entre as colunas `cidade` e `faixa`, usando o argumento `normalize` de modo adequado para responder as seguintes perguntas:\n",
    "\n",
    "- Qual cidade tem maior proporção de imóveis do tipo `popular` em relação ao seu próprio inventório?\n",
    "- Qual cidade tem maior proporção de imóveis do tipo `magnata` em relação ao seu próprio inventório?\n"
   ]
  },
  {
   "cell_type": "code",
   "execution_count": 74,
   "metadata": {},
   "outputs": [
    {
     "data": {
      "text/html": [
       "<div>\n",
       "<style scoped>\n",
       "    .dataframe tbody tr th:only-of-type {\n",
       "        vertical-align: middle;\n",
       "    }\n",
       "\n",
       "    .dataframe tbody tr th {\n",
       "        vertical-align: top;\n",
       "    }\n",
       "\n",
       "    .dataframe thead th {\n",
       "        text-align: right;\n",
       "    }\n",
       "</style>\n",
       "<table border=\"1\" class=\"dataframe\">\n",
       "  <thead>\n",
       "    <tr style=\"text-align: right;\">\n",
       "      <th>faixa</th>\n",
       "      <th>popular</th>\n",
       "      <th>media</th>\n",
       "      <th>alta</th>\n",
       "      <th>magnata</th>\n",
       "    </tr>\n",
       "    <tr>\n",
       "      <th>cidade</th>\n",
       "      <th></th>\n",
       "      <th></th>\n",
       "      <th></th>\n",
       "      <th></th>\n",
       "    </tr>\n",
       "  </thead>\n",
       "  <tbody>\n",
       "    <tr>\n",
       "      <th>Belo Horizonte</th>\n",
       "      <td>38.0</td>\n",
       "      <td>24.0</td>\n",
       "      <td>21.0</td>\n",
       "      <td>17.0</td>\n",
       "    </tr>\n",
       "    <tr>\n",
       "      <th>Campinas</th>\n",
       "      <td>56.0</td>\n",
       "      <td>21.0</td>\n",
       "      <td>13.0</td>\n",
       "      <td>11.0</td>\n",
       "    </tr>\n",
       "    <tr>\n",
       "      <th>Porto Alegre</th>\n",
       "      <td>51.0</td>\n",
       "      <td>28.0</td>\n",
       "      <td>14.0</td>\n",
       "      <td>6.0</td>\n",
       "    </tr>\n",
       "    <tr>\n",
       "      <th>Rio de Janeiro</th>\n",
       "      <td>25.0</td>\n",
       "      <td>29.0</td>\n",
       "      <td>25.0</td>\n",
       "      <td>21.0</td>\n",
       "    </tr>\n",
       "    <tr>\n",
       "      <th>São Paulo</th>\n",
       "      <td>10.0</td>\n",
       "      <td>23.0</td>\n",
       "      <td>29.0</td>\n",
       "      <td>38.0</td>\n",
       "    </tr>\n",
       "  </tbody>\n",
       "</table>\n",
       "</div>"
      ],
      "text/plain": [
       "faixa           popular  media  alta  magnata\n",
       "cidade                                       \n",
       "Belo Horizonte     38.0   24.0  21.0     17.0\n",
       "Campinas           56.0   21.0  13.0     11.0\n",
       "Porto Alegre       51.0   28.0  14.0      6.0\n",
       "Rio de Janeiro     25.0   29.0  25.0     21.0\n",
       "São Paulo          10.0   23.0  29.0     38.0"
      ]
     },
     "execution_count": 74,
     "metadata": {},
     "output_type": "execute_result"
    }
   ],
   "source": [
    "# Escreva seu código aqui.\n",
    "\n",
    "pd.crosstab(dados['cidade'], [dados['faixa']],normalize='index').round(2)*100\n"
   ]
  },
  {
   "cell_type": "markdown",
   "metadata": {},
   "source": [
    "**R:** A cidade de Campinas tem maior proporção de imóveis do tipo popular em relação ao seu próprio inventório.\n",
    "\n",
    "A cidade de São Paulo tem a maior proporção de imóveis do tipo magnata em relação ao seu próprio inventório."
   ]
  },
  {
   "cell_type": "markdown",
   "metadata": {},
   "source": [
    "<div id=\"Questão-4\"></div>\n",
    "\n",
    "---\n",
    "\n",
    "## Questão 4\n",
    "\n",
    "a) **[1,25 ponto]** Construa uma variavel (do Python) que guarda a série de preço mediano de imóveis por andar."
   ]
  },
  {
   "cell_type": "code",
   "execution_count": 75,
   "metadata": {},
   "outputs": [
    {
     "name": "stdout",
     "output_type": "stream",
     "text": [
      "andar\n",
      "0     2500.0\n",
      "1     2065.0\n",
      "2     1938.5\n",
      "3     2000.0\n",
      "4     2500.0\n",
      "5     2500.0\n",
      "6     2700.0\n",
      "7     2900.0\n",
      "8     3000.0\n",
      "9     2970.0\n",
      "10    3200.0\n",
      "11    3000.0\n",
      "12    3250.0\n",
      "13    3700.0\n",
      "14    3300.0\n",
      "15    3445.0\n",
      "16    3500.0\n",
      "17    4000.0\n",
      "18    4200.0\n",
      "19    4700.0\n",
      "20    5130.0\n",
      "21    4800.0\n",
      "22    5500.0\n",
      "23    3800.0\n",
      "24    4000.0\n",
      "25    2200.0\n",
      "26    2300.0\n",
      "27    5664.0\n",
      "28    5000.0\n",
      "29    8500.0\n",
      "Name: aluguel, dtype: float64\n"
     ]
    }
   ],
   "source": [
    "# Escreva seu código aqui.\n",
    "#Construa uma variável (do Python) que guarda a série de preço mediano do ALUGUEL de imóveis por andar.\n",
    "\n",
    "preco_mediano_andar = dados.groupby('andar')['aluguel'].median()\n",
    "print(preco_mediano_andar)\n",
    "\n"
   ]
  },
  {
   "cell_type": "markdown",
   "metadata": {},
   "source": [
    "b) **[1,0 ponto]** Avalie a validade da seguinte afirmação: \"Geralmente, quanto mais alto o andar, mais caro o aluguel\". Esta afirmação é perfeitamente válida, inválida, ou requer mais investigação? Explique."
   ]
  },
  {
   "cell_type": "markdown",
   "metadata": {},
   "source": [
    "**R:** Para a situação analisada não se pode dizer que a frase está completamente inválida, embora se perceba que a mediana de aluguel do andar 0 é maior do que a mediana de aluguel do segundo andar, por exemplo. Porém, essa afirmação requer mais investigação, uma vez que o preço do aluguel não depende apenas do andar, mas também do número de cômodos, da localização, da área, entre outros fatores."
   ]
  },
  {
   "cell_type": "markdown",
   "metadata": {},
   "source": [
    "<div id=\"Questão-5\"></div>\n",
    "\n",
    "---\n",
    "\n",
    "## Questão 5\n",
    "\n",
    "**[1,25 ponto]** Avalie a validade da seguinte afirmação: \"Quanto maior o aluguel, maior o condomínio\". Desenvolva tanto uma visualização adequada, como uma medida numérica apropriada, antes de construir sua análise."
   ]
  },
  {
   "cell_type": "code",
   "execution_count": 76,
   "metadata": {},
   "outputs": [
    {
     "data": {
      "image/png": "[encoded data removed]",
      "text/plain": [
       "<Figure size 432x288 with 1 Axes>"
      ]
     },
     "metadata": {
      "needs_background": "light"
     },
     "output_type": "display_data"
    },
    {
     "name": "stdout",
     "output_type": "stream",
     "text": [
      "Essa é a correlação do aluguel e condominio: 0.6674137918489432\n"
     ]
    }
   ],
   "source": [
    "# Escreva seu código aqui.\n",
    "plt.scatter(dados.aluguel, dados.condominio)\n",
    "plt.title('gráfico de dispersão de aluguel por condominio')\n",
    "plt.xlabel('preço do aluguel')\n",
    "plt.ylabel('preço do condominio')\n",
    "plt.show()\n",
    "\n",
    "\n",
    "corr_aluguel_condominio = dados.aluguel.corr(dados.condominio)\n",
    "print('Essa é a correlação do aluguel e condominio: {0}'.format(corr_aluguel_condominio))"
   ]
  },
  {
   "cell_type": "markdown",
   "metadata": {},
   "source": [
    "**R:** Olhando o gráfico, visualmente parece sim uma associação positiva, na qual quanto maior o preço do aluguel, maior será o condomínio, bem como parece ser uma associação moderada/forte por concentrar bastante os pontos. Porém, para certificar-se disso, é necessário calcular a correlação entre essas duas variáveis. Através do valor obtido, pode-se afirmar que a associação é positiva e moderada, isso se considerarmos que: correlação menor do que 0,3 é fraca, correlação entre 0,3 e 0,7 é moderada e correlação maior ou igual a 0,7 é forte. "
   ]
  },
  {
   "cell_type": "code",
   "execution_count": null,
   "metadata": {},
   "outputs": [],
   "source": []
  }
 ],
 "metadata": {
  "kernelspec": {
   "display_name": "Python 3",
   "language": "python",
   "name": "python3"
  },
  "language_info": {
   "codemirror_mode": {
    "name": "ipython",
    "version": 3
   },
   "file_extension": ".py",
   "mimetype": "text/x-python",
   "name": "python",
   "nbconvert_exporter": "python",
   "pygments_lexer": "ipython3",
   "version": "3.7.6"
  }
 },
 "nbformat": 4,
 "nbformat_minor": 4
}
