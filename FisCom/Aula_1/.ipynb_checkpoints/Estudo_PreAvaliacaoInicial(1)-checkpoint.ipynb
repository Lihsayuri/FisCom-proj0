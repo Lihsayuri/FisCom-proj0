{
 "cells": [
  {
   "cell_type": "markdown",
   "metadata": {},
   "source": [
    "# Bons estudos ⌛💻📊📚\n",
    "___\n"
   ]
  },
  {
   "cell_type": "markdown",
   "metadata": {},
   "source": [
    "\n",
    "### Esta Avaliação Inicial de Ciência dos dados foi aplicada em 2020 - 1o. semestre\n"
   ]
  },
  {
   "cell_type": "markdown",
   "metadata": {},
   "source": [
    "___\n",
    "## Índice\n",
    "\n",
    "- [Titanic](#titanic)\n",
    "- [Questão 1](#q1)\n",
    "- [Questão 2](#q2)\n",
    "- [Questão 3](#q3)\n",
    "- [Questão 4](#q4)\n",
    "- [Questão 5](#q5)\n",
    "___"
   ]
  },
  {
   "cell_type": "markdown",
   "metadata": {},
   "source": [
    "<div id=\"titanic\"></div>\n",
    "\n",
    "## Titanic\n",
    "\n",
    "Entre as muitas competições disponíveis na plataforma Kaggle, encontra-se a de *Machine Learning* do Titanic conforme apresentado neste [link](https://www.kaggle.com/c/titanic/data).\n",
    "\n",
    "A base de dados apresentada no arquivo `titanic.xlsx` contém informação de 891 passageiros para os quais foram mensurados as seguintes informações (as categorias serão mantidas em inglês assim como os nomes das variáveis):\n",
    " \n",
    " * `Survived`: indica se passageiro sobreviveu ou não.\n",
    "    - 0 = No,\n",
    "    - 1 = Yes.\n",
    " * `Pclass`: indica a classe da passagem (*ticket*).\n",
    "    - 1 = 1st, \n",
    "    - 2 = 2nd, \n",
    "    - 3 = 3rd.\n",
    " * `Sex`: sexo do passageiro. \n",
    "    - female,\n",
    "    - male.\n",
    " * `Age`: idade em anos.\n",
    " * `Sibsp`: número de irmãos e/ou cônjuges a bordo do Titanic.\n",
    " * `Parch`: número de pais e/ou filhos a bordo do Titanic.\n",
    " * `Ticket`: número do *ticket*.\n",
    " * `Fare`: tarifa do passageiro.\n",
    " * `Cabin`: número da cabine.\n",
    " * `Embarked`: portão de embarque.\n",
    "    - C = Cherbourg, \n",
    "    - Q = Queenstown, \n",
    "    - S = Southampton.\n",
    "\n",
    "\n",
    "**Notas:**\n",
    "A variável `Pclass` pode ser considerada uma *proxy* da situação socioeconômico do passageiro, ou seja, \n",
    "1st = Upper, 2nd = Middle,  3rd = Lower.\n"
   ]
  },
  {
   "cell_type": "markdown",
   "metadata": {},
   "source": [
    "___\n",
    "Carregando algumas bibliotecas:"
   ]
  },
  {
   "cell_type": "code",
   "execution_count": 2,
   "metadata": {},
   "outputs": [],
   "source": [
    "%matplotlib inline\n",
    "import pandas as pd\n",
    "import matplotlib.pyplot as plt\n",
    "import numpy as np\n",
    "import os\n",
    "\n",
    "from IPython.display import display"
   ]
  },
  {
   "cell_type": "code",
   "execution_count": 3,
   "metadata": {},
   "outputs": [
    {
     "name": "stdout",
     "output_type": "stream",
     "text": [
      "Esperamos trabalhar no diretório\n",
      "C:\\Users\\sayur\\Downloads\n"
     ]
    }
   ],
   "source": [
    "print('Esperamos trabalhar no diretório')\n",
    "print(os.getcwd())"
   ]
  },
  {
   "cell_type": "markdown",
   "metadata": {},
   "source": [
    "Carregando os dados do arquivo `titanic.xlsx`:"
   ]
  },
  {
   "cell_type": "code",
   "execution_count": 4,
   "metadata": {},
   "outputs": [],
   "source": [
    "titanic = pd.read_excel('titanic(1).xlsx')"
   ]
  },
  {
   "cell_type": "markdown",
   "metadata": {},
   "source": [
    "Para facilitar algumas análises nesta **Avaliação**, vamos excluir os passageiros que não possuem informação para a variável `Age` usando o comando `dropna()`:"
   ]
  },
  {
   "cell_type": "code",
   "execution_count": 5,
   "metadata": {},
   "outputs": [],
   "source": [
    "dados = titanic.dropna(subset = ['Age']).copy()"
   ]
  },
  {
   "cell_type": "markdown",
   "metadata": {},
   "source": [
    "Para saber quantas linhas (passageiros) e colunas (variáveis) há no *DataFrame* nomeado `dados`:"
   ]
  },
  {
   "cell_type": "code",
   "execution_count": 6,
   "metadata": {},
   "outputs": [
    {
     "data": {
      "text/plain": [
       "(714, 12)"
      ]
     },
     "execution_count": 6,
     "metadata": {},
     "output_type": "execute_result"
    }
   ],
   "source": [
    "dados.shape"
   ]
  },
  {
   "cell_type": "markdown",
   "metadata": {},
   "source": [
    "___\n",
    "**Definindo as variáveis qualitativas como categóricas:**\n",
    "\n",
    "O pandas não tem como saber quais variáveis são qualitativas ao carregar os dados. Então precisamos modificar as colunas explicitamente.\n",
    "\n",
    "Já deixamos isso pronto para você nesta avaliação:"
   ]
  },
  {
   "cell_type": "code",
   "execution_count": 7,
   "metadata": {},
   "outputs": [],
   "source": [
    "dados.loc[:,'Survived'] = dados['Survived'].astype('category')\n",
    "dados.loc[:,'Pclass'] = dados['Pclass'].astype('category')\n",
    "dados.loc[:,'Sex'] = dados['Sex'].astype('category')\n",
    "dados.loc[:,'Cabin'] = dados['Cabin'].astype('category')\n",
    "dados.loc[:,'Embarked'] = dados['Embarked'].astype('category')"
   ]
  },
  {
   "cell_type": "markdown",
   "metadata": {},
   "source": [
    "Agora vamos renomear os rótulos das variáveis qualitativas `Survived` e `Pclass` com comando: `.cat.categories`:"
   ]
  },
  {
   "cell_type": "code",
   "execution_count": 8,
   "metadata": {},
   "outputs": [],
   "source": [
    "dados.Survived.cat.categories = ['No', 'Yes']\n",
    "dados.Pclass.cat.categories = ['1st','2nd','3rd']"
   ]
  },
  {
   "cell_type": "markdown",
   "metadata": {},
   "source": [
    "___\n",
    "***DataFrame* `dados` que deve considerar na resolução das questões a seguir:**"
   ]
  },
  {
   "cell_type": "code",
   "execution_count": 9,
   "metadata": {},
   "outputs": [
    {
     "data": {
      "text/html": [
       "<div>\n",
       "<style scoped>\n",
       "    .dataframe tbody tr th:only-of-type {\n",
       "        vertical-align: middle;\n",
       "    }\n",
       "\n",
       "    .dataframe tbody tr th {\n",
       "        vertical-align: top;\n",
       "    }\n",
       "\n",
       "    .dataframe thead th {\n",
       "        text-align: right;\n",
       "    }\n",
       "</style>\n",
       "<table border=\"1\" class=\"dataframe\">\n",
       "  <thead>\n",
       "    <tr style=\"text-align: right;\">\n",
       "      <th></th>\n",
       "      <th>PassengerId</th>\n",
       "      <th>Survived</th>\n",
       "      <th>Pclass</th>\n",
       "      <th>Name</th>\n",
       "      <th>Sex</th>\n",
       "      <th>Age</th>\n",
       "      <th>SibSp</th>\n",
       "      <th>Parch</th>\n",
       "      <th>Ticket</th>\n",
       "      <th>Fare</th>\n",
       "      <th>Cabin</th>\n",
       "      <th>Embarked</th>\n",
       "    </tr>\n",
       "  </thead>\n",
       "  <tbody>\n",
       "    <tr>\n",
       "      <th>0</th>\n",
       "      <td>1</td>\n",
       "      <td>No</td>\n",
       "      <td>3rd</td>\n",
       "      <td>Braund, Mr. Owen Harris</td>\n",
       "      <td>male</td>\n",
       "      <td>22.0</td>\n",
       "      <td>1</td>\n",
       "      <td>0</td>\n",
       "      <td>A/5 21171</td>\n",
       "      <td>7.2500</td>\n",
       "      <td>NaN</td>\n",
       "      <td>S</td>\n",
       "    </tr>\n",
       "    <tr>\n",
       "      <th>1</th>\n",
       "      <td>2</td>\n",
       "      <td>Yes</td>\n",
       "      <td>1st</td>\n",
       "      <td>Cumings, Mrs. John Bradley (Florence Briggs Th...</td>\n",
       "      <td>female</td>\n",
       "      <td>38.0</td>\n",
       "      <td>1</td>\n",
       "      <td>0</td>\n",
       "      <td>PC 17599</td>\n",
       "      <td>71.2833</td>\n",
       "      <td>C85</td>\n",
       "      <td>C</td>\n",
       "    </tr>\n",
       "    <tr>\n",
       "      <th>2</th>\n",
       "      <td>3</td>\n",
       "      <td>Yes</td>\n",
       "      <td>3rd</td>\n",
       "      <td>Heikkinen, Miss. Laina</td>\n",
       "      <td>female</td>\n",
       "      <td>26.0</td>\n",
       "      <td>0</td>\n",
       "      <td>0</td>\n",
       "      <td>STON/O2. 3101282</td>\n",
       "      <td>7.9250</td>\n",
       "      <td>NaN</td>\n",
       "      <td>S</td>\n",
       "    </tr>\n",
       "  </tbody>\n",
       "</table>\n",
       "</div>"
      ],
      "text/plain": [
       "   PassengerId Survived Pclass  \\\n",
       "0            1       No    3rd   \n",
       "1            2      Yes    1st   \n",
       "2            3      Yes    3rd   \n",
       "\n",
       "                                                Name     Sex   Age  SibSp  \\\n",
       "0                            Braund, Mr. Owen Harris    male  22.0      1   \n",
       "1  Cumings, Mrs. John Bradley (Florence Briggs Th...  female  38.0      1   \n",
       "2                             Heikkinen, Miss. Laina  female  26.0      0   \n",
       "\n",
       "   Parch            Ticket     Fare Cabin Embarked  \n",
       "0      0         A/5 21171   7.2500   NaN        S  \n",
       "1      0          PC 17599  71.2833   C85        C  \n",
       "2      0  STON/O2. 3101282   7.9250   NaN        S  "
      ]
     },
     "execution_count": 9,
     "metadata": {},
     "output_type": "execute_result"
    }
   ],
   "source": [
    "dados.head(3)"
   ]
  },
  {
   "cell_type": "markdown",
   "metadata": {},
   "source": [
    "<div id=\"q1\"></div>\n",
    "\n",
    "___\n",
    "### Questão 1"
   ]
  },
  {
   "cell_type": "markdown",
   "metadata": {},
   "source": [
    "Faça as seguintes manipulações:\n",
    " 1. **[1 ponto]** Filtre apenas as linhas dos passageiros que **viajaram na segunda classe** e que **sobreviveram** e selecione as variáveis: `Age` e `Fare`. Guarde esse subconjunto em um novo *DataFrame* chamado `surv`.\n",
    " \n",
    " $\\hspace{0.5mm}$\n",
    " 1. **[1 ponto]** Nesse subconjunto `surv`, encontre o passageiro que pagou o maior valor de tarifa. Se houver mais de um, encontre o mais velho. **No Blackboard, preencha a idade e o valor da tarifa desse passageiro conforme valores encontrados neste item.**"
   ]
  },
  {
   "cell_type": "code",
   "execution_count": 10,
   "metadata": {},
   "outputs": [
    {
     "data": {
      "text/html": [
       "<div>\n",
       "<style scoped>\n",
       "    .dataframe tbody tr th:only-of-type {\n",
       "        vertical-align: middle;\n",
       "    }\n",
       "\n",
       "    .dataframe tbody tr th {\n",
       "        vertical-align: top;\n",
       "    }\n",
       "\n",
       "    .dataframe thead th {\n",
       "        text-align: right;\n",
       "    }\n",
       "</style>\n",
       "<table border=\"1\" class=\"dataframe\">\n",
       "  <thead>\n",
       "    <tr style=\"text-align: right;\">\n",
       "      <th></th>\n",
       "      <th>Age</th>\n",
       "      <th>Fare</th>\n",
       "    </tr>\n",
       "  </thead>\n",
       "  <tbody>\n",
       "    <tr>\n",
       "      <th>615</th>\n",
       "      <td>24.0</td>\n",
       "      <td>65.0000</td>\n",
       "    </tr>\n",
       "    <tr>\n",
       "      <th>754</th>\n",
       "      <td>48.0</td>\n",
       "      <td>65.0000</td>\n",
       "    </tr>\n",
       "    <tr>\n",
       "      <th>43</th>\n",
       "      <td>3.0</td>\n",
       "      <td>41.5792</td>\n",
       "    </tr>\n",
       "    <tr>\n",
       "      <th>608</th>\n",
       "      <td>22.0</td>\n",
       "      <td>41.5792</td>\n",
       "    </tr>\n",
       "    <tr>\n",
       "      <th>618</th>\n",
       "      <td>4.0</td>\n",
       "      <td>39.0000</td>\n",
       "    </tr>\n",
       "    <tr>\n",
       "      <th>...</th>\n",
       "      <td>...</td>\n",
       "      <td>...</td>\n",
       "    </tr>\n",
       "    <tr>\n",
       "      <th>458</th>\n",
       "      <td>50.0</td>\n",
       "      <td>10.5000</td>\n",
       "    </tr>\n",
       "    <tr>\n",
       "      <th>226</th>\n",
       "      <td>19.0</td>\n",
       "      <td>10.5000</td>\n",
       "    </tr>\n",
       "    <tr>\n",
       "      <th>570</th>\n",
       "      <td>62.0</td>\n",
       "      <td>10.5000</td>\n",
       "    </tr>\n",
       "    <tr>\n",
       "      <th>526</th>\n",
       "      <td>50.0</td>\n",
       "      <td>10.5000</td>\n",
       "    </tr>\n",
       "    <tr>\n",
       "      <th>84</th>\n",
       "      <td>17.0</td>\n",
       "      <td>10.5000</td>\n",
       "    </tr>\n",
       "  </tbody>\n",
       "</table>\n",
       "<p>83 rows × 2 columns</p>\n",
       "</div>"
      ],
      "text/plain": [
       "      Age     Fare\n",
       "615  24.0  65.0000\n",
       "754  48.0  65.0000\n",
       "43    3.0  41.5792\n",
       "608  22.0  41.5792\n",
       "618   4.0  39.0000\n",
       "..    ...      ...\n",
       "458  50.0  10.5000\n",
       "226  19.0  10.5000\n",
       "570  62.0  10.5000\n",
       "526  50.0  10.5000\n",
       "84   17.0  10.5000\n",
       "\n",
       "[83 rows x 2 columns]"
      ]
     },
     "execution_count": 10,
     "metadata": {},
     "output_type": "execute_result"
    }
   ],
   "source": [
    "# Coloque seu código aqui...\n",
    "#1 dados filtrados\n",
    "Filtrar = (dados['Pclass'] == \"2nd\")&(dados['Survived'] == \"Yes\")\n",
    "surv = dados.loc[Filtrar,['Age','Fare']]\n",
    "\n",
    "#2\n",
    "maior_valor = surv.sort_values(['Fare'],ascending=False)\n",
    "maior_valor\n",
    "\n",
    "#idade = 48/ valor da tarifa= 65.0000"
   ]
  },
  {
   "cell_type": "markdown",
   "metadata": {},
   "source": [
    "<div id=\"q2\"></div>\n",
    "\n",
    "___\n",
    "### Questão 2"
   ]
  },
  {
   "cell_type": "markdown",
   "metadata": {},
   "source": [
    "Faça as seguintes manipulações considerando o *DataFrame* `dados`:\n",
    "  1. **[1 ponto]** Crie uma variável chamada `Age_group` que contenha as seguintes categorias a partir da variável `Age`:\n",
    "        * `Age` $<20$ years $\\rightarrow$ **child or teen**\n",
    "        * $20\\leq$ `Age` $<60$ years $\\rightarrow$ **adult**\n",
    "        * `Age` $\\geq60$ years $\\rightarrow$ **senior**\n",
    "  \n",
    "  $\\hspace{0.5mm}$\n",
    "  1. **[1 ponto]** Construa uma tabela de **frequências relativas** dessa nova variável `Age_group`. **No Blackboard, preencha as informações corretas correspondentes a tabela de frequências relativas geradas neste item.**"
   ]
  },
  {
   "cell_type": "code",
   "execution_count": 18,
   "metadata": {},
   "outputs": [
    {
     "data": {
      "text/plain": [
       "child or teen    0.229692\n",
       "adult            0.733894\n",
       "senior           0.036415\n",
       "Name: Age_group, dtype: float64"
      ]
     },
     "execution_count": 18,
     "metadata": {},
     "output_type": "execute_result"
    }
   ],
   "source": [
    "# Coloque seu código aqui...\n",
    "Kiddo = dados['Age']<20 \n",
    "Adult = (dados['Age']>=20) & (dados['Age']<60)\n",
    "Senior = dados['Age']>=60\n",
    "dados.loc [Kiddo,'Age_group'] = 'child or teen'\n",
    "dados.loc [Adult,'Age_group'] = 'adult'\n",
    "dados.loc [Senior,'Age_group'] = 'senior'\n",
    "\n",
    "\n",
    "dados.Age_group= pd.Categorical (dados.Age_group, categories = ['child or teen', 'adult', 'senior'], ordered=True)\n",
    "\n",
    "dados['Age_group'].value_counts(normalize=True, sort=False)\n"
   ]
  },
  {
   "cell_type": "markdown",
   "metadata": {},
   "source": [
    "<div id=\"q3\"></div>\n",
    "\n",
    "___\n",
    "### Questão 3"
   ]
  },
  {
   "cell_type": "markdown",
   "metadata": {},
   "source": [
    "Faça as seguintes manipulações considerando o *DataFrame* `dados`:\n",
    "  1. **[1 ponto]** Crie uma tabela cruzada com as variáveis `Survived` e `Pclass` que contenha **as frequências relativas** que permitam visualizar o percentual de passageiros em cada categoria de `Pclass` **relativo ao total de passageiros em cada nível de `Survived`**.\n",
    "  \n",
    "  $\\hspace{0.5mm}$\n",
    "  1. **[1 ponto]** **No Blackboard, preencha as informações corretas correspondentes a tabela de frequências relativas geradas no item anterior.**\n"
   ]
  },
  {
   "cell_type": "code",
   "execution_count": 12,
   "metadata": {},
   "outputs": [
    {
     "data": {
      "text/html": [
       "<div>\n",
       "<style scoped>\n",
       "    .dataframe tbody tr th:only-of-type {\n",
       "        vertical-align: middle;\n",
       "    }\n",
       "\n",
       "    .dataframe tbody tr th {\n",
       "        vertical-align: top;\n",
       "    }\n",
       "\n",
       "    .dataframe thead th {\n",
       "        text-align: right;\n",
       "    }\n",
       "</style>\n",
       "<table border=\"1\" class=\"dataframe\">\n",
       "  <thead>\n",
       "    <tr style=\"text-align: right;\">\n",
       "      <th>Pclass</th>\n",
       "      <th>1st</th>\n",
       "      <th>2nd</th>\n",
       "      <th>3rd</th>\n",
       "    </tr>\n",
       "    <tr>\n",
       "      <th>Survived</th>\n",
       "      <th></th>\n",
       "      <th></th>\n",
       "      <th></th>\n",
       "    </tr>\n",
       "  </thead>\n",
       "  <tbody>\n",
       "    <tr>\n",
       "      <th>No</th>\n",
       "      <td>0.150943</td>\n",
       "      <td>0.212264</td>\n",
       "      <td>0.636792</td>\n",
       "    </tr>\n",
       "    <tr>\n",
       "      <th>Yes</th>\n",
       "      <td>0.420690</td>\n",
       "      <td>0.286207</td>\n",
       "      <td>0.293103</td>\n",
       "    </tr>\n",
       "    <tr>\n",
       "      <th>All</th>\n",
       "      <td>0.260504</td>\n",
       "      <td>0.242297</td>\n",
       "      <td>0.497199</td>\n",
       "    </tr>\n",
       "  </tbody>\n",
       "</table>\n",
       "</div>"
      ],
      "text/plain": [
       "Pclass         1st       2nd       3rd\n",
       "Survived                              \n",
       "No        0.150943  0.212264  0.636792\n",
       "Yes       0.420690  0.286207  0.293103\n",
       "All       0.260504  0.242297  0.497199"
      ]
     },
     "execution_count": 12,
     "metadata": {},
     "output_type": "execute_result"
    }
   ],
   "source": [
    "# Coloque seu código aqui...\n",
    "pd.crosstab(dados[\"Survived\"],dados[\"Pclass\"],normalize = 'index',margins=True) #margins = total. index = vê a\n",
    "#frequencia relativa da primeira segunda e terceira classe em relação ao total do que sobreviveu (linha) "
   ]
  },
  {
   "cell_type": "markdown",
   "metadata": {},
   "source": [
    "<div id=\"q4\"></div>\n",
    "\n",
    "___\n",
    "### Questão 4"
   ]
  },
  {
   "cell_type": "markdown",
   "metadata": {},
   "source": [
    "Faça as seguintes manipulações considerando o *DataFrame* `dados`:\n",
    "\n",
    "  1. **[1 ponto]** Para **cada nível da variável `Survived`**, crie uma tabela com medidas-resumo da variável `Fare`.\n",
    "  \n",
    "  $\\hspace{0.5mm}$\n",
    "  1. **[1 ponto]** **No Blackboard, verifique quais afirmações estão corretas de acordo com as medidas-resumo calculadas no item anterior.**"
   ]
  },
  {
   "cell_type": "code",
   "execution_count": 13,
   "metadata": {},
   "outputs": [
    {
     "data": {
      "text/plain": [
       "[count    424.000000\n",
       " mean      22.965456\n",
       " std       31.448825\n",
       " min        0.000000\n",
       " 25%        7.895800\n",
       " 50%       11.887500\n",
       " 75%       26.550000\n",
       " max      263.000000\n",
       " Name: Fare, dtype: float64]"
      ]
     },
     "metadata": {},
     "output_type": "display_data"
    },
    {
     "data": {
      "text/plain": [
       "[count    290.000000\n",
       " mean      51.843205\n",
       " std       70.458776\n",
       " min        0.000000\n",
       " 25%       13.000000\n",
       " 50%       26.250000\n",
       " 75%       66.200000\n",
       " max      512.329200\n",
       " Name: Fare, dtype: float64]"
      ]
     },
     "metadata": {},
     "output_type": "display_data"
    },
    {
     "data": {
      "text/html": [
       "<div>\n",
       "<style scoped>\n",
       "    .dataframe tbody tr th:only-of-type {\n",
       "        vertical-align: middle;\n",
       "    }\n",
       "\n",
       "    .dataframe tbody tr th {\n",
       "        vertical-align: top;\n",
       "    }\n",
       "\n",
       "    .dataframe thead th {\n",
       "        text-align: right;\n",
       "    }\n",
       "</style>\n",
       "<table border=\"1\" class=\"dataframe\">\n",
       "  <thead>\n",
       "    <tr style=\"text-align: right;\">\n",
       "      <th></th>\n",
       "      <th>count</th>\n",
       "      <th>mean</th>\n",
       "      <th>std</th>\n",
       "      <th>min</th>\n",
       "      <th>25%</th>\n",
       "      <th>50%</th>\n",
       "      <th>75%</th>\n",
       "      <th>max</th>\n",
       "    </tr>\n",
       "    <tr>\n",
       "      <th>Survived</th>\n",
       "      <th></th>\n",
       "      <th></th>\n",
       "      <th></th>\n",
       "      <th></th>\n",
       "      <th></th>\n",
       "      <th></th>\n",
       "      <th></th>\n",
       "      <th></th>\n",
       "    </tr>\n",
       "  </thead>\n",
       "  <tbody>\n",
       "    <tr>\n",
       "      <th>No</th>\n",
       "      <td>424.0</td>\n",
       "      <td>22.965456</td>\n",
       "      <td>31.448825</td>\n",
       "      <td>0.0</td>\n",
       "      <td>7.8958</td>\n",
       "      <td>11.8875</td>\n",
       "      <td>26.55</td>\n",
       "      <td>263.0000</td>\n",
       "    </tr>\n",
       "    <tr>\n",
       "      <th>Yes</th>\n",
       "      <td>290.0</td>\n",
       "      <td>51.843205</td>\n",
       "      <td>70.458776</td>\n",
       "      <td>0.0</td>\n",
       "      <td>13.0000</td>\n",
       "      <td>26.2500</td>\n",
       "      <td>66.20</td>\n",
       "      <td>512.3292</td>\n",
       "    </tr>\n",
       "  </tbody>\n",
       "</table>\n",
       "</div>"
      ],
      "text/plain": [
       "          count       mean        std  min      25%      50%    75%       max\n",
       "Survived                                                                     \n",
       "No        424.0  22.965456  31.448825  0.0   7.8958  11.8875  26.55  263.0000\n",
       "Yes       290.0  51.843205  70.458776  0.0  13.0000  26.2500  66.20  512.3292"
      ]
     },
     "execution_count": 13,
     "metadata": {},
     "output_type": "execute_result"
    }
   ],
   "source": [
    "# Coloque seu código aqui...\n",
    "Nao = dados['Survived']=='No'\n",
    "Sim = dados['Survived'] == 'Yes'\n",
    "renda_nao = dados.loc[Nao,['Fare']]\n",
    "renda_sim = dados.loc[Sim,['Fare']]\n",
    "\n",
    "display([renda_nao['Fare'].describe()])\n",
    "display([renda_sim['Fare'].describe()])\n",
    "\n",
    "dados.groupby('Survived')['Fare'].describe()\n"
   ]
  },
  {
   "cell_type": "markdown",
   "metadata": {},
   "source": [
    "<div id=\"q5\"></div>\n",
    "\n",
    "___\n",
    "### Questão 5"
   ]
  },
  {
   "cell_type": "markdown",
   "metadata": {},
   "source": [
    "Estude a associação entre as variáveis `Age` e `Fare` separando os passageiros sobreviventes dos não sobreviventes.\n",
    "\n",
    "É possível afirmar, por exemplo, que pessoas mais velhas tendem a pagar por tarifas mais caras? E a associação entre essas variáveis quantitativas se dá da mesma forma entre os sobreviventes e não sobreviventes?\n",
    "\n",
    "Para investigar tais hipóteses, faça:\n",
    "\n",
    " 1. **[0.5 ponto]** Gere um **gráfico de dispersão** entre as variáveis `Age` e `Fare` considerando os passageiros sobreviventes e não sobreviventes separadamente.\n",
    " \n",
    " $\\hspace{0.5mm}$\n",
    " 1. **[0.5 ponto]** Calcule o **coeficiente de correlação linear** entre as variáveis `Age` e `Fare` só com os passageiros não sobreviventes. E a correlação só com os sobreviventes.\n",
    " \n",
    " $\\hspace{0.5mm}$\n",
    " 1. **[1 ponto]** **No Blackboard, responda as perguntas com base nos resultados dos itens anteriores.**"
   ]
  },
  {
   "cell_type": "code",
   "execution_count": 16,
   "metadata": {},
   "outputs": [
    {
     "data": {
      "image/png": "[encoded data removed]",
      "text/plain": [
       "<Figure size 432x288 with 1 Axes>"
      ]
     },
     "metadata": {
      "needs_background": "light"
     },
     "output_type": "display_data"
    },
    {
     "data": {
      "image/png": "[encoded data removed]",
      "text/plain": [
       "<Figure size 432x288 with 1 Axes>"
      ]
     },
     "metadata": {
      "needs_background": "light"
     },
     "output_type": "display_data"
    },
    {
     "name": "stdout",
     "output_type": "stream",
     "text": [
      "0.07685237467572215\n",
      "0.162647832799764\n"
     ]
    }
   ],
   "source": [
    "# Coloque seu código aqui...\n",
    "Nao = dados['Survived']=='No'\n",
    "Sim = dados['Survived'] == 'Yes'\n",
    "renda_nao = dados.loc[Nao,['Age','Fare']]\n",
    "renda_sim = dados.loc[Sim,['Age','Fare']]\n",
    "\n",
    "\n",
    "plt.scatter(renda_nao.Age,renda_nao.Fare, c='red',alpha=0.4)\n",
    "plt.title('Renda versus idade : MORRERAM')\n",
    "plt.xlabel('Idade')\n",
    "plt.ylabel('Renda')\n",
    "plt.xlim(-5,85)\n",
    "plt.ylim(0,300)\n",
    "plt.show()\n",
    "\n",
    "plt.scatter(renda_sim.Age,renda_sim.Fare, c='red',alpha=0.4)\n",
    "plt.title('Renda versus idade : SOBREVIVERAM')\n",
    "plt.xlabel('Idade')\n",
    "plt.ylabel('Renda')\n",
    "plt.xlim(-5,85)\n",
    "plt.ylim(0,300)\n",
    "plt.show()\n",
    "\n",
    "#print(renda_nao.Age.describe())\n",
    "#print(renda_sim.Age.describe())\n",
    "\n",
    "\n",
    "print(renda_nao.Age.corr(renda_nao.Fare))\n",
    "print(renda_sim.Age.corr(renda_sim.Fare))"
   ]
  },
  {
   "cell_type": "code",
   "execution_count": null,
   "metadata": {},
   "outputs": [],
   "source": []
  }
 ],
 "metadata": {
  "kernelspec": {
   "display_name": "Python 3",
   "language": "python",
   "name": "python3"
  },
  "language_info": {
   "codemirror_mode": {
    "name": "ipython",
    "version": 3
   },
   "file_extension": ".py",
   "mimetype": "text/x-python",
   "name": "python",
   "nbconvert_exporter": "python",
   "pygments_lexer": "ipython3",
   "version": "3.7.6"
  }
 },
 "nbformat": 4,
 "nbformat_minor": 4
}
