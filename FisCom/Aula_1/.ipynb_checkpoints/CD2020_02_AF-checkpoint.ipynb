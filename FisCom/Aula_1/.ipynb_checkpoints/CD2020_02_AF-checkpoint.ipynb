{
 "cells": [
  {
   "cell_type": "markdown",
   "metadata": {},
   "source": [
    "# Avaliação Final de Ciência dos dados \n",
    "\n",
    "## 2020 - 2o. semestre \n",
    "\n",
    "___\n"
   ]
  },
  {
   "cell_type": "markdown",
   "metadata": {},
   "source": [
    "Lívia Sayuri Makuta - 2º Semestre - Turma C"
   ]
  },
  {
   "cell_type": "markdown",
   "metadata": {},
   "source": [
    "___\n",
    "## Instruções\n",
    "\n",
    "**Leia atentamente as instruções desta avaliação. Essas devem ser seguidas rigorosamente!**\n",
    "\n",
    "**Prezado(a) Aluno(a),**\n",
    "\n",
    "Você terá **135 minutos** a partir do início oficial da prova (**às 9h00 do dia 01/12**) para concluir esta avaliação, administre bem o seu tempo. \n",
    "\n",
    "Esta avaliação terá as seguintes etapas:\n",
    "\n",
    "**9h00 às 9h05**\n",
    "       \n",
    " * **(1 minuto) - Geral do TEAMS:** às 9h00 já esteja na equipe de Ciência dos dados (canal Geral) para receber instruções. Não ingressar na reunião no Teams para poupar sua internet e de todos, apenas esteja atento ao chat do canal Geral.\n",
    " * **(3 minutos) - PROCTORIO:** Entre no Blackboard e inicie o teste em `Conteúdos/Avaliações/Avaliação Final/AF (ativar Proctorio)`. Caso não ative esse teste em até 15 minutos do início da prova (ou seja, até às 9h15), não terá mais direito de entregar essa prova, obtendo falta na mesma.\n",
    " * **(1 minuto) - Prova no servidor:** Entre no seu e-mail do Insper para saber o site e senha para ter acesso a sua prova. TRABALHE OBRIGATORIAMENTE NO SERVIDOR O QUAL GARANTE UMA CÓPIA DO SUA PROVA - BACKUP.\n",
    "\n",
    "\n",
    "**9h05 às 11h20**  \n",
    "\n",
    " * **(135 minutos) - Desenvolvimento da prova:** Concentre-se em resolver o notebook.\n",
    " * ATENÇÃO: administre esse tempo da maneira que julgar mais adequada para você.Não use o cronômetro do Proctorio como referência e sim o tempo 135 minutos de prova a partir das 9h05.\n",
    "\n",
    "\n",
    "**11h20 às 11h30**  \n",
    " * **(10 minutos) - Entrega via Blackboard - Notebook:** O arquivo `.ipynb` deve ser entregue em `Conteúdos/Avaliações/Avaliação Final/Entrega da prova`. \n",
    " * ATENÇÃO: finalize o proctorio **APENAS após anexar** a prova no Blackboard.\n",
    "\n",
    "<br>\n",
    "\n",
    "Leia atentamente as instruções a seguir e as questões da prova antes de começar a resolvê-la.\n",
    "\n",
    "#### Avisos GERAIS: \n",
    "\n",
    "1. Identifique-se no cabeçalho deste arquivo. Essa prova é INDIVIDUAL.\n",
    "1. Você terá 135 minutos a partir do início oficial da prova para concluir esta avaliação, administre bem o seu tempo. Leia atentamente as instruções a seguir e as questões da prova antes de começar a resolvê-la. \n",
    "\n",
    "1. Esta avaliação **permite consulta de material do Blackboard, material on-line (usar navegador para pesquisas no Google, por exemplo) e material físico**. Especificamente para esta avaliação,**não é permitida a consulta a colegas (presencial ou remotamente), ou seja, não é permitido ter alguém ao se lado assim como não é permitido conversar pelo WhatsApp, enviar e-mail ou qualquer outro formato em que converse com outra pessoa**. **O desrespeito a esta regra constituirá violação ao Código de Ética e de Conduta e acarretará sanções nele previstas. Faça o seu trabalho de maneira ética!** \n",
    "\n",
    "1. Sua prova utilizará o sistema de Proctoring.  Para instalar a extensão, acesse o site https://getproctorio.com/ pelo Google Chrome e siga os passos indicados. Caso tenha dúvidas ou dificuldades, avise seu professor pelo chat e entre em contato com o Help Desk por meio de abertura de chamado ou pelo telefone (11) 4504-2550.\n",
    "Para realizar a prova será necessário:\n",
    "  *\tUm desktop ou notebook com qualquer sistema operacional (dispositivos móveis não serão aceitos)\n",
    "  *\tMicrofone (interno ou externo)\n",
    "  *\tWebcam (interna ou externa)\n",
    "  *\tNavegador Google Chrome (o sistema funciona somente nele)\n",
    "  *\tExtensão da plataforma instalada (sem ela o sistema não funcionará)\n",
    "\n",
    "1. **É proibido o uso de fones de ouvido durante toda a prova. Não leia as questões em voz alta. Não ouvir música.**\n",
    "1. Sempre que possível, busque criar redundâncias para a rede de internet. Uma forma de fazer isso é utilizar a rede 4G dos celulares.\n",
    "1. Antes de sair da prova, garanta que entregou a prova. Verifique se arquivos das questões tiveram seu upload concluído (se necessário) e que fechou a prova ao final. Você é o responsável pela entrega adequada de todas as questões de sua prova. Avaliações entregues fora do prazo não serão aceitas para correção.\n",
    "1. Caso precise se ausentar da frente da câmera para ia ao banheiro, comunique no chat do Teams ao professor e/ou fale para sua câmera. Dessa forma sua ausência estará justificada pelo sistema de proctoring. Lembre-se de ser rápido e retornar prontamente à prova.\n",
    "\n",
    "#### Avisos sobre desenvolvimento da prova:\n",
    "\n",
    "1. Esta avaliação é composta de 4 questões que será disponibilizada em servidor. Caso verifique a falta de alguma questão, entre em contato com seu professor imediatamente pelo Teams.\n",
    "1. Esta Avaliação consiste em um arquivo Jupyter que será anexado ao Blackboard ao final da prova.\n",
    "1. Leia atentamente as **Precauções de segurança** abaixo para evitar ter sua prova anulada.\n",
    "1. Você pode utilizar qualquer material individual para consulta – anotações, livros, etc. Mas não pode compartilhar este material com seus colegas presencial ou remotamente.\n",
    "1. Em caso de dúvida sobre alguma questão desta avaliação, redija um texto em uma nova célula deste Jupyter notebook explicitando-a para que o professor avalie a pertinência durante a correção.  \n",
    "1. Leia atentamente cada questão e responda o que for pedido. Erros conceituais serão penalizados, mesmo que o conceito não se relacione com o que foi pedido na questão.\n",
    "1. Caso em algum item você necessite do resultado de um item anterior que você não conseguiu fazer, admita um valor razoável para esse resultado e faça o item normalmente. Indique na questão, caso isso aconteça.\n",
    "1. Todos os resultados devem ser justificados. Números que apareçam sem uma explicação de como foram encontrados serão ignorados na correção.\n",
    "1. **A qualidade do código na resolução em cada item também será levada em consideração, ou seja, códigos complicados para soluções que podem ser simples serão penalizados.**\n",
    "1. Esta avaliação requer **entrega via Blackboard**. **Não serão consideradas entregas por outros meios** (ex: e-mail, MS Teams, etc.).\n",
    "\n",
    "\n",
    "\n",
    "#### Precauções de segurança:\n",
    "\n",
    "1.\tTodas as precauções abaixo podem ser resumidas da seguinte forma: consulte o material que quiser desde que não seja nenhuma pessoa e não compartilhe informações com ninguém. \n",
    "2.\tVocê não pode enviar nenhum tipo de mensagem durante a prova para qualquer pessoa dentro ou fora dela, com exceção do(a) professor(a). Por exemplo: e-mail, Skype, mensagens do Facebook, mensagens do WhatsApp, mensagens via Twitter, etc\n",
    "3.\tVocê não pode compartilhar nenhum tipo de informação em nenhum site, incluindo Pastebin, Codeshare, wikis, etc\n",
    "4.\tVocê não pode perguntar questões da prova no StackOverflow, StackExchange, MathExchange, etc. \n",
    "5.\tVocê pode procurar/tirar dúvida no Google.\n",
    "6.\tVocê pode consultar qualquer arquivo no seu computador.\n",
    "7.\tQualquer transgressão das normas acima pode zerar a nota da prova e implicar em infração ao código de ética do Insper."
   ]
  },
  {
   "cell_type": "markdown",
   "metadata": {},
   "source": [
    "___\n",
    "Carregando algumas bibliotecas:"
   ]
  },
  {
   "cell_type": "code",
   "execution_count": 1,
   "metadata": {},
   "outputs": [],
   "source": [
    "%matplotlib inline\n",
    "import math\n",
    "\n",
    "import matplotlib.pyplot as plt\n",
    "import numpy as np\n",
    "import pandas as pd\n",
    "from scipy import stats\n",
    "import statsmodels.api as sm\n",
    "\n",
    "from IPython.display import display  # Para ter melhor print."
   ]
  },
  {
   "cell_type": "markdown",
   "metadata": {},
   "source": [
    "___\n",
    "## Índice\n",
    "\n",
    "- [Questão 1](#q1) **[3,0 pontos]**\n",
    "- [Questão 2](#q2) **[2,0 pontos]**\n",
    "- [Questão 3](#q3) **[2,0 pontos]**\n",
    "- [Questão 4](#q4) **[3,0 pontos]**"
   ]
  },
  {
   "cell_type": "markdown",
   "metadata": {},
   "source": [
    "___\n",
    "\n",
    "<div id=\"q1\"></div>\n",
    "\n",
    "### Questão 1\n",
    "\n",
    "**[3,0 pontos]**"
   ]
  },
  {
   "cell_type": "markdown",
   "metadata": {},
   "source": [
    "Na escola infantil \"Papai Sem-Noção\" eles fazem coisas diferentes. No encerramento do ano vão fazer uma eco-aventura: cada dupla pai-e-filho vai descer um rio de bote inflável.\n",
    "\n",
    "O peso dos pais pode ser modelado como uma variável aleatória normal de média $85$ kg e desvio padrão $10$ kg. O peso dos filhos pode ser modelado como uma variável normal de média $20$ kg e desvio padrão $4$ kg. Existe uma correlação entre o peso do pai e o peso do filho igual a $0,5$"
   ]
  },
  {
   "cell_type": "markdown",
   "metadata": {},
   "source": [
    "**Q1 a) (0,75 ponto)**  Nas condições acima, a média e o desvio-padrão do peso da dupla pai-e-filho são, respectivamente, $105$ kg e $12,5$ kg. Como esses valores foram obtidos? Justifique com cálculos numéricos."
   ]
  },
  {
   "cell_type": "code",
   "execution_count": 2,
   "metadata": {},
   "outputs": [
    {
     "name": "stdout",
     "output_type": "stream",
     "text": [
      "A média obtida através das propriedades de esperança é de : 105\n",
      "O desvio-padrão obtido através das propriedades é de: 12.5\n"
     ]
    }
   ],
   "source": [
    "# O peso dos pais e filhos modelado como uma normal\n",
    "\n",
    "mu_pais = 85\n",
    "desvio_pais = 10\n",
    "\n",
    "mu_filhos = 20\n",
    "desvio_filhos = 4\n",
    "\n",
    "corr = 0.5\n",
    "cov = corr*desvio_pais*desvio_filhos\n",
    "\n",
    "mu_pais_filhos = mu_pais + mu_filhos\n",
    "var_pais_filhos = desvio_pais**2 + desvio_filhos**2 + 2*cov\n",
    "desvio_pais_filhos = var_pais_filhos**0.5\n",
    "desvio = round(desvio_pais_filhos,1)\n",
    "\n",
    "print('A média obtida através das propriedades de esperança é de : {0}'.format(mu_pais_filhos))\n",
    "print('O desvio-padrão obtido através das propriedades é de: {0}'.format(desvio))"
   ]
  },
  {
   "cell_type": "markdown",
   "metadata": {},
   "source": [
    "**Q1 b) (1,00 ponto)**  A escola vai comprar botes infláveis para descer o rio. Existem dois modelos:\n",
    "\n",
    "- \"Carpe Diem\": cabe duas pessoas, com peso total entre $80$ kg e $115$ kg.\n",
    "\n",
    "- \"Memento Mori\": cabe duas pessoas, com peso total entre $95$ kg e $120$ kg.\n",
    "\n",
    "Qual dos dois modelos é mais adequado para a escola? Ou seja, em qual dos modelos a chance de comportar um par pai-e-filho é maior? Calcule essas chances para os dois modelos e compare."
   ]
  },
  {
   "cell_type": "code",
   "execution_count": 3,
   "metadata": {},
   "outputs": [
    {
     "name": "stdout",
     "output_type": "stream",
     "text": [
      "76.56663981697922\n",
      "67.34470439782092\n"
     ]
    }
   ],
   "source": [
    "# Carpe Diem:\n",
    "#cabe duas pessoas, peso total entre 80 e 115\n",
    "\n",
    "#Momento Mori:\n",
    "#cabe duas pessoas, com peso entre 95kg e 120kg\n",
    "\n",
    "#1 carpe diem:\n",
    "\n",
    "prob_maior80 = 1 - stats.norm.cdf(80,loc=mu_pais_filhos,scale=desvio_pais_filhos)\n",
    "prob_maior115 = 1 - stats.norm.cdf(115,loc=mu_pais_filhos,scale=desvio_pais_filhos)\n",
    "\n",
    "prob_entre_80_115 = prob_maior80 - prob_maior115\n",
    "\n",
    "#2 momento mori:\n",
    "\n",
    "prob_maior95 = 1 - stats.norm.cdf(95,loc=mu_pais_filhos,scale=desvio_pais_filhos)\n",
    "prob_maior120 = 1 - stats.norm.cdf(120,loc=mu_pais_filhos,scale=desvio_pais_filhos)\n",
    "\n",
    "prob_entre_95_120 = prob_maior95 - prob_maior120\n",
    "\n",
    "print((prob_entre_80_115)*100)\n",
    "print((prob_entre_95_120)*100)"
   ]
  },
  {
   "cell_type": "code",
   "execution_count": 4,
   "metadata": {},
   "outputs": [
    {
     "name": "stdout",
     "output_type": "stream",
     "text": [
      "Como a probabilidade do peso de pais e filhos é maior entre 80kg e 115kg, pode-se concluir que o modelo mais adequado é da empresa Carpe Diem.\n"
     ]
    }
   ],
   "source": [
    "print('Como a probabilidade do peso de pais e filhos é maior entre 80kg e 115kg, pode-se concluir que o modelo mais adequado é da empresa Carpe Diem.')"
   ]
  },
  {
   "cell_type": "markdown",
   "metadata": {},
   "source": [
    "**Q1 c) (1,25 ponto)** O diretor, o sr. Joselito, teve uma ideia \"brilhante\": se eles colocarem \"lastro\" (um peso extra) nos botes para complementar o peso da dupla, eles conseguem expandir a faixa de peso util do barco. \n",
    "\n",
    "Com isso, o limite mínimo de peso dos barcos \"Memento Mori\" será compensado pelo \"lastro\", mas o peso total máximo ainda é de $120$ kg. Calcule o novo valor do limite inferior que permita que $85\\%$ das duplas pai-e-filho participem do evento nos botes \"Memento Mori\".\n",
    "\n",
    "Recapitulando:\n",
    " * O limite superior de 120 kg não tem como mudar (é fixo).\n",
    " * O limite mínimo é livre (já que podemos usar lastro para compensar o peso de duplas muito leves).\n",
    " * Queremos saber qual limite mínimo que permita que $85\\%$ das duplas pai-e-filho participem do evento nos botes \"Memento Mori\". "
   ]
  },
  {
   "cell_type": "code",
   "execution_count": 5,
   "metadata": {},
   "outputs": [],
   "source": [
    "# ESCREVA SEU CÓDIGO AQUI\n",
    "\n",
    "#2 momento mori:\n",
    "\n",
    "prob_maior_lim = 1 - stats.norm.cdf(92.05495111427604,loc=mu_pais_filhos,scale=desvio_pais_filhos)\n",
    "\n",
    "lim_minn = stats.norm.ppf(0.15,loc=mu_pais_filhos,scale=desvio_pais_filhos)\n",
    "lim_min = round(lim_minn,2)"
   ]
  },
  {
   "cell_type": "code",
   "execution_count": 6,
   "metadata": {},
   "outputs": [
    {
     "data": {
      "text/plain": [
       "0.8499999999999999"
      ]
     },
     "execution_count": 6,
     "metadata": {},
     "output_type": "execute_result"
    }
   ],
   "source": [
    "prob_maior_lim"
   ]
  },
  {
   "cell_type": "code",
   "execution_count": 7,
   "metadata": {},
   "outputs": [
    {
     "name": "stdout",
     "output_type": "stream",
     "text": [
      "O limite mínimo que permite que 85% das duplas pai-e-filho participem do envento nos botes Memento Mori é de: 92.05\n"
     ]
    }
   ],
   "source": [
    "print('O limite mínimo que permite que 85% das duplas pai-e-filho participem do envento nos botes Memento Mori é de: {0}'.format(lim_min))"
   ]
  },
  {
   "cell_type": "markdown",
   "metadata": {},
   "source": [
    "<div id=\"q2\"></div>\n",
    "\n",
    "### Questão 2\n",
    "\n",
    "**[2,0 pontos]**\n",
    "\n",
    "### Black Friday: o perfil do comprador online brasileiro\n",
    "\n",
    "<img src=\"questao3.jpg\">\n",
    "\n",
    "Fonte: https://veja.abril.com.br/tecnologia/black-friday-o-perfil-do-comprador-online-brasileiro/"
   ]
  },
  {
   "cell_type": "markdown",
   "metadata": {},
   "source": [
    "**PROBLEMA**\n",
    "\n",
    "Em 2019, o gasto médio dos brasileiros com compras on-lines na Black Friday foi igual a 503 reais. Ainda, o desvio padrão populacional desse gasto foi igual a 100 reais.\n",
    "\n",
    "Neste ano, muita especulação foi feita sobre as vendas na Black Friday. Algumas empresas de pesquisa de mercado suspeitam que o gasto médio irá superar a do ano anterior.\n",
    "\n",
    "Assim, as hipóteses em termos do problema e em termos do parâmetro são:\n",
    "\n",
    "$H_0:$ Suspeita da empresa de pesquisa de mercado não procede $\\hspace{3mm}\\Rightarrow\\qquad H_0: \\mu \\leq 503$\n",
    "\n",
    "$H_A:$ Suspeita da empresa de pesquisa de mercado procede   $\\hspace{9mm}\\Rightarrow\\qquad H_0: \\mu > 503$\n",
    "\n",
    "<br>\n",
    "\n",
    "Uma amostra de 49 compras on-lines em 2020 serão analisadas. Assuma que o desvio padrão dos gastos na Black Friday de 2020 manterá o mesmo de 2019.\n",
    "\n",
    "Considerando um nível de significância de $5\\%$, responda:"
   ]
  },
  {
   "cell_type": "markdown",
   "metadata": {},
   "source": [
    "**Q2 a) (0,75 ponto)** Utilizando uma técnica inferencial adequada, encontre a região crítica do teste."
   ]
  },
  {
   "cell_type": "code",
   "execution_count": 8,
   "metadata": {},
   "outputs": [
    {
     "name": "stdout",
     "output_type": "stream",
     "text": [
      "A região critica será x_obs > 526.4979089564496\n"
     ]
    }
   ],
   "source": [
    "# H0 : mu <=503\n",
    "# HA : mu >503\n",
    "# unicaudal a direita\n",
    "\n",
    "alfa = 5/100\n",
    "mu = 503\n",
    "desvio_populacional = 100\n",
    "\n",
    "# Usando TLC, já que n > 30, ou seja, suficientemente grande para usar\n",
    "n=49\n",
    "mu_amostra = mu\n",
    "desvio_amostra = (desvio_populacional**2/n)**0.5\n",
    "\n",
    "x_c = stats.norm.ppf(1-alfa,loc=mu_amostra,scale=desvio_amostra)\n",
    "\n",
    "print('A região critica será x_obs > 526.4979089564496')\n"
   ]
  },
  {
   "cell_type": "markdown",
   "metadata": {},
   "source": [
    "Resposta : $RC=\\{\\overline{x}_{obs} > 526.4979089564496\\}$"
   ]
  },
  {
   "cell_type": "markdown",
   "metadata": {},
   "source": [
    "**Para itens Q2 b) e c)**\n",
    "\n",
    "Assuma que após a Black Friday de 2020, o gasto médio amostral observado em 49 compras on-lines foi igual a $530,00$ reais."
   ]
  },
  {
   "cell_type": "markdown",
   "metadata": {},
   "source": [
    "**Q2 b) (0,25 ponto)** Considerando item anterior, tome uma conclusão em termos do problema, deixando claro quais resultados foram utilizados para tal decisão. "
   ]
  },
  {
   "cell_type": "markdown",
   "metadata": {},
   "source": [
    "#ESCREVA SUA RESPOSTA AQUI"
   ]
  },
  {
   "cell_type": "code",
   "execution_count": 9,
   "metadata": {},
   "outputs": [
    {
     "name": "stdout",
     "output_type": "stream",
     "text": [
      "A região critica será x_obs (530) > 526.4979089564496\n",
      "Como x_obs é maior do que x critico, portanto, rejeitamos a hipotese nula (H0).\n"
     ]
    },
    {
     "data": {
      "text/plain": [
       "True"
      ]
     },
     "execution_count": 9,
     "metadata": {},
     "output_type": "execute_result"
    }
   ],
   "source": [
    "mu = 503\n",
    "desvio_populacao = 100\n",
    "\n",
    "mu_amostral = mu\n",
    "n= 49\n",
    "alfa = 5/100\n",
    "x_obs = 530\n",
    "\n",
    "# Para tomar uma decisao primeiro apliquei o TLC para calcular o desvio padrao amostral:\n",
    "\n",
    "desvio_amostral = (desvio_populacao**2/n)**0.5\n",
    "\n",
    "# Depois calculei x_c\n",
    "\n",
    "x_c = stats.norm.ppf(1-alfa,loc=mu_amostral,scale=desvio_amostral)\n",
    "\n",
    "print('A região critica será x_obs (530) > 526.4979089564496')\n",
    "print('Como x_obs é maior do que x critico, portanto, rejeitamos a hipotese nula (H0).')\n",
    "x_obs > x_c\n"
   ]
  },
  {
   "cell_type": "markdown",
   "metadata": {},
   "source": [
    "**Q2 c) (1,00 ponto)** Calcule o valor-p e responda se há evidências de que a suspeita das empresas de pesquisa procede, com $5\\%$ de nível de significância."
   ]
  },
  {
   "cell_type": "code",
   "execution_count": 10,
   "metadata": {},
   "outputs": [
    {
     "data": {
      "text/plain": [
       "True"
      ]
     },
     "execution_count": 10,
     "metadata": {},
     "output_type": "execute_result"
    }
   ],
   "source": [
    "# Unicaudal a direita\n",
    "alfa = 5\n",
    "valor_p = 1-stats.norm.cdf(x_obs,loc=mu,scale=desvio_amostral)\n",
    "valor_p*100 #em porcentagem\n",
    "\n",
    "valor_p < alfa\n",
    "#rejeita hipotese nula"
   ]
  },
  {
   "cell_type": "code",
   "execution_count": 11,
   "metadata": {},
   "outputs": [
    {
     "name": "stdout",
     "output_type": "stream",
     "text": [
      "Como o valor-p é menor que o valor do nível de significância, rejeitamos a hipótese nula, ou seja, há evidências de que a suspeita das empresas procede.\n"
     ]
    }
   ],
   "source": [
    "print('Como o valor-p é menor que o valor do nível de significância, rejeitamos a hipótese nula, ou seja, há evidências de que a suspeita das empresas procede.')"
   ]
  },
  {
   "cell_type": "markdown",
   "metadata": {},
   "source": [
    "___\n",
    "\n",
    "<div id=\"q3\"></div>\n",
    "\n",
    "### Questão 3\n",
    "\n",
    "**[2,0 pontos]** \n",
    "\n",
    "<img src=\"questao4.jpg\">\n",
    "\n",
    "Fonte: https://melhorcomsaude.com.br/5-formas-naturais-diminuir-pressao-arterial/\n"
   ]
  },
  {
   "cell_type": "markdown",
   "metadata": {},
   "source": [
    "A base de dados `blood_pressure` apresentada [aqui](https://github.com/Opensourcefordatascience/Data-sets/find/master) contém a pressão arterial de cada um dos $120$ pacientes antes de um tratamento (`bp_before`) e depois esse tratamento (`bp_after`).\n",
    "\n",
    "Essa base de dados está representada no arquivo `blood_pressure.xlsx`:"
   ]
  },
  {
   "cell_type": "code",
   "execution_count": 12,
   "metadata": {},
   "outputs": [
    {
     "name": "stdout",
     "output_type": "stream",
     "text": [
      "Esperamos trabalhar no diretório\n",
      "/home/prova115\n"
     ]
    }
   ],
   "source": [
    "import os\n",
    "\n",
    "print(\"Esperamos trabalhar no diretório\")\n",
    "print(os.getcwd())"
   ]
  },
  {
   "cell_type": "code",
   "execution_count": 13,
   "metadata": {
    "scrolled": true
   },
   "outputs": [
    {
     "data": {
      "text/html": [
       "<div>\n",
       "<style scoped>\n",
       "    .dataframe tbody tr th:only-of-type {\n",
       "        vertical-align: middle;\n",
       "    }\n",
       "\n",
       "    .dataframe tbody tr th {\n",
       "        vertical-align: top;\n",
       "    }\n",
       "\n",
       "    .dataframe thead th {\n",
       "        text-align: right;\n",
       "    }\n",
       "</style>\n",
       "<table border=\"1\" class=\"dataframe\">\n",
       "  <thead>\n",
       "    <tr style=\"text-align: right;\">\n",
       "      <th></th>\n",
       "      <th>patient</th>\n",
       "      <th>sex</th>\n",
       "      <th>agegrp</th>\n",
       "      <th>bp_before</th>\n",
       "      <th>bp_after</th>\n",
       "    </tr>\n",
       "  </thead>\n",
       "  <tbody>\n",
       "    <tr>\n",
       "      <th>0</th>\n",
       "      <td>1</td>\n",
       "      <td>Male</td>\n",
       "      <td>30-45</td>\n",
       "      <td>143</td>\n",
       "      <td>153</td>\n",
       "    </tr>\n",
       "    <tr>\n",
       "      <th>1</th>\n",
       "      <td>2</td>\n",
       "      <td>Male</td>\n",
       "      <td>30-45</td>\n",
       "      <td>163</td>\n",
       "      <td>170</td>\n",
       "    </tr>\n",
       "    <tr>\n",
       "      <th>2</th>\n",
       "      <td>3</td>\n",
       "      <td>Male</td>\n",
       "      <td>30-45</td>\n",
       "      <td>153</td>\n",
       "      <td>168</td>\n",
       "    </tr>\n",
       "    <tr>\n",
       "      <th>3</th>\n",
       "      <td>4</td>\n",
       "      <td>Male</td>\n",
       "      <td>30-45</td>\n",
       "      <td>153</td>\n",
       "      <td>142</td>\n",
       "    </tr>\n",
       "    <tr>\n",
       "      <th>4</th>\n",
       "      <td>5</td>\n",
       "      <td>Male</td>\n",
       "      <td>30-45</td>\n",
       "      <td>146</td>\n",
       "      <td>141</td>\n",
       "    </tr>\n",
       "  </tbody>\n",
       "</table>\n",
       "</div>"
      ],
      "text/plain": [
       "   patient   sex agegrp  bp_before  bp_after\n",
       "0        1  Male  30-45        143       153\n",
       "1        2  Male  30-45        163       170\n",
       "2        3  Male  30-45        153       168\n",
       "3        4  Male  30-45        153       142\n",
       "4        5  Male  30-45        146       141"
      ]
     },
     "execution_count": 13,
     "metadata": {},
     "output_type": "execute_result"
    }
   ],
   "source": [
    "# Carregando os dados\n",
    "bp = pd.read_excel(\"blood_pressure.xlsx\")\n",
    "bp.head()"
   ]
  },
  {
   "cell_type": "markdown",
   "metadata": {},
   "source": [
    "**PROBLEMA**\n",
    "\n",
    "O objetivo é avaliar se o tratamento foi eficaz na redução da pressão arterial desses pacientes. \n",
    "\n",
    "Para isso, deve-se avaliar se, em média, a diferença entre a pressão arterial depois e antes do tratamento é inferior a zero.\n",
    "\n",
    "Levando em consideração a variável `diferenca` calculada a seguir, verifique se há evidências suficiente para afirmar que o tratamento foi eficaz quanto a redução, em média, da pressão arterial, com $99\\%$ de coeficiente de confiança."
   ]
  },
  {
   "cell_type": "code",
   "execution_count": 14,
   "metadata": {},
   "outputs": [],
   "source": [
    "diferenca = bp[\"bp_after\"] - bp[\"bp_before\"]"
   ]
  },
  {
   "cell_type": "markdown",
   "metadata": {},
   "source": [
    "Assim, as hipóteses em termos do problema e em termos do parâmetro são:\n",
    "\n",
    "$H_0:$ O tratamento não foi eficaz $\\hspace{3mm}\\Rightarrow\\qquad H_0: \\mu_{\\text{diferença}} \\geq 0$\n",
    "\n",
    "$H_A:$ O tratamento foi eficaz   $\\hspace{9mm}\\Rightarrow\\qquad H_0: \\mu_{\\text{diferença}} < 0$\n",
    "\n",
    "sendo $\\mu_{\\text{diferença}}$ a média populacional da variável diferença entre a pressão arterial depois e antes.\n"
   ]
  },
  {
   "cell_type": "markdown",
   "metadata": {},
   "source": [
    "Responda:"
   ]
  },
  {
   "cell_type": "markdown",
   "metadata": {},
   "source": [
    "**Q3 a) (1,00 ponto)** Utilizando uma técnica inferencial adequada, calcule o valor-p do teste. "
   ]
  },
  {
   "cell_type": "code",
   "execution_count": 15,
   "metadata": {},
   "outputs": [
    {
     "name": "stdout",
     "output_type": "stream",
     "text": [
      "O valor-p do teste é de: 0.0005648957322420412\n",
      " E em porcentagem será de : 0.05648957322420412 %\n"
     ]
    }
   ],
   "source": [
    "# H0 >=0\n",
    "# HA < 0\n",
    "# unilateral à esquerda\n",
    "\n",
    "mu_0 = 0\n",
    "\n",
    "n= 120\n",
    "alfa = 1 #%\n",
    "\n",
    "x_obs = diferenca.mean()\n",
    "s = np.std(diferenca, ddof=1)\n",
    "t_obs = (x_obs - mu_0)/(s/n**0.5)\n",
    "\n",
    "p_value = stats.t.cdf(t_obs,df=n-1) \n",
    "print('O valor-p do teste é de: {0}'.format(p_value))\n",
    "print(' E em porcentagem será de : {0} %'.format(p_value*100))"
   ]
  },
  {
   "cell_type": "markdown",
   "metadata": {},
   "source": [
    "**Q3 b) (0,50 ponto)** Considerando item anterior, tome uma conclusão em termos do problema, deixando claro quais resultados foram utilizados para tal decisão. "
   ]
  },
  {
   "cell_type": "markdown",
   "metadata": {},
   "source": [
    "#ESCREVA SUA RESPOSTA AQUI"
   ]
  },
  {
   "cell_type": "code",
   "execution_count": 16,
   "metadata": {},
   "outputs": [
    {
     "name": "stdout",
     "output_type": "stream",
     "text": [
      "Rejeitar H0 deve ser a descisão, já que o valor-p é menor que o nível de significância\n",
      "Portanto, pode-se concluir que há evidências de que a média de diferença seja menor do que 0 \n"
     ]
    },
    {
     "data": {
      "text/plain": [
       "True"
      ]
     },
     "execution_count": 16,
     "metadata": {},
     "output_type": "execute_result"
    }
   ],
   "source": [
    "# O valor-p em porcentagem é de:\n",
    "\n",
    "p_value_porcentagem = p_value*100\n",
    "alfa = 1\n",
    "\n",
    "# Se valor-p < alfa (nível de significancia), rejeitar hipotese nula (H0)\n",
    "\n",
    "print('Rejeitar H0 deve ser a descisão, já que o valor-p é menor que o nível de significância')\n",
    "print('Portanto, pode-se concluir que há evidências de que a média de diferença seja menor do que 0 ')\n",
    "p_value_porcentagem < alfa\n"
   ]
  },
  {
   "cell_type": "markdown",
   "metadata": {},
   "source": [
    "**Q3 c) (0,50 ponto)** Utilizando uma técnica inferencial adequada, encontre a região crítica deste teste."
   ]
  },
  {
   "cell_type": "code",
   "execution_count": 17,
   "metadata": {},
   "outputs": [
    {
     "name": "stdout",
     "output_type": "stream",
     "text": [
      "A região crítica deste teste é t_obs < -2.3580925556919707 \n"
     ]
    },
    {
     "data": {
      "text/plain": [
       "True"
      ]
     },
     "execution_count": 17,
     "metadata": {},
     "output_type": "execute_result"
    }
   ],
   "source": [
    "# Rejeito h0 se t_obs < tc\n",
    "\n",
    "tc = stats.t.ppf(0.01,df=120-1)\n",
    "print('A região crítica deste teste é t_obs < -2.3580925556919707 ')\n",
    "t_obs < tc\n"
   ]
  },
  {
   "cell_type": "markdown",
   "metadata": {},
   "source": [
    "___\n",
    "\n",
    "<div id=\"q4\"></div>\n",
    "\n",
    "### Questão 4\n",
    "\n",
    "**[3,0 pontos]** "
   ]
  },
  {
   "cell_type": "markdown",
   "metadata": {},
   "source": [
    "Uma usina termoelétrica converte calor (gerado pela queima de combustível) em energia mecânica, e esta para energia elétrica. Turbinas são impulsionadas por gases em expansão (vapor d'água, por exemplo), girando um eixo que está acoplado a um gerador elétrico. Esses gases são resfriados através da troca de calor com o meio ambiente, e retornam ao ciclo para serem novamente aquecidos, se expandirem, moverem as turbinas, etc.\n",
    "\n",
    "<img src='Rankine_cycle_layout.png' width=800></img>\n",
    "\n",
    "https://en.wikipedia.org/wiki/Rankine_cycle\n",
    "\n",
    "De acordo com a teoria da Termodinâmica, quanto menor a temperatura ambiente, mais eficiente será a geração de energia. Queremos investigar a validade dessa teoria com dados reais.\n",
    "\n",
    "O dataframe a seguir contem dados sobre a potência gerada por uma usina termoelétrica real e a temperatura ambiente."
   ]
  },
  {
   "cell_type": "code",
   "execution_count": 18,
   "metadata": {},
   "outputs": [],
   "source": [
    "df = pd.read_csv('power.csv')"
   ]
  },
  {
   "cell_type": "code",
   "execution_count": 19,
   "metadata": {},
   "outputs": [
    {
     "data": {
      "text/html": [
       "<div>\n",
       "<style scoped>\n",
       "    .dataframe tbody tr th:only-of-type {\n",
       "        vertical-align: middle;\n",
       "    }\n",
       "\n",
       "    .dataframe tbody tr th {\n",
       "        vertical-align: top;\n",
       "    }\n",
       "\n",
       "    .dataframe thead th {\n",
       "        text-align: right;\n",
       "    }\n",
       "</style>\n",
       "<table border=\"1\" class=\"dataframe\">\n",
       "  <thead>\n",
       "    <tr style=\"text-align: right;\">\n",
       "      <th></th>\n",
       "      <th>Temp. Ambiente</th>\n",
       "      <th>Potência Gerada</th>\n",
       "    </tr>\n",
       "  </thead>\n",
       "  <tbody>\n",
       "    <tr>\n",
       "      <th>0</th>\n",
       "      <td>14.96</td>\n",
       "      <td>463.26</td>\n",
       "    </tr>\n",
       "    <tr>\n",
       "      <th>1</th>\n",
       "      <td>25.18</td>\n",
       "      <td>444.37</td>\n",
       "    </tr>\n",
       "    <tr>\n",
       "      <th>2</th>\n",
       "      <td>5.11</td>\n",
       "      <td>488.56</td>\n",
       "    </tr>\n",
       "    <tr>\n",
       "      <th>3</th>\n",
       "      <td>20.86</td>\n",
       "      <td>446.48</td>\n",
       "    </tr>\n",
       "    <tr>\n",
       "      <th>4</th>\n",
       "      <td>10.82</td>\n",
       "      <td>473.90</td>\n",
       "    </tr>\n",
       "  </tbody>\n",
       "</table>\n",
       "</div>"
      ],
      "text/plain": [
       "   Temp. Ambiente  Potência Gerada\n",
       "0           14.96           463.26\n",
       "1           25.18           444.37\n",
       "2            5.11           488.56\n",
       "3           20.86           446.48\n",
       "4           10.82           473.90"
      ]
     },
     "execution_count": 19,
     "metadata": {},
     "output_type": "execute_result"
    }
   ],
   "source": [
    "df.head()"
   ]
  },
  {
   "cell_type": "markdown",
   "metadata": {},
   "source": [
    "**Q4 a) (0,50 ponto)** Construa uma visualização adequada dos dados para este problema."
   ]
  },
  {
   "cell_type": "code",
   "execution_count": 20,
   "metadata": {},
   "outputs": [
    {
     "data": {
      "image/png": "[encoded data removed]",
      "text/plain": [
       "<Figure size 432x288 with 1 Axes>"
      ]
     },
     "metadata": {
      "needs_background": "light"
     },
     "output_type": "display_data"
    }
   ],
   "source": [
    "# ESCREVA SEU CÓDIGO AQUI\n",
    "\n",
    "plt.scatter(df['Temp. Ambiente'], df['Potência Gerada'])\n",
    "plt.title(' Potência Gerada por Temperatura Ambiente')\n",
    "plt.xlabel('Temperatura ambiente')\n",
    "plt.ylabel('Potência Gerada')\n",
    "plt.show()"
   ]
  },
  {
   "cell_type": "code",
   "execution_count": null,
   "metadata": {},
   "outputs": [],
   "source": []
  },
  {
   "cell_type": "markdown",
   "metadata": {},
   "source": [
    "**Q4 b) (0,75 ponto)** Ajuste um modelo de regressão linear simples com o método dos mínimos quadrados ordinário, através da biblioteca ``statsmodels``, e mostre o relatório sumário do ajuste do modelo."
   ]
  },
  {
   "cell_type": "code",
   "execution_count": 21,
   "metadata": {},
   "outputs": [
    {
     "name": "stderr",
     "output_type": "stream",
     "text": [
      "/opt/conda/lib/python3.7/site-packages/numpy/core/fromnumeric.py:2223: FutureWarning: Method .ptp is deprecated and will be removed in a future version. Use numpy.ptp instead.\n",
      "  return ptp(axis=axis, out=out, **kwargs)\n"
     ]
    },
    {
     "data": {
      "text/html": [
       "<table class=\"simpletable\">\n",
       "<caption>OLS Regression Results</caption>\n",
       "<tr>\n",
       "  <th>Dep. Variable:</th>     <td>Potência Gerada</td> <th>  R-squared:         </th> <td>   0.899</td> \n",
       "</tr>\n",
       "<tr>\n",
       "  <th>Model:</th>                   <td>OLS</td>       <th>  Adj. R-squared:    </th> <td>   0.899</td> \n",
       "</tr>\n",
       "<tr>\n",
       "  <th>Method:</th>             <td>Least Squares</td>  <th>  F-statistic:       </th> <td>8.510e+04</td>\n",
       "</tr>\n",
       "<tr>\n",
       "  <th>Date:</th>             <td>Tue, 01 Dec 2020</td> <th>  Prob (F-statistic):</th>  <td>  0.00</td>  \n",
       "</tr>\n",
       "<tr>\n",
       "  <th>Time:</th>                 <td>14:18:54</td>     <th>  Log-Likelihood:    </th> <td> -29756.</td> \n",
       "</tr>\n",
       "<tr>\n",
       "  <th>No. Observations:</th>      <td>  9568</td>      <th>  AIC:               </th> <td>5.952e+04</td>\n",
       "</tr>\n",
       "<tr>\n",
       "  <th>Df Residuals:</th>          <td>  9566</td>      <th>  BIC:               </th> <td>5.953e+04</td>\n",
       "</tr>\n",
       "<tr>\n",
       "  <th>Df Model:</th>              <td>     1</td>      <th>                     </th>     <td> </td>    \n",
       "</tr>\n",
       "<tr>\n",
       "  <th>Covariance Type:</th>      <td>nonrobust</td>    <th>                     </th>     <td> </td>    \n",
       "</tr>\n",
       "</table>\n",
       "<table class=\"simpletable\">\n",
       "<tr>\n",
       "         <td></td>           <th>coef</th>     <th>std err</th>      <th>t</th>      <th>P>|t|</th>  <th>[0.025</th>    <th>0.975]</th>  \n",
       "</tr>\n",
       "<tr>\n",
       "  <th>const</th>          <td>  497.0341</td> <td>    0.156</td> <td> 3177.280</td> <td> 0.000</td> <td>  496.727</td> <td>  497.341</td>\n",
       "</tr>\n",
       "<tr>\n",
       "  <th>Temp. Ambiente</th> <td>   -2.1713</td> <td>    0.007</td> <td> -291.715</td> <td> 0.000</td> <td>   -2.186</td> <td>   -2.157</td>\n",
       "</tr>\n",
       "</table>\n",
       "<table class=\"simpletable\">\n",
       "<tr>\n",
       "  <th>Omnibus:</th>       <td>417.457</td> <th>  Durbin-Watson:     </th> <td>   2.033</td> \n",
       "</tr>\n",
       "<tr>\n",
       "  <th>Prob(Omnibus):</th> <td> 0.000</td>  <th>  Jarque-Bera (JB):  </th> <td>1117.844</td> \n",
       "</tr>\n",
       "<tr>\n",
       "  <th>Skew:</th>          <td>-0.209</td>  <th>  Prob(JB):          </th> <td>1.83e-243</td>\n",
       "</tr>\n",
       "<tr>\n",
       "  <th>Kurtosis:</th>      <td> 4.621</td>  <th>  Cond. No.          </th> <td>    59.4</td> \n",
       "</tr>\n",
       "</table><br/><br/>Warnings:<br/>[1] Standard Errors assume that the covariance matrix of the errors is correctly specified."
      ],
      "text/plain": [
       "<class 'statsmodels.iolib.summary.Summary'>\n",
       "\"\"\"\n",
       "                            OLS Regression Results                            \n",
       "==============================================================================\n",
       "Dep. Variable:        Potência Gerada   R-squared:                       0.899\n",
       "Model:                            OLS   Adj. R-squared:                  0.899\n",
       "Method:                 Least Squares   F-statistic:                 8.510e+04\n",
       "Date:                Tue, 01 Dec 2020   Prob (F-statistic):               0.00\n",
       "Time:                        14:18:54   Log-Likelihood:                -29756.\n",
       "No. Observations:                9568   AIC:                         5.952e+04\n",
       "Df Residuals:                    9566   BIC:                         5.953e+04\n",
       "Df Model:                           1                                         \n",
       "Covariance Type:            nonrobust                                         \n",
       "==================================================================================\n",
       "                     coef    std err          t      P>|t|      [0.025      0.975]\n",
       "----------------------------------------------------------------------------------\n",
       "const            497.0341      0.156   3177.280      0.000     496.727     497.341\n",
       "Temp. Ambiente    -2.1713      0.007   -291.715      0.000      -2.186      -2.157\n",
       "==============================================================================\n",
       "Omnibus:                      417.457   Durbin-Watson:                   2.033\n",
       "Prob(Omnibus):                  0.000   Jarque-Bera (JB):             1117.844\n",
       "Skew:                          -0.209   Prob(JB):                    1.83e-243\n",
       "Kurtosis:                       4.621   Cond. No.                         59.4\n",
       "==============================================================================\n",
       "\n",
       "Warnings:\n",
       "[1] Standard Errors assume that the covariance matrix of the errors is correctly specified.\n",
       "\"\"\""
      ]
     },
     "execution_count": 21,
     "metadata": {},
     "output_type": "execute_result"
    }
   ],
   "source": [
    "# ESCREVA SEU CÓDIGO AQUI\n",
    "\n",
    "def regress(Y,X):\n",
    "    '''\n",
    "    Y: coluna do DataFrame utilizada como variável resposta (TARGET)\n",
    "    X: coluna(s) do DataFrame utilizadas como variável(is) explicativas (FEATURES)\n",
    "    '''\n",
    "    X_cp = sm.add_constant(X)\n",
    "    model = sm.OLS(Y,X_cp)\n",
    "    results = model.fit()\n",
    "    \n",
    "    return results\n",
    "\n",
    "X = df[['Temp. Ambiente']]\n",
    "Y = df['Potência Gerada']\n",
    "\n",
    "results = regress(Y,X)\n",
    "results.summary()"
   ]
  },
  {
   "cell_type": "code",
   "execution_count": 22,
   "metadata": {},
   "outputs": [
    {
     "name": "stdout",
     "output_type": "stream",
     "text": [
      "O modelo será ajustado a partir da reta guiada pela seguinte equacão: 497.0341198927665 -2.1713199585178034*x\n",
      "Sendo x a variável de temperatura a ser substituída para se encontrar a potência\n"
     ]
    }
   ],
   "source": [
    "beta0 = results.params['const']\n",
    "beta1 = results.params['Temp. Ambiente']\n",
    "\n",
    "#beta0 + beta1*x\n",
    "\n",
    "print('O modelo será ajustado a partir da reta guiada pela seguinte equacão: 497.0341198927665 -2.1713199585178034*x')\n",
    "print('Sendo x a variável de temperatura a ser substituída para se encontrar a potência')"
   ]
  },
  {
   "cell_type": "markdown",
   "metadata": {},
   "source": [
    "**Q4 c) (0,75 ponto)** Segundo o relatório sumário do modelo, quais coeficientes são relevantes? Podemos afirmar que existe uma relação entre a temperatura ambiente e a potência gerada?"
   ]
  },
  {
   "cell_type": "markdown",
   "metadata": {},
   "source": [
    "Os coeficientes relevantes seriam tanto o linear (beta0), quanto o angular, já que seus valores-p são iguais a 0, indicando que são relevantes para explicar o problema. Logo, isso mostra que a variável explicativa (temperatura ambiente) é relevante para explicar as mudanças na variável resposta (potência gerada), ou seja, existe uma relação entre as variáveis. \n"
   ]
  },
  {
   "cell_type": "markdown",
   "metadata": {},
   "source": [
    "**Q4 d) (1,00 ponto)** Quais suposições do modelo de regressão linear estão satisfeitas e quais não foram satisfeitas neste problema?"
   ]
  },
  {
   "cell_type": "markdown",
   "metadata": {},
   "source": [
    "* As suposições satisfeitas são as de que existe uma relação entre temperatura e potência gerada, o que foi confirmado através do valor-p.\n",
    "\n",
    "* Em relação a Prob(Omnibus), o ideal seria que esse fosse maior que alfa (nível de significância) que normalmente varia de 5% a 10%. Porém como pode ser observado, esse valor obtido foi igual a 0, sendo assim, existe evidência de que os resíduos não são distribuídos normalmente, o que viola essa suposição no modelo de regressão.\n",
    "\n",
    "* Além disso, ao analisar a Prob(Jb), percebe-se que o ideal assim como em Prob(Omnibus), seria que essa probabilidade fosse maior que o nível de significância. Porém, como visto na tabela gerada, essa probabilidade teve um valor muito baixo (1.83e-243), o que também apresenta evidências que que os resíduos não são distribuídos normalmente, mais uma vez violando essa suposição do modelo de regressão. \n"
   ]
  },
  {
   "cell_type": "code",
   "execution_count": null,
   "metadata": {},
   "outputs": [],
   "source": []
  }
 ],
 "metadata": {
  "kernelspec": {
   "display_name": "Python 3",
   "language": "python",
   "name": "python3"
  },
  "language_info": {
   "codemirror_mode": {
    "name": "ipython",
    "version": 3
   },
   "file_extension": ".py",
   "mimetype": "text/x-python",
   "name": "python",
   "nbconvert_exporter": "python",
   "pygments_lexer": "ipython3",
   "version": "3.7.6"
  }
 },
 "nbformat": 4,
 "nbformat_minor": 4
}
