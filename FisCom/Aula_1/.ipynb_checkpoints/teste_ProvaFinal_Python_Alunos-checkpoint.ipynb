{
 "cells": [
  {
   "cell_type": "markdown",
   "metadata": {},
   "source": [
    "# Insper - Modelagem e Simulação do Mundo Físico \n",
    "\n",
    "# Prova Final - 17/06/2019\n",
    "\n",
    "Leia com atenção:\n",
    "\n",
    "- Você terá 120 minutos a partir do início oficial da prova para concluir esta avaliação, administre bem o seu tempo. Leia atentamente as instruções a seguir e as questões da prova antes de começar a resolvê-la. \n",
    "- A avaliação é composta de 3 questões\n",
    "- Todos os equipamentos eletrônicos (celulares, computadores, tablets, etc.) deverão permanecer desligados.\n",
    "- Feche programas de envio de mensagens e não acesse o browser durante a prova. Você pode consultar arquivos em seu próprio computador.  \n",
    "- Evite sair da sala durante a realização da prova. Caso seja necessário, peça autorização antecipadamente ao professor.\n",
    "\n",
    "Boa prova!"
   ]
  },
  {
   "cell_type": "markdown",
   "metadata": {},
   "source": [
    "**Questão 1** \n",
    "\n",
    "Considere a seguinte equação a diferenças, que representa uma sequência matemática chamada **Sequência de Cauchy**:\n",
    "\n",
    "$N(t+1)= \\frac{100}{N(t)+1}$\n",
    "\n",
    "\n",
    "**a)** Implemente na célula abaixo a solução numérica dessa equação para $t$ variando de $0$ a $30$ e plote um gráfico de $N(t)$ por $t$. Considere que $N(0)=8$\n"
   ]
  },
  {
   "cell_type": "code",
   "execution_count": 58,
   "metadata": {},
   "outputs": [
    {
     "data": {
      "image/png": "[encoded data removed]",
      "text/plain": [
       "<Figure size 432x288 with 1 Axes>"
      ]
     },
     "metadata": {
      "needs_background": "light"
     },
     "output_type": "display_data"
    }
   ],
   "source": [
    "import numpy as np\n",
    "import matplotlib.pyplot as plt\n",
    "#implemente seu código aqui\n",
    "\n",
    "\n",
    "#condicoes iniciais\n",
    "N=8\n",
    "\n",
    "#lista tempo\n",
    "delta=0.1\n",
    "lista_tempo=np.arange(0,30,delta)\n",
    "\n",
    "#lista\n",
    "lista_grafico=[]\n",
    "\n",
    "\n",
    "for i in lista_tempo:\n",
    "    lista_grafico.append(N)\n",
    "    N=100/(N+1)\n",
    "    \n",
    "\n",
    "    \n",
    "plt.plot(lista_tempo,lista_grafico)\n",
    "plt.xlabel('Tempo')\n",
    "plt.ylabel('N(t)')\n",
    "plt.grid(True)\n",
    "plt.show()    \n",
    "\n",
    "\n"
   ]
  },
  {
   "cell_type": "markdown",
   "metadata": {},
   "source": [
    "**Questão 1** \n",
    "\n",
    "**b)** A sequência $N(t)$ parece se estabilizar quando $t$ assume valores muito elevados. Imprima na célula abaixo, com precisão de duas casas decimais, esse valor estável."
   ]
  },
  {
   "cell_type": "code",
   "execution_count": 57,
   "metadata": {},
   "outputs": [
    {
     "name": "stdout",
     "output_type": "stream",
     "text": [
      "9.52\n"
     ]
    }
   ],
   "source": [
    "\n",
    "N = 8 #Valor Inicial\n",
    "erro = 1 #Valor genérico para entrar no loop \n",
    "\n",
    "while (erro > 0.01) or (erro < -0.01):     #Poderíamos usar um Módulo aqui pra tirar o sinal\n",
    "    N_prox = 100/(N+1)\n",
    "    erro = N_prox-N\n",
    "    N = N_prox\n",
    "    \n",
    "precisao=\"%.2f\"%(N)\n",
    "    \n",
    "print(precisao)"
   ]
  },
  {
   "cell_type": "markdown",
   "metadata": {},
   "source": [
    "**Questão 2** \n",
    "\n",
    "O sistema de equações diferenciais a seguir modela o volume de água em dois tanques A e B, sendo que o tanque A é alimentado por uma fonte externa e escoa seu conteúdo no tanque B, o qual, por sua vez, escoa seu conteúdo em um sorvedouro:\n",
    "\n",
    "<center><br>\n",
    "$\\frac{dV_A}{dt}= 1-0,5\\cdot V_A$ <br>\n",
    "<br>\n",
    "$\\frac{dV_B}{dt}= 0,5\\cdot V_A - t^2 \\cdot V_B$\n",
    "</center><br>\n",
    "\n",
    "A unidade de tempo utilizada para todos os parâmetros e fluxos é o **minuto** e os volumes $V_A$ e $V_B$ dos tanques são medidos em **litros**.\n",
    "\n",
    "**a)** Implemente, na célula abaixo, uma função que recebe o instante $t$ e a lista com os valores de $V_A$ e $V_B$ nesse instante $t$ e retorna uma lista com os valores das derivadas $\\frac{dV_A}{dt}$ e $\\frac{dV_B}{dt}$ no mesmo instante $t$ (ou seja, a função que será utilizada por **ODEINT** posteriormente).\n",
    "\n",
    "Resumindo, a função deve receber, **nessa ordem**:\n",
    "\n",
    "- Uma **lista** com os valores de $V_A$ e $V_B$ no instante $t$\n",
    "- O instante $t$\n",
    "\n",
    "A função deve retornar, **nessa ordem**:\n",
    "\n",
    "- A taxa de variação $\\frac{dV_A}{dt}$\n",
    "- A taxa de variação $\\frac{dV_B}{dt}$\n",
    "\n",
    "Atenção: na célula abaixo, você vai apenas implementar a função, mas **não vai executá-la**."
   ]
  },
  {
   "cell_type": "code",
   "execution_count": null,
   "metadata": {},
   "outputs": [],
   "source": [
    "#implemente seu código aqui\n",
    "\n",
    "def equacoesdiferenciais (lista,t):\n",
    "    Va=lista[0]\n",
    "    Vb=lista[1]\n",
    "    dVadt=1-0.5*lista[0]\n",
    "    dVbdt=0.5*Va-(t**2)*Vb\n",
    "    return Va,Vb,dVadt,dVbdt\n"
   ]
  },
  {
   "cell_type": "markdown",
   "metadata": {},
   "source": [
    "**Questão 2** \n",
    "\n",
    "**b)** Use **ODEINT** para resolver o sistema de equações diferenciais, considerando as seguintes condições iniciais:\n",
    "\n",
    "- $V_A (0)= 10$\n",
    "- $V_B (0)=0$\n",
    "\n",
    "Na execução de **ODEINT**, você deverá, **obrigatoriamente**, usar a função que implementou no **item a** desta **questão 2**. A lista de tempo deve considerar o intervalo de $t=0$ até $t=30$ $min$, com $\\Delta t=10^{-3}$ $min$.\n",
    "\n",
    "Após resolver o sistema, plote **em uma mesma figura** os gráficos dos volumes $V_A$ e $V_B$ em função do tempo."
   ]
  },
  {
   "cell_type": "code",
   "execution_count": 16,
   "metadata": {},
   "outputs": [
    {
     "data": {
      "image/png": "[encoded data removed]",
      "text/plain": [
       "<Figure size 432x288 with 1 Axes>"
      ]
     },
     "metadata": {
      "needs_background": "light"
     },
     "output_type": "display_data"
    }
   ],
   "source": [
    "from scipy.integrate import odeint\n",
    "import matplotlib.pyplot as plt\n",
    "import numpy as np\n",
    "\n",
    "def equacoesdiferenciais (lista,t):\n",
    "    Va=lista[0]\n",
    "    Vb=lista[1]\n",
    "    dVadt=1-0.5*lista[0]\n",
    "    dVbdt=0.5*Va-(t**2)*Vb\n",
    "    return dVadt,dVbdt\n",
    "\n",
    "#condicoes iniciais \n",
    "lista_ci=[10,0]\n",
    "\n",
    "#lista tempo\n",
    "delta=1e-3\n",
    "lista_tempo=np.arange(0,30,delta)\n",
    "\n",
    "#aplicando odeint\n",
    "solucao=odeint(equacoesdiferenciais,lista_ci,lista_tempo)\n",
    "\n",
    "plt.plot(lista_tempo,solucao[:,0],'b',label=\"Tanque A\")\n",
    "plt.plot(lista_tempo,solucao[:,1],'r',label=\"Tanque B\") \n",
    "plt.xlabel(\"Tempo(s)\")\n",
    "plt.ylabel(\"Massa de líquido nos Tanques\")\n",
    "plt.legend()\n",
    "plt.grid(True)\n",
    "plt.show()\n"
   ]
  },
  {
   "cell_type": "markdown",
   "metadata": {},
   "source": [
    "**Questão 2** \n",
    "\n",
    "**c)** Nas condições do **item b** desta **questão 2**, use a célula abaixo para imprimir na tela o maior valor de $V_B$."
   ]
  },
  {
   "cell_type": "code",
   "execution_count": 25,
   "metadata": {},
   "outputs": [
    {
     "name": "stdout",
     "output_type": "stream",
     "text": [
      "3.2172846014509857\n"
     ]
    }
   ],
   "source": [
    "print(max(solucao[:,1]))"
   ]
  },
  {
   "cell_type": "markdown",
   "metadata": {},
   "source": [
    "**Questão 2** \n",
    "\n",
    "**d)** Agora, você deverá executar **ODEINT** para diferentes valores da condição inicial $V_A (0)$. Esses valores estão contidos na lista a seguir:\n",
    "\n",
    "<br><center>**[0, 0.5, 1, 1.5, 2, 2.5, 3, 3.5, 4]**</center><br>\n",
    "\n",
    "Implemente um *loop* de modo que, para cada valor de $V_A (0)$, **ODEINT** seja executada. Para cada execução, registre o maior volume que o **tanque B** (não o A!) atinge e, por fim, plote uma figura que exiba a relação entre a condição inicial $V_A (0)$ (eixo das abscissas) e o maior volume atingido pelo tanque B (eixo das ordenadas)."
   ]
  },
  {
   "cell_type": "code",
   "execution_count": 59,
   "metadata": {},
   "outputs": [
    {
     "data": {
      "image/png": "[encoded data removed]",
      "text/plain": [
       "<Figure size 432x288 with 1 Axes>"
      ]
     },
     "metadata": {
      "needs_background": "light"
     },
     "output_type": "display_data"
    }
   ],
   "source": [
    "from scipy.integrate import odeint\n",
    "import matplotlib.pyplot as plt\n",
    "import numpy as np\n",
    "\n",
    "def equacoesdiferenciais (lista,t):\n",
    "    Va=lista[0]\n",
    "    Vb=lista[1]\n",
    "    dVadt=1-0.5*Va\n",
    "    dVbdt=0.5*Va-(t**2)*Vb\n",
    "    return dVadt,dVbdt\n",
    "\n",
    "\n",
    "#lista tempo\n",
    "delta=1e-3\n",
    "lista_tempo=np.arange(0,30,delta)\n",
    "\n",
    "#condicoes iniciais \n",
    "lista_ciA=[0, 0.5, 1, 1.5, 2, 2.5, 3, 3.5, 4]\n",
    "lista_ciB=0\n",
    "lista_ci=[]\n",
    "\n",
    "#valores maximos\n",
    "vmax=[]\n",
    " \n",
    "#equacoes diferencias\n",
    "for i in lista_ciA:\n",
    "    lista_ci=[i,0]\n",
    "    solucao=odeint(equacoesdiferenciais,lista_ci,lista_tempo)\n",
    "    vmax.append(max(solucao[:,1]))\n",
    "                     \n",
    "                \n",
    "plt.plot(lista_CiA,vmax,'o')\n",
    "plt.xlabel('Tanque A')\n",
    "plt.ylabel('Tanque B')\n",
    "plt.grid(True)\n",
    "plt.show()"
   ]
  },
  {
   "cell_type": "markdown",
   "metadata": {},
   "source": [
    "**Questão 3** \n",
    "\n",
    "Considere, novamente, o sistema de equações diferenciais da **questão 2**:\n",
    "\n",
    "<center><br>\n",
    "$\\frac{dV_A}{dt}= 1-0,5\\cdot V_A$ <br>\n",
    "<br>\n",
    "$\\frac{dV_B}{dt}= 0,5\\cdot V_A - t^2 \\cdot V_B$\n",
    "</center><br>\n",
    "\n",
    "Nesta questão, você deverá resolver novamente esse sistema para as condições iniciais $V_A (0)= 10$ e $V_B (0)=0$, com uma lista de tempo que contemple o intervalo de $t=0$ até $t=30$ $min$, com $\\Delta t=10^{-3}$ $min$.\n",
    "\n",
    "Porém, dessa vez, você deverá utilizar o **método de Euler**, em vez de **ODEINT**. \n",
    "\n",
    "Para que esta questão tenha pontuação integral, você deverá, em cada passo do *loop* do método de Euler, usar **a mesma função** que você implementou no **item a** da **questão 2**, em vez de digitar as expressões das derivadas novamente.\n",
    "\n",
    "Alternativamente, você pode não usar a função do **item a** da questão 2 e digitar novamente as expressões das derivadas. Nesse caso, esta questão valerá 20% a menos.\n",
    "\n",
    "Após executar o método de Euler, plote **em uma mesma figura** os gráficos dos volumes $V_A$ e $V_B$ em função do tempo."
   ]
  },
  {
   "cell_type": "code",
   "execution_count": 47,
   "metadata": {},
   "outputs": [
    {
     "data": {
      "image/png": "[encoded data removed]",
      "text/plain": [
       "<Figure size 432x288 with 1 Axes>"
      ]
     },
     "metadata": {
      "needs_background": "light"
     },
     "output_type": "display_data"
    }
   ],
   "source": [
    "import matplotlib.pyplot as plt\n",
    "import numpy as np\n",
    "\n",
    "\n",
    "#lista condicoes inicias \n",
    "lista=[10,0]\n",
    "\n",
    "#lista tempo\n",
    "delta=1e-3\n",
    "lista_tempo=np.arange(0,30,delta)\n",
    "\n",
    "#listas\n",
    "lista_TA=[]\n",
    "lista_TB=[]\n",
    "\n",
    "for i in lista_tempo:\n",
    "    lista_TA.append(lista[0])\n",
    "    lista_TB.append(lista[1])\n",
    "    derivada=equacoesdiferenciais (lista,i)\n",
    "    lista[0]=lista[0]+derivada[0]*delta\n",
    "    lista[1]=lista[1]+derivada[1]*delta\n",
    "\n",
    "plt.plot(lista_tempo,lista_TA,\"b\",label=\"Tanque A\")\n",
    "plt.plot(lista_tempo,lista_TB,\"r\",label=\"Tanque B\")\n",
    "plt.legend()\n",
    "plt.grid(True)\n",
    "plt.show()"
   ]
  }
 ],
 "metadata": {
  "kernelspec": {
   "display_name": "Python 3",
   "language": "python",
   "name": "python3"
  },
  "language_info": {
   "codemirror_mode": {
    "name": "ipython",
    "version": 3
   },
   "file_extension": ".py",
   "mimetype": "text/x-python",
   "name": "python",
   "nbconvert_exporter": "python",
   "pygments_lexer": "ipython3",
   "version": "3.7.6"
  }
 },
 "nbformat": 4,
 "nbformat_minor": 2
}
