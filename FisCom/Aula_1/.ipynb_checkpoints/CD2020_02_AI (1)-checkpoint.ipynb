{
 "cells": [
  {
   "cell_type": "markdown",
   "metadata": {},
   "source": [
    "# Avaliação Intermediária de Ciência dos dados \n",
    "\n",
    "## 2020 - 2o. semestre \n",
    "\n",
    "___\n"
   ]
  },
  {
   "cell_type": "markdown",
   "metadata": {},
   "source": [
    "### COLOQUE SEU NOME AQUI\n",
    "\n",
    "Lívia Sayuri Makuta"
   ]
  },
  {
   "cell_type": "markdown",
   "metadata": {},
   "source": [
    "___\n",
    "## Instruções\n",
    "\n",
    "**Leia atentamente as instruções desta avaliação. Essas devem ser seguidas rigorosamente!**\n",
    "\n",
    "**Prezado(a) Aluno(a),**\n",
    "\n",
    "Você terá **135 minutos** a partir do início oficial da prova (**às 9h00 do dia 13/10**) para concluir esta avaliação, administre bem o seu tempo. \n",
    "\n",
    "Esta avaliação terá as seguintes etapas:\n",
    "\n",
    "**9h00 às 9h05**\n",
    "       \n",
    " * **(1 minuto) - Momento ZERO:** às 9h00 já esteja na equipe de Ciência dos dados (canal Geral) para receber instruções.\n",
    " * **(3 minutos) - Início da prova:** Entre no Blackboard e inicie o teste em `Conteúdos/Avaliações/Avaliação Intermediária/AI (ativar Proctorio)`. Caso não ative esse teste em até 15 minutos do início da prova (ou seja, até às 9h15), não terá mais direito de entregar essa prova, obtendo falta na mesma.\n",
    " * **(1 minuto) - Prova no servidor:** Entre no seu e-mail do Insper para saber o site e senha para ter acesso a sua prova. TRABALHE OBRIGATORIAMENTE NO SERVIDOR O QUAL GARANTE UMA CÓPIA DO SUA PROVA - BACKUP.\n",
    "\n",
    "\n",
    "**9h05 às 11h05**  \n",
    "\n",
    " * **(2 hora) - Desenvolvimento da prova:** Concentre-se em resolver o notebook.\n",
    " * ATENÇÃO: administre esse tempo da maneira que julgar mais adequada para você.\n",
    "\n",
    "\n",
    "**11h05 às 11h15**  \n",
    " * **(10 minutos) - Entrega via Blackboard - Notebook:** O arquivo `.ipynb` deve ser entregue em `Conteúdos/Avaliações/Avaliação Intermediária/Entrega da prova`. \n",
    "\n",
    "<br>\n",
    "\n",
    "Leia atentamente as instruções a seguir e as questões da prova antes de começar a resolvê-la.\n",
    "\n",
    "1. Identifique-se no cabeçalho deste arquivo. Essa prova é INDIVIDUAL.\n",
    "2. Esta Avaliação consiste em um arquivo Jupyter que será submetido ao Blackboard.\n",
    "3. Leia atentamente as **Precauções de segurança** abaixo para evitar ter sua prova anulada.\n",
    "4. Em caso de dúvida sobre alguma questão desta avaliação, redija um texto em uma nova célula deste Jupyter notebook explicitando-a para que o professor avalie a pertinência durante a correção.  \n",
    "5. Você pode utilizar qualquer material individual para consulta – anotações, livros, etc. Mas não pode compartilhar este material com seus colegas.\n",
    "6. Consulta a colegas constituirá violação ao Código de Ética e de Conduta e acarretarão sanções nele previstas. Faça o seu trabalho de maneira ética!\n",
    "7. Leia atentamente cada questão e responda o que for pedido. Erros conceituais serão penalizados, mesmo que o conceito não se relacione com o que foi pedido na questão.\n",
    "8. Caso em algum item você necessite do resultado de um item anterior que você não conseguiu fazer, admita um valor razoável para esse resultado e faça o item normalmente. Indique na questão, caso isso aconteça.\n",
    "9. Todos os resultados devem ser justificados. Números que apareçam sem uma explicação de como foram encontrados serão ignorados na correção.\n",
    "10. A qualidade do código na resolução em cada item também será levada em consideração, ou seja, códigos complicados para soluções que podem ser simples serão penalizados.\n",
    "11. Esta avaliação requer **entrega via Blackboard**. **Não serão consideradas entregas por outros meios** (ex: e-mail, MS Teams, etc.).\n",
    "\n",
    "#### Precauções de segurança\n",
    "\n",
    "1.\tTodas as precauções abaixo podem ser resumidas da seguinte forma: consulte o material que quiser desde que não seja nenhuma pessoa e não compartilhe informações com ninguém. \n",
    "2.\tVocê não pode enviar nenhum tipo de mensagem durante a prova para qualquer pessoa dentro ou fora dela, com exceção do(a) professor(a). Por exemplo: e-mail, Skype, mensagens do Facebook, mensagens do WhatsApp, mensagens via Twitter, etc\n",
    "3.\tVocê não pode compartilhar nenhum tipo de informação em nenhum site, incluindo Pastebin, Codeshare, wikis, etc\n",
    "4.\tVocê não pode perguntar questões da prova no StackOverflow, StackExchange, MathExchange, etc. \n",
    "5.\tVocê pode procurar/tirar dúvida no Google.\n",
    "6.\tVocê pode consultar qualquer arquivo no seu computador.\n",
    "7.\tQualquer transgressão das normas acima pode zerar a nota da prova e implicar em infração ao código de ética do Insper."
   ]
  },
  {
   "cell_type": "markdown",
   "metadata": {},
   "source": [
    "___\n",
    "Carregando algumas bibliotecas:"
   ]
  },
  {
   "cell_type": "code",
   "execution_count": 1,
   "metadata": {},
   "outputs": [],
   "source": [
    "%matplotlib inline\n",
    "import pandas as pd\n",
    "import matplotlib.pyplot as plt\n",
    "import numpy as np\n",
    "\n",
    "from scipy import stats\n",
    "import math\n",
    "\n",
    "# Para ter melhor print\n",
    "from IPython.display import display"
   ]
  },
  {
   "cell_type": "markdown",
   "metadata": {},
   "source": [
    "___\n",
    "## Índice\n",
    "\n",
    "- [Questão 1](#q1) **[2,0 pontos]** \n",
    "- [Questão 2](#q2) **[3,5 pontos]** \n",
    "- [Questão 3](#q3) **[2,0 pontos]** \n",
    "  - [Base de dados: bank](#bank)\n",
    "- [Questão 4](#q4) **[2,5 pontos]** \n",
    "___"
   ]
  },
  {
   "cell_type": "markdown",
   "metadata": {},
   "source": [
    "<div id=\"q1\"></div>\n",
    "\n",
    "___\n",
    "### Questão 1\n",
    "\n",
    "**[2,0 pontos]** \n",
    "\n",
    "No artigo de [Moro et al (2014)](https://www.researchgate.net/publication/260805594_A_Data-Driven_Approach_to_Predict_the_Success_of_Bank_Telemarketing), o intuito é prever o sucesso de vendas do telemarketing na venda de um produto bancário, considerando clientes de um banco português abordados entre 2008 e 2013.\n",
    "\n",
    "Para cada cliente, foram mensurados o tempo de duração do contato telefônico (em segundos) e a venda ou não do produto bancário oferecido.\n",
    "\n",
    "Os resultados foram que:\n",
    "  * $88,5\\%$ dos clientes abordados não aderiram ao produto bancário;\n",
    "  * dos clientes que não aderiram ao produto bancário, $77,3\\%$ deles conversaram no máximo 5 minutos no telefone; e\n",
    "  * dos clientes que conversaram no máximo 5 minutos no telefone, $94,9\\%$ deles não aderiram ao produto bancário."
   ]
  },
  {
   "cell_type": "markdown",
   "metadata": {},
   "source": [
    "a) **[0,75 pontos]** Nesse contexto, calcule a probabilidade de um cliente qualquer conversar no máximo 5 minutos no telefone ao receber um contato telefônico para venda desse produto bancário. "
   ]
  },
  {
   "cell_type": "code",
   "execution_count": 2,
   "metadata": {},
   "outputs": [
    {
     "data": {
      "text/plain": [
       "0.6899700000000001"
      ]
     },
     "execution_count": 2,
     "metadata": {},
     "output_type": "execute_result"
    }
   ],
   "source": [
    "# clientes abordados\n",
    "nao_aderiram = 88.5/100\n",
    "aderiram = 11.5/100\n",
    "\n",
    "#nao aderiram e conversaram no máximo 5 minutos:\n",
    "conversa_naoaderiram = 77.3/100\n",
    "\n",
    "#dos que conversaram no máximo 5 minutos:\n",
    "naoaderiram = 94.9/100\n",
    "conversa_aderiram = 5.1/100\n",
    "\n",
    "P_conversar_max5 = nao_aderiram*conversa_naoaderiram + aderiram*conversa_aderiram\n",
    "\n",
    "P_conversar_max5\n"
   ]
  },
  {
   "cell_type": "markdown",
   "metadata": {},
   "source": [
    "b) **[0,75 pontos]** Se um cliente conversar mais do que 5 minutos, qual a probabilidade desse cliente aderir ao produto bancário?"
   ]
  },
  {
   "cell_type": "code",
   "execution_count": 3,
   "metadata": {},
   "outputs": [
    {
     "data": {
      "text/plain": [
       "0.03565344999999999"
      ]
     },
     "execution_count": 3,
     "metadata": {},
     "output_type": "execute_result"
    }
   ],
   "source": [
    "# Coloque seu código aqui...\n",
    "\n",
    "Prob_aderir_mais5min = (1- P_conversar_max5)*aderiram\n",
    "\n",
    "Prob_aderir_mais5min"
   ]
  },
  {
   "cell_type": "markdown",
   "metadata": {},
   "source": [
    "c) **[0,50 ponto]** Afirmativa: \"Considerando os clientes abordados entre 2008 e 2013, o sucesso da venda do produto bancário oferecido ao cliente depende do tempo de duração do contato telefônico\".\n",
    "\n",
    "Responda se \"Concorda\" ou \"Discorda\" da afirmação **justificando**, adequadamente, com uso de **valores numéricos de probabilidade** desta questão. Caso contrário, a resposta será considerada inválida."
   ]
  },
  {
   "cell_type": "markdown",
   "metadata": {},
   "source": [
    "# Coloque sua resposta aqui...\n",
    "\n",
    "R: Podemos dizer que a probabilidade de um cliente aderir a um produto depois de mais de cinco minutos de conversa é muito baixo, como calculado no item b). Então pode-se afirmar, ainda que negativamente, que o tempo de chamada influencia sim o sucesso de venda de um produto.  "
   ]
  },
  {
   "cell_type": "code",
   "execution_count": null,
   "metadata": {},
   "outputs": [],
   "source": []
  },
  {
   "cell_type": "markdown",
   "metadata": {},
   "source": [
    "<div id=\"q2\"></div>\n",
    "\n",
    "___\n",
    "### Questão 2\n",
    "\n",
    "**[3,5 pontos]** \n",
    "\n",
    "Ainda no contexto do artigo de [Moro et al (2014)](https://www.researchgate.net/publication/260805594_A_Data-Driven_Approach_to_Predict_the_Success_of_Bank_Telemarketing), assuma que $X$ seja o tempo de duração do contato telefônico (em segundos) de um cliente qualquer modelado por uma exponencial com média igual a $264$ segundos.\n",
    "\n",
    "Com base nesse modelo, responda:"
   ]
  },
  {
   "cell_type": "markdown",
   "metadata": {},
   "source": [
    "a) **[1,00 ponto]** Quando um cliente conversa mais do que 5 minutos, qual a probabilidade de não passar de 6 minutos?"
   ]
  },
  {
   "cell_type": "code",
   "execution_count": 4,
   "metadata": {},
   "outputs": [
    {
     "data": {
      "text/plain": [
       "0.0037807138245487433"
      ]
     },
     "execution_count": 4,
     "metadata": {},
     "output_type": "execute_result"
    }
   ],
   "source": [
    "# Coloque seu código aqui...\n",
    "\n",
    "mu = 264\n",
    "\n",
    "denominador = 1 - stats.expon.cdf(5,scale=mu)\n",
    "numerador = stats.expon.cdf(6,scale=mu) - stats.expon.cdf(5,scale=mu)\n",
    "\n",
    "numerador/denominador"
   ]
  },
  {
   "cell_type": "markdown",
   "metadata": {},
   "source": [
    "b) **[0,50 ponto]** Qual tempo mínimo de duração do contato telefônico (em segundos) das $5\\%$ conversas mais demoradas?"
   ]
  },
  {
   "cell_type": "code",
   "execution_count": 5,
   "metadata": {},
   "outputs": [
    {
     "data": {
      "text/plain": [
       "790.8733202182533"
      ]
     },
     "execution_count": 5,
     "metadata": {},
     "output_type": "execute_result"
    }
   ],
   "source": [
    "# Coloque seu código aqui...\n",
    "\n",
    "t_minimo= stats.expon.ppf(0.95, scale=mu)\n",
    "\n",
    "t_minimo #em segundos"
   ]
  },
  {
   "cell_type": "markdown",
   "metadata": {},
   "source": [
    "c) **[1,00 ponto]** Uma atendente de telemarketing precisa ligar para 10 clientes para ofertar esse produto bancário. Qual a probabilidade de que nenhum desses 10 clientes conversem mais do que 5 minutos no contato telefônico?"
   ]
  },
  {
   "cell_type": "code",
   "execution_count": 6,
   "metadata": {},
   "outputs": [
    {
     "data": {
      "text/plain": [
       "5.4025564338871565e-18"
      ]
     },
     "execution_count": 6,
     "metadata": {},
     "output_type": "execute_result"
    }
   ],
   "source": [
    "# Coloque seu código aqui...\n",
    "\n",
    "n = 10 \n",
    "p = 1 - stats.expon.cdf(5,scale=mu)\n",
    "\n",
    "stats.binom.pmf(0,n,p)"
   ]
  },
  {
   "cell_type": "markdown",
   "metadata": {},
   "source": [
    "d) **[1,00 ponto]** Assuma que o número de vendas por dia desse produto bancário seja, em média, igual a 12 vendas. Suponha que:\n",
    "\n",
    "- As vendas são independentes entre si;\n",
    "- Os dias se comportam de maneira semelhante uns aos outros.\n",
    "\n",
    "Atribuindo um modelo probabilístico adequado a essa variável, encontre o percentil de ordem $25\\%$."
   ]
  },
  {
   "cell_type": "code",
   "execution_count": 7,
   "metadata": {},
   "outputs": [
    {
     "data": {
      "text/plain": [
       "10.0"
      ]
     },
     "execution_count": 7,
     "metadata": {},
     "output_type": "execute_result"
    }
   ],
   "source": [
    "# Coloque seu código aqui...\n",
    "\n",
    "mu2 = 12\n",
    "\n",
    "stats.poisson.ppf(0.25,mu2)"
   ]
  },
  {
   "cell_type": "markdown",
   "metadata": {},
   "source": [
    "<div id=\"q3\"></div>\n",
    "\n",
    "___\n",
    "### Questão 3\n",
    "\n",
    "**[2,0 pontos]** \n",
    "\n",
    "Nesta questão, vamos considerar a base de dados utilizada em [Moro et al (2014)](https://www.researchgate.net/publication/260805594_A_Data-Driven_Approach_to_Predict_the_Success_of_Bank_Telemarketing)."
   ]
  },
  {
   "cell_type": "markdown",
   "metadata": {},
   "source": [
    "<div id=\"bank\"></div>\n",
    "Primeiro, vamos verificar se o arquivo de dados está no nosso diretório:"
   ]
  },
  {
   "cell_type": "code",
   "execution_count": 8,
   "metadata": {},
   "outputs": [
    {
     "name": "stdout",
     "output_type": "stream",
     "text": [
      "Encontrei o arquivo bank.csv, tudo certo para prosseguir com a prova!\n"
     ]
    }
   ],
   "source": [
    "import os\n",
    "\n",
    "filename = 'bank.csv'\n",
    "if filename in os.listdir():\n",
    "    print(f'Encontrei o arquivo {filename}, tudo certo para prosseguir com a prova!')\n",
    "else:\n",
    "    print(f'Não encontrei o arquivo {filename} aqui no diretório {os.getcwd()}, '\n",
    "          'será que você não baixou o arquivo?')"
   ]
  },
  {
   "cell_type": "markdown",
   "metadata": {},
   "source": [
    "Se tudo deu certo até agora, vamos ler os dados:"
   ]
  },
  {
   "cell_type": "code",
   "execution_count": 9,
   "metadata": {},
   "outputs": [],
   "source": [
    "dados = pd.read_csv(filename, sep=\";\")"
   ]
  },
  {
   "cell_type": "code",
   "execution_count": 10,
   "metadata": {
    "scrolled": true
   },
   "outputs": [
    {
     "data": {
      "text/html": [
       "<div>\n",
       "<style scoped>\n",
       "    .dataframe tbody tr th:only-of-type {\n",
       "        vertical-align: middle;\n",
       "    }\n",
       "\n",
       "    .dataframe tbody tr th {\n",
       "        vertical-align: top;\n",
       "    }\n",
       "\n",
       "    .dataframe thead th {\n",
       "        text-align: right;\n",
       "    }\n",
       "</style>\n",
       "<table border=\"1\" class=\"dataframe\">\n",
       "  <thead>\n",
       "    <tr style=\"text-align: right;\">\n",
       "      <th></th>\n",
       "      <th>age</th>\n",
       "      <th>job</th>\n",
       "      <th>marital</th>\n",
       "      <th>education</th>\n",
       "      <th>default</th>\n",
       "      <th>balance</th>\n",
       "      <th>housing</th>\n",
       "      <th>loan</th>\n",
       "      <th>contact</th>\n",
       "      <th>day</th>\n",
       "      <th>month</th>\n",
       "      <th>duration</th>\n",
       "      <th>campaign</th>\n",
       "      <th>pdays</th>\n",
       "      <th>previous</th>\n",
       "      <th>poutcome</th>\n",
       "      <th>y</th>\n",
       "    </tr>\n",
       "  </thead>\n",
       "  <tbody>\n",
       "    <tr>\n",
       "      <th>0</th>\n",
       "      <td>30</td>\n",
       "      <td>unemployed</td>\n",
       "      <td>married</td>\n",
       "      <td>primary</td>\n",
       "      <td>no</td>\n",
       "      <td>1787</td>\n",
       "      <td>no</td>\n",
       "      <td>no</td>\n",
       "      <td>cellular</td>\n",
       "      <td>19</td>\n",
       "      <td>oct</td>\n",
       "      <td>79</td>\n",
       "      <td>1</td>\n",
       "      <td>-1</td>\n",
       "      <td>0</td>\n",
       "      <td>unknown</td>\n",
       "      <td>no</td>\n",
       "    </tr>\n",
       "    <tr>\n",
       "      <th>1</th>\n",
       "      <td>33</td>\n",
       "      <td>services</td>\n",
       "      <td>married</td>\n",
       "      <td>secondary</td>\n",
       "      <td>no</td>\n",
       "      <td>4789</td>\n",
       "      <td>yes</td>\n",
       "      <td>yes</td>\n",
       "      <td>cellular</td>\n",
       "      <td>11</td>\n",
       "      <td>may</td>\n",
       "      <td>220</td>\n",
       "      <td>1</td>\n",
       "      <td>339</td>\n",
       "      <td>4</td>\n",
       "      <td>failure</td>\n",
       "      <td>no</td>\n",
       "    </tr>\n",
       "    <tr>\n",
       "      <th>2</th>\n",
       "      <td>35</td>\n",
       "      <td>management</td>\n",
       "      <td>single</td>\n",
       "      <td>tertiary</td>\n",
       "      <td>no</td>\n",
       "      <td>1350</td>\n",
       "      <td>yes</td>\n",
       "      <td>no</td>\n",
       "      <td>cellular</td>\n",
       "      <td>16</td>\n",
       "      <td>apr</td>\n",
       "      <td>185</td>\n",
       "      <td>1</td>\n",
       "      <td>330</td>\n",
       "      <td>1</td>\n",
       "      <td>failure</td>\n",
       "      <td>no</td>\n",
       "    </tr>\n",
       "    <tr>\n",
       "      <th>3</th>\n",
       "      <td>30</td>\n",
       "      <td>management</td>\n",
       "      <td>married</td>\n",
       "      <td>tertiary</td>\n",
       "      <td>no</td>\n",
       "      <td>1476</td>\n",
       "      <td>yes</td>\n",
       "      <td>yes</td>\n",
       "      <td>unknown</td>\n",
       "      <td>3</td>\n",
       "      <td>jun</td>\n",
       "      <td>199</td>\n",
       "      <td>4</td>\n",
       "      <td>-1</td>\n",
       "      <td>0</td>\n",
       "      <td>unknown</td>\n",
       "      <td>no</td>\n",
       "    </tr>\n",
       "    <tr>\n",
       "      <th>4</th>\n",
       "      <td>59</td>\n",
       "      <td>blue-collar</td>\n",
       "      <td>married</td>\n",
       "      <td>secondary</td>\n",
       "      <td>no</td>\n",
       "      <td>0</td>\n",
       "      <td>yes</td>\n",
       "      <td>no</td>\n",
       "      <td>unknown</td>\n",
       "      <td>5</td>\n",
       "      <td>may</td>\n",
       "      <td>226</td>\n",
       "      <td>1</td>\n",
       "      <td>-1</td>\n",
       "      <td>0</td>\n",
       "      <td>unknown</td>\n",
       "      <td>no</td>\n",
       "    </tr>\n",
       "  </tbody>\n",
       "</table>\n",
       "</div>"
      ],
      "text/plain": [
       "   age          job  marital  education default  balance housing loan  \\\n",
       "0   30   unemployed  married    primary      no     1787      no   no   \n",
       "1   33     services  married  secondary      no     4789     yes  yes   \n",
       "2   35   management   single   tertiary      no     1350     yes   no   \n",
       "3   30   management  married   tertiary      no     1476     yes  yes   \n",
       "4   59  blue-collar  married  secondary      no        0     yes   no   \n",
       "\n",
       "    contact  day month  duration  campaign  pdays  previous poutcome   y  \n",
       "0  cellular   19   oct        79         1     -1         0  unknown  no  \n",
       "1  cellular   11   may       220         1    339         4  failure  no  \n",
       "2  cellular   16   apr       185         1    330         1  failure  no  \n",
       "3   unknown    3   jun       199         4     -1         0  unknown  no  \n",
       "4   unknown    5   may       226         1     -1         0  unknown  no  "
      ]
     },
     "execution_count": 10,
     "metadata": {},
     "output_type": "execute_result"
    }
   ],
   "source": [
    "dados.head()"
   ]
  },
  {
   "cell_type": "markdown",
   "metadata": {},
   "source": [
    "**SIGNIFICADO DAS VARIÁVEIS:**\n",
    "\n",
    "Dentre todas essas variáveis (com nome em inglês) apresentadas nessa base de dados, vamos trabalhar com apenas as seguintes colunas:\n",
    "  *\t`duration`: tempo de duração da chamada telefônica para oferecer produto bancário (em segundos) \n",
    "  * `y`: adesão ou não do produto oferecido pelo contato telefônico (com as categorias: 'yes' e 'no')\n"
   ]
  },
  {
   "cell_type": "markdown",
   "metadata": {},
   "source": [
    "**PERGUNTA:**\n",
    "\n",
    "Nesta questão, o objetivo será avaliar se `duration` segmentanda pela variável `y` pode ser modelada por uma distribuição exponencial. \n",
    "\n",
    "Faça:\n",
    "  * **[0,25 ponto]** **Crie duas pd.Series**: uma contendo o tempo de duração apenas dos clientes que **não fizeram** adesão ao produto e guarde em `duration_no`; e outra contendo o tempo de duração apenas dos clientes que **fizeram** adesão ao produto e guarde em `duration_yes`;\n",
    "\n",
    "  * **[0,50 ponto]** **Construa dois histogramas** de densidade: um considerando `duration_no` e outro considerando `duration_yes`. Faça uso de `plt.subplot()` adequadamente;\n",
    "  \n",
    "  * **[0,25 ponto]** Para cada série **estime o parâmetro $\\mu$ da exponencial** considerando os valores da série;\n",
    "  \n",
    "  * **[0,50 ponto]** **Calcule a função densidade de probabilidade (f.d.p.) da exponencial** para valores do tempo de duração compatíveis com os histogramas anteriores, e assumindo as respectivas estimativas de $\\mu$ obtidas no item anterior; e, por fim,\n",
    "  \n",
    "  * **[0,50 ponto]** **Visualize cada f.d.p.** calculada anteriormente sobre seu respectivo histograma de densidade obtido a partir dos dados."
   ]
  },
  {
   "cell_type": "code",
   "execution_count": 11,
   "metadata": {},
   "outputs": [],
   "source": [
    "# Coloque seu código aqui...\n",
    "\n",
    "Filtro_no = dados.y == 'no'\n",
    "Filtro_yes = dados.y == 'yes'\n",
    "\n",
    "duration_no = dados.loc[Filtro_no, ['duration']]\n",
    "duration_yes = dados.loc[Filtro_yes, ['duration']]\n",
    "\n"
   ]
  },
  {
   "cell_type": "code",
   "execution_count": 12,
   "metadata": {},
   "outputs": [
    {
     "data": {
      "text/plain": [
       "(0, 200]        0.141393\n",
       "(200, 400]      0.340164\n",
       "(400, 600]      0.196721\n",
       "(600, 800]      0.159836\n",
       "(800, 1000]     0.104508\n",
       "(1000, 1200]    0.057377\n",
       "Name: duration, dtype: float64"
      ]
     },
     "execution_count": 12,
     "metadata": {},
     "output_type": "execute_result"
    }
   ],
   "source": [
    "faixa = np.arange(0,1270,200)\n",
    "faixa\n",
    "\n",
    "duration_yes2 = pd.cut(duration_yes['duration'], bins = faixa)\n",
    "duration_yes2.value_counts(True, sort=False)\n"
   ]
  },
  {
   "cell_type": "code",
   "execution_count": 13,
   "metadata": {},
   "outputs": [
    {
     "data": {
      "text/plain": [
       "(0, 200]        0.593514\n",
       "(200, 400]      0.274007\n",
       "(400, 600]      0.079688\n",
       "(600, 800]      0.036953\n",
       "(800, 1000]     0.009804\n",
       "(1000, 1200]    0.006033\n",
       "Name: duration, dtype: float64"
      ]
     },
     "execution_count": 13,
     "metadata": {},
     "output_type": "execute_result"
    }
   ],
   "source": [
    "faixa = np.arange(0,1270,200)\n",
    "faixa\n",
    "\n",
    "duration_no2 = pd.cut(duration_no['duration'], bins = faixa)\n",
    "duration_no2.value_counts(True, sort=False)"
   ]
  },
  {
   "cell_type": "code",
   "execution_count": 14,
   "metadata": {},
   "outputs": [
    {
     "data": {
      "image/png": "[encoded data removed]",
      "text/plain": [
       "<Figure size 1008x432 with 1 Axes>"
      ]
     },
     "metadata": {
      "needs_background": "light"
     },
     "output_type": "display_data"
    },
    {
     "data": {
      "image/png": "[encoded data removed]",
      "text/plain": [
       "<Figure size 432x288 with 1 Axes>"
      ]
     },
     "metadata": {
      "needs_background": "light"
     },
     "output_type": "display_data"
    }
   ],
   "source": [
    "\n",
    "plt.figure(figsize=(14,6))\n",
    "\n",
    "plt.subplot(121)\n",
    "\n",
    "amplitude = faixa\n",
    "plt.hist(duration_yes['duration'], bins=amplitude, edgecolor='white',density=True)\n",
    "plt.title('Histograma de densidade:duração e sim')\n",
    "plt.ylabel('densidade')\n",
    "plt.xlabel('em segundos')\n",
    "plt.show()\n",
    "\n",
    "plt.subplot(122)\n",
    "\n",
    "amplitude = faixa\n",
    "plt.hist(duration_no['duration'], bins=amplitude, edgecolor='white',density=True)\n",
    "plt.title('Histograma de densidade:duração e não')\n",
    "plt.ylabel('densidade')\n",
    "plt.xlabel('em segundos')\n",
    "\n",
    "plt.show()"
   ]
  },
  {
   "cell_type": "code",
   "execution_count": 15,
   "metadata": {},
   "outputs": [
    {
     "name": "stdout",
     "output_type": "stream",
     "text": [
      "esse é o mu estimado para não : duration    226.3475\n",
      "dtype: float64\n",
      "esse é o mu estimado para sim : duration    552.742802\n",
      "dtype: float64\n"
     ]
    }
   ],
   "source": [
    "mu_estimado_no = duration_no.mean()\n",
    "print('esse é o mu estimado para não : {0}'.format(mu_estimado_no))\n",
    "\n",
    "mu_estimado_yes = duration_yes.mean()\n",
    "print('esse é o mu estimado para sim : {0}'.format(mu_estimado_yes))"
   ]
  },
  {
   "cell_type": "code",
   "execution_count": 16,
   "metadata": {},
   "outputs": [
    {
     "data": {
      "image/png": "[encoded data removed]",
      "text/plain": [
       "<Figure size 1008x432 with 2 Axes>"
      ]
     },
     "metadata": {
      "needs_background": "light"
     },
     "output_type": "display_data"
    }
   ],
   "source": [
    "x = np.linspace(0, 1270,100)\n",
    "\n",
    "fx_no = stats.expon.pdf(x, scale=mu_estimado_no)\n",
    "fx_yes = stats.expon.pdf(x, scale=mu_estimado_yes)\n",
    "\n",
    "faixa = np.arange(0,1270,100)\n",
    "\n",
    "\n",
    "plt.figure(figsize=(14,6))\n",
    "\n",
    "plt.subplot(121)\n",
    "amplitude = faixa\n",
    "plt.hist(duration_no['duration'], bins=amplitude, density=True)\n",
    "plt.plot(x,fx_no,color='red')\n",
    "plt.title('Histograma de densidade de probabilidade: não')\n",
    "plt.ylabel('densidade')\n",
    "plt.xlabel('em segundos')\n",
    "\n",
    "plt.subplot(122)\n",
    "amplitude = faixa\n",
    "plt.hist(duration_yes['duration'], bins=amplitude, density=True)\n",
    "plt.plot(x,fx_yes,color='red')\n",
    "plt.title('Histograma de densidade de probabilidade: sim')\n",
    "plt.ylabel('densidade')\n",
    "plt.xlabel('em segundos')\n",
    "\n",
    "\n",
    "plt.show()"
   ]
  },
  {
   "cell_type": "markdown",
   "metadata": {},
   "source": [
    "<div id=\"q4\"></div>\n",
    "\n",
    "___\n",
    "### Questão 4"
   ]
  },
  {
   "cell_type": "markdown",
   "metadata": {},
   "source": [
    "**[2,5 pontos]** "
   ]
  },
  {
   "cell_type": "markdown",
   "metadata": {},
   "source": [
    "O serviço de entregas de comida iQueMedo entrega apenas 4 itens diferentes durante a semana: coxinha (C), carne misteriosa (M), peixe caramelizado - pensa uma maçã do amor, mas de sardinha - (P) e ostra *vintage* (O). Aos sábados servem pizza ou sushi.\n",
    "\n",
    "O *DataFrame* abaixo mostra o histórico de compras de alguns clientes durante a semana, e qual o pedido que fizeram no sábado. A coluna \"Semana\" contém uma *string* onde cada letra representa um pedido (dentre as opções acima: 'C', 'M', 'P' e 'O'), e a coluna \"Final\" mostra o que foi pedido no final de semana."
   ]
  },
  {
   "cell_type": "code",
   "execution_count": 17,
   "metadata": {},
   "outputs": [
    {
     "name": "stdout",
     "output_type": "stream",
     "text": [
      "Encontrei o arquivo comidas.csv, tudo certo para prosseguir com a prova!\n"
     ]
    }
   ],
   "source": [
    "import os\n",
    "\n",
    "filename = 'comidas.csv'\n",
    "if filename in os.listdir():\n",
    "    print(f'Encontrei o arquivo {filename}, tudo certo para prosseguir com a prova!')\n",
    "else:\n",
    "    print(f'Não encontrei o arquivo {filename} aqui no diretório {os.getcwd()}, '\n",
    "          'será que você não baixou o arquivo?')"
   ]
  },
  {
   "cell_type": "code",
   "execution_count": 18,
   "metadata": {},
   "outputs": [],
   "source": [
    "comidas = pd.read_csv(filename, sep=\";\")"
   ]
  },
  {
   "cell_type": "code",
   "execution_count": 19,
   "metadata": {
    "scrolled": true
   },
   "outputs": [
    {
     "data": {
      "text/html": [
       "<div>\n",
       "<style scoped>\n",
       "    .dataframe tbody tr th:only-of-type {\n",
       "        vertical-align: middle;\n",
       "    }\n",
       "\n",
       "    .dataframe tbody tr th {\n",
       "        vertical-align: top;\n",
       "    }\n",
       "\n",
       "    .dataframe thead th {\n",
       "        text-align: right;\n",
       "    }\n",
       "</style>\n",
       "<table border=\"1\" class=\"dataframe\">\n",
       "  <thead>\n",
       "    <tr style=\"text-align: right;\">\n",
       "      <th></th>\n",
       "      <th>Sábado</th>\n",
       "      <th>Semana</th>\n",
       "    </tr>\n",
       "  </thead>\n",
       "  <tbody>\n",
       "    <tr>\n",
       "      <th>0</th>\n",
       "      <td>pizza</td>\n",
       "      <td>PMPCPCC</td>\n",
       "    </tr>\n",
       "    <tr>\n",
       "      <th>1</th>\n",
       "      <td>sushi</td>\n",
       "      <td>CPO</td>\n",
       "    </tr>\n",
       "    <tr>\n",
       "      <th>2</th>\n",
       "      <td>sushi</td>\n",
       "      <td>PPMPOPOOPP</td>\n",
       "    </tr>\n",
       "    <tr>\n",
       "      <th>3</th>\n",
       "      <td>sushi</td>\n",
       "      <td>POPPO</td>\n",
       "    </tr>\n",
       "    <tr>\n",
       "      <th>4</th>\n",
       "      <td>pizza</td>\n",
       "      <td>CPMM</td>\n",
       "    </tr>\n",
       "  </tbody>\n",
       "</table>\n",
       "</div>"
      ],
      "text/plain": [
       "  Sábado      Semana\n",
       "0  pizza     PMPCPCC\n",
       "1  sushi         CPO\n",
       "2  sushi  PPMPOPOOPP\n",
       "3  sushi       POPPO\n",
       "4  pizza        CPMM"
      ]
     },
     "execution_count": 19,
     "metadata": {},
     "output_type": "execute_result"
    }
   ],
   "source": [
    "comidas.head()"
   ]
  },
  {
   "cell_type": "markdown",
   "metadata": {},
   "source": [
    "a) **[1,5 ponto]** Queremos um sistema que permita escolher, baseado no histórico de pedidos de um cliente, se ele vai preferir sushi ou pizza no sábado.\n",
    "\n",
    "Construa um classificador Naive-Bayes para esse problema. Ou seja, determine:\n",
    "\n",
    "- as probabilidades condicionais de comida por preferência de final de semana, e \n",
    "- as probabilidades *a priori* das preferências de final de semana.\n",
    "\n",
    "Observação: você deve adotar as seguintes medidas simplificadoras:\n",
    "\n",
    "- Não precisa separar em treinamento e teste, estamos interessados apenas no classificador treinado com o conjunto completo de dados.\n",
    "- Não precisa implementar *smoothing*.\n",
    "- Não tem \"palavra desconhecida\": os pedidos são apenas as letras C, M, P e O.\n",
    "\n",
    "Dica: para separar uma *string* em lista de letras é simples: basta usar a função `list()`. Por exemplo:\n"
   ]
  },
  {
   "cell_type": "code",
   "execution_count": 20,
   "metadata": {},
   "outputs": [
    {
     "name": "stdout",
     "output_type": "stream",
     "text": [
      "['P', 'P', 'M', 'P', 'O', 'P', 'O', 'O', 'P', 'P']\n"
     ]
    }
   ],
   "source": [
    "texto = 'PPMPOPOOPP'\n",
    "lista = list(texto)\n",
    "print(lista)"
   ]
  },
  {
   "cell_type": "code",
   "execution_count": 29,
   "metadata": {},
   "outputs": [
    {
     "data": {
      "text/plain": [
       "sushi    110\n",
       "pizza     90\n",
       "Name: Sábado, dtype: int64"
      ]
     },
     "execution_count": 29,
     "metadata": {},
     "output_type": "execute_result"
    }
   ],
   "source": [
    "# Coloque seu código aqui...\n",
    "\n",
    "comidas.Sábado.value_counts()"
   ]
  },
  {
   "cell_type": "code",
   "execution_count": 22,
   "metadata": {},
   "outputs": [],
   "source": [
    "Sushi = comidas['Sábado'] == 'sushi'\n",
    "Pizza = comidas['Sábado'] == 'pizza'\n",
    "dados_S = comidas.loc[Sushi,'Semana']\n",
    "dados_P = comidas.loc[Pizza,'Semana']\n",
    "\n",
    "\n",
    "LISTA_COMIDAS = comidas.Semana\n",
    "lista_comidas_semana=[]\n",
    "\n",
    "for i in range(len(LISTA_COMIDAS)):\n",
    "    lista_comidas_semana.append(list(LISTA_COMIDAS[i]))\n",
    "\n",
    "lista_comidas_semana\n",
    "\n",
    "\n",
    "LISTA_SUSHI= list(dados_S)\n",
    "lista_sushi=[]\n",
    "\n",
    "for i in range(len(LISTA_SUSHI)):\n",
    "    lista_sushi.append(list(LISTA_SUSHI[i]))\n",
    "\n",
    "    \n",
    "LISTA_PIZZA= list(dados_P)\n",
    "lista_pizza=[]\n",
    "\n",
    "for i in range(len(LISTA_PIZZA)):\n",
    "    lista_pizza.append(list(LISTA_PIZZA[i]))\n",
    "\n"
   ]
  },
  {
   "cell_type": "code",
   "execution_count": 23,
   "metadata": {},
   "outputs": [],
   "source": [
    "lista_total=[]\n",
    "for i in range(len(lista_comidas_semana)):\n",
    "    palavra = lista_comidas_semana[i]\n",
    "    for termo in palavra:\n",
    "        if termo=='M' or termo =='O' or termo =='P' or termo=='C':\n",
    "            lista_total.append(termo)\n",
    "\n",
    "#__________________________________________________----\n",
    "\n",
    "lista_M_sushi=[]\n",
    "for i in range(len(lista_sushi)):\n",
    "    palavra = lista_sushi[i]\n",
    "    for termo in palavra:\n",
    "        if termo=='M':\n",
    "            lista_M_sushi.append(termo)\n",
    "            \n",
    "lista_M_pizza=[]\n",
    "for i in range(len(lista_pizza)):\n",
    "    palavra = lista_pizza[i]\n",
    "    for termo in palavra:\n",
    "        if termo=='M':\n",
    "            lista_M_pizza.append(termo)\n",
    "\n",
    "#_____________________________________________________________________\n",
    "\n",
    "\n",
    "lista_C_sushi=[]\n",
    "for i in range(len(lista_sushi)):\n",
    "    palavra = lista_sushi[i]\n",
    "    for termo in palavra:\n",
    "        if termo=='C':\n",
    "            lista_C_sushi.append(termo)\n",
    "            \n",
    "lista_C_pizza=[]\n",
    "for i in range(len(lista_pizza)):\n",
    "    palavra = lista_pizza[i]\n",
    "    for termo in palavra:\n",
    "        if termo=='C':\n",
    "            lista_C_pizza.append(termo)\n",
    "\n",
    "#____________________________________________________________\n",
    "\n",
    "lista_P_sushi=[]\n",
    "for i in range(len(lista_sushi)):\n",
    "    palavra = lista_sushi[i]\n",
    "    for termo in palavra:\n",
    "        if termo=='P':\n",
    "            lista_P_sushi.append(termo)\n",
    "            \n",
    "lista_P_pizza=[]\n",
    "for i in range(len(lista_pizza)):\n",
    "    palavra = lista_pizza[i]\n",
    "    for termo in palavra:\n",
    "        if termo=='P':\n",
    "            lista_P_pizza.append(termo)\n",
    "#_______________________________________________________\n",
    "\n",
    "lista_O_sushi=[]\n",
    "for i in range(len(lista_sushi)):\n",
    "    palavra = lista_sushi[i]\n",
    "    for termo in palavra:\n",
    "        if termo=='O':\n",
    "            lista_O_sushi.append(termo)\n",
    "            \n",
    "lista_O_pizza=[]\n",
    "for i in range(len(lista_pizza)):\n",
    "    palavra = lista_pizza[i]\n",
    "    for termo in palavra:\n",
    "        if termo=='O':\n",
    "            lista_O_pizza.append(termo)\n",
    "\n",
    "\n",
    "\n"
   ]
  },
  {
   "cell_type": "code",
   "execution_count": 24,
   "metadata": {},
   "outputs": [],
   "source": [
    "#Probabilidades gerais de escolher as comidas na semana.\n",
    "P_M = 284/1578\n",
    "P_C = 371/1578\n",
    "P_P = 587/1578\n",
    "P_O = 336/1578"
   ]
  },
  {
   "cell_type": "code",
   "execution_count": 25,
   "metadata": {},
   "outputs": [
    {
     "data": {
      "text/plain": [
       "P    587\n",
       "C    371\n",
       "O    336\n",
       "M    284\n",
       "dtype: int64"
      ]
     },
     "execution_count": 25,
     "metadata": {},
     "output_type": "execute_result"
    }
   ],
   "source": [
    "serie_treinamento = pd.Series(lista_total)\n",
    "tabela_absoluta = serie_treinamento.value_counts()\n",
    "tabela_absoluta"
   ]
  },
  {
   "cell_type": "code",
   "execution_count": 30,
   "metadata": {},
   "outputs": [],
   "source": [
    "#Probabilidades relacionadas\n",
    "\n",
    "P_M_dado_sushi = len(lista_M_sushi)/110\n",
    "P_M_dado_pizza = len(lista_M_pizza)/90\n",
    "\n",
    "P_C_dado_sushi = len(lista_C_sushi)/110\n",
    "P_C_dado_pizza = len(lista_C_pizza)/90\n",
    "\n",
    "P_P_dado_sushi = len(lista_P_sushi)/110\n",
    "P_P_dado_pizza = len(lista_P_pizza)/90\n",
    "\n",
    "P_O_dado_sushi = len(lista_O_sushi)/110\n",
    "P_O_dado_pizza = len(lista_O_pizza)/90"
   ]
  },
  {
   "cell_type": "code",
   "execution_count": 31,
   "metadata": {},
   "outputs": [],
   "source": [
    "#𝑃(S|M)*𝑃(M)/𝑃(S)  NAIVE BAYES PARA CADA UM\n",
    "\n",
    "P_S = 110\n",
    "P_Pi = 90\n",
    "\n",
    "Prob_sushi_dado_M = P_M_dado_sushi*P_M/ P_S\n",
    "Prob_pizza_dado_M = P_M_dado_pizza*P_M/ P_Pi\n",
    "\n",
    "\n",
    "Prob_sushi_dado_P = P_P_dado_sushi*P_P/ P_S\n",
    "Prob_pizza_dado_P = P_P_dado_pizza*P_P/ P_Pi\n",
    "\n",
    "\n",
    "Prob_sushi_dado_O = P_O_dado_sushi*P_O/ P_S\n",
    "Prob_pizza_dado_O = P_O_dado_pizza*P_O/ P_Pi\n",
    "\n",
    "\n",
    "Prob_sushi_dado_C = P_C_dado_sushi*P_C/ P_S\n",
    "Prob_pizza_dado_C = P_C_dado_pizza*P_C/ P_Pi\n"
   ]
  },
  {
   "cell_type": "markdown",
   "metadata": {},
   "source": [
    "b) **[0,5 pontos]** Determine a recomendação do sistema para um cliente com o seguinte histórico de pedidos: \"PPCPCCCOPP\"\n",
    "\n",
    "Observação: não precisa implementar o \"truque do log\"."
   ]
  },
  {
   "cell_type": "code",
   "execution_count": 32,
   "metadata": {},
   "outputs": [
    {
     "name": "stdout",
     "output_type": "stream",
     "text": [
      "2.0957616231402297e-23\n",
      "1.0879268339959177e-22\n"
     ]
    }
   ],
   "source": [
    "# Coloque seu código aqui...\n",
    "\n",
    "Prob_de_sushi = Prob_sushi_dado_P*Prob_sushi_dado_P*Prob_sushi_dado_C*Prob_sushi_dado_P*Prob_sushi_dado_C*Prob_sushi_dado_C*Prob_sushi_dado_C*Prob_sushi_dado_O*Prob_sushi_dado_P*Prob_sushi_dado_P\n",
    "\n",
    "Prob_de_pizza = Prob_pizza_dado_P*Prob_pizza_dado_P*Prob_pizza_dado_C*Prob_pizza_dado_P*Prob_pizza_dado_C*Prob_pizza_dado_C*Prob_pizza_dado_C*Prob_pizza_dado_O*Prob_pizza_dado_P*Prob_pizza_dado_P\n",
    "\n",
    "print(Prob_de_sushi)\n",
    "print(Prob_de_pizza)\n",
    "\n",
    "#R: A probabilidade de no fim de semana o cliente pedir pizza é maior. "
   ]
  },
  {
   "cell_type": "markdown",
   "metadata": {},
   "source": [
    "c) **[0,5 pontos]** Saiu uma notícia no jornal que diz que comer peixe caramelizado aumenta muito a incidência de unha encravada, daquelas bem horríveis. (Caso você goste de unha encravada: suponha que a população em geral não gosta.)\n",
    "\n",
    "Comente o que você espera que aconteça se você continuar usando seu classificador Naive-Bayes, treinado do jeito que está agora, para fazer as recomendações de pizza ou sushi.\n",
    "\n",
    "(Nesta questão não tem código ou cálculos para fazer - apenas senso crítico.)"
   ]
  },
  {
   "cell_type": "markdown",
   "metadata": {},
   "source": [
    "# Coloque sua resposta aqui...\n",
    "\n",
    "**R**:Do jeito que está agora, com a base de treinamento alimentado com os dados antigos, haverão falhas se continuarmos o utilizando.\n",
    "Isso porque, após essa notícia, provavelmente o consumo de peixe caramelizado irá cair, e se antes havia uma relação entre comer pizza e sushi, dado que pediu peixe caramelizado na semana, essa relação será diferente. Dessa forma, o mais conveniente nessa situação, seria conseguir uma nova base de treinamento para refazer as relações do Teorema de Bayes. "
   ]
  },
  {
   "cell_type": "code",
   "execution_count": null,
   "metadata": {},
   "outputs": [],
   "source": []
  }
 ],
 "metadata": {
  "kernelspec": {
   "display_name": "Python 3",
   "language": "python",
   "name": "python3"
  },
  "language_info": {
   "codemirror_mode": {
    "name": "ipython",
    "version": 3
   },
   "file_extension": ".py",
   "mimetype": "text/x-python",
   "name": "python",
   "nbconvert_exporter": "python",
   "pygments_lexer": "ipython3",
   "version": "3.7.6"
  }
 },
 "nbformat": 4,
 "nbformat_minor": 4
}
