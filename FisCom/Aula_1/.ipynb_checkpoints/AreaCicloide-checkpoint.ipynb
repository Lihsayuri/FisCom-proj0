{
 "cells": [
  {
   "cell_type": "code",
   "execution_count": 1,
   "metadata": {
    "colab": {
     "base_uri": "https://localhost:8080/"
    },
    "executionInfo": {
     "elapsed": 392,
     "status": "ok",
     "timestamp": 1619011351426,
     "user": {
      "displayName": "Bernardo Capoferri",
      "photoUrl": "",
      "userId": "17590727472716698303"
     },
     "user_tz": 180
    },
    "id": "1aZWMjnYYfMx",
    "outputId": "4ff8cb32-67f6-48cb-c58f-3b6246c0c5e6"
   },
   "outputs": [
    {
     "name": "stdout",
     "output_type": "stream",
     "text": [
      "490.0874737896304\n"
     ]
    }
   ],
   "source": [
    "import math\n",
    "\n",
    "def calculaAresta(pontoInicial,pontoFinal):\n",
    "    xIn = pontoInicial[0] \n",
    "    yIn = pontoInicial[1]\n",
    "    xFin = pontoFinal[0]\n",
    "    yFin = pontoFinal[1]\n",
    "\n",
    "    x = xFin - xIn \n",
    "    y = yFin - yIn\n",
    "    hipotenusa = math.sqrt(x**2+y**2)\n",
    "    return hipotenusa\n",
    "\n",
    "def areaTriangulo (aresta1, aresta2, aresta3):\n",
    "    s = (aresta1 + aresta2 + aresta3) / 2\n",
    "\n",
    "    # calculate the area\n",
    "    area = (s*(s-aresta1)*(s-aresta2)*(s-aresta3)) ** 0.5\n",
    "    return area\n",
    "\n",
    "lista_pontos = []\n",
    "\n",
    "t = 0\n",
    "while t < 2*math.pi:\n",
    "    x = 0\n",
    "    y = 0\n",
    "    x = 12*math.cos(t) - math.cos(12*t)\n",
    "    y = 12*math.sin(t) - math.sin(12*t)\n",
    "    lista_pontos.append((x,y))\n",
    "    t += 0.001\n",
    "\n",
    "#p = len(lista_pontos)\n",
    "#print(lista_pontos[p-1])\n",
    "\n",
    "zero = (0,0)\n",
    "\n",
    "i = 0\n",
    "area = 0\n",
    "\n",
    "for ponto1 in lista_pontos:\n",
    "    if i > len(lista_pontos)-2:\n",
    "      ponto2 = lista_pontos[0]\n",
    "    else:\n",
    "      ponto2 = lista_pontos[i+1]\n",
    "\n",
    "    arestaOrigPonto1 = calculaAresta(zero, ponto1)\n",
    "    arestaOrigPonto2 = calculaAresta(zero, ponto2)\n",
    "    arestaPonto1Ponto2 = calculaAresta(ponto1, ponto2)\n",
    "    \n",
    "    area += areaTriangulo(arestaOrigPonto1, arestaOrigPonto2, arestaPonto1Ponto2)\n",
    "    i += 1\n",
    "\n",
    "print(area)"
   ]
  },
  {
   "cell_type": "code",
   "execution_count": null,
   "metadata": {},
   "outputs": [],
   "source": []
  }
 ],
 "metadata": {
  "colab": {
   "authorship_tag": "ABX9TyOgLiaXi/klu4pretEbtntw",
   "collapsed_sections": [],
   "name": "Untitled0.ipynb",
   "provenance": []
  },
  "kernelspec": {
   "display_name": "Python 3",
   "language": "python",
   "name": "python3"
  },
  "language_info": {
   "codemirror_mode": {
    "name": "ipython",
    "version": 3
   },
   "file_extension": ".py",
   "mimetype": "text/x-python",
   "name": "python",
   "nbconvert_exporter": "python",
   "pygments_lexer": "ipython3",
   "version": "3.7.6"
  }
 },
 "nbformat": 4,
 "nbformat_minor": 1
}
