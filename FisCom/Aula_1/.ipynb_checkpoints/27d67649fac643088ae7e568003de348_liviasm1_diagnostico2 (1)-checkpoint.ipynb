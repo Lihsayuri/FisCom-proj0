{
 "cells": [
  {
   "cell_type": "markdown",
   "metadata": {},
   "source": [
    "# Insper - Modelagem e Simulação do Mundo Físico#\n",
    "\n",
    "# Diagnóstico de Programação 2#\n",
    "\n",
    "**07 de maio de 2019**\n",
    "\n",
    "**Preencha seu nome completo na célula abaixo:**"
   ]
  },
  {
   "cell_type": "markdown",
   "metadata": {},
   "source": [
    " Lívia Sayuri Makuta"
   ]
  },
  {
   "cell_type": "markdown",
   "metadata": {},
   "source": [
    "---\n",
    "**Questão 1**\n",
    "\n",
    "O sistema de equações diferenciais a seguir modela o volume de água em três tanques, $A$, $B$ e $C$, todos em litros, ao longo do tempo $t$, medido em segundos.\n",
    "\n",
    "<center><font size = 3><br>\n",
    "$\\frac{dA}{dt}= -\\frac{1}{6} \\cdot A(t) + \\frac{1}{6} \\cdot C(t)$\n",
    "<br><br>\n",
    "$\\frac{dB}{dt}= \\frac{1}{6} \\cdot A(t) - \\frac{1}{3} \\cdot B(t)$\n",
    "<br><br>\n",
    "$\\frac{dC}{dt}= \\frac{1}{3} \\cdot B(t) - \\frac{1}{6} \\cdot C(t)$\n",
    "    <br></font></center>\n",
    "\n"
   ]
  },
  {
   "cell_type": "markdown",
   "metadata": {},
   "source": [
    "#### Item 0 (0,0 pontos)\n",
    "\n",
    "Antes de começar, execute o código abaixo para importar todas as bibliotecas necessárias."
   ]
  },
  {
   "cell_type": "code",
   "execution_count": 1,
   "metadata": {},
   "outputs": [],
   "source": [
    "import numpy as np\n",
    "import matplotlib.pyplot as plt\n",
    "from scipy.integrate import odeint"
   ]
  },
  {
   "cell_type": "markdown",
   "metadata": {},
   "source": [
    "---\n",
    "#### Item 1 (2,0 pontos)\n",
    "\n",
    "Implemente uma função a ser utilizada por ```odeint``` para a resolução numérica do sistema de equações diferenciais. Essa função deve receber como parâmetros:\n",
    "\n",
    "- Uma lista com os valores $A(t)$, $B(t)$ e $C(t)$\n",
    "- O instante $t$\n",
    "\n",
    "A função deve retornar, **necessariamente nessa ordem**:\n",
    "\n",
    "- A taxa de variação $\\frac{dA}{dt}$\n",
    "- A taxa de variação $\\frac{dB}{dt}$\n",
    "- A taxa de variação $\\frac{dC}{dt}$\n",
    "\n",
    "Atenção: na célula abaixo, você vai apenas implementar a função, mas **não vai utilizar odeint**."
   ]
  },
  {
   "cell_type": "code",
   "execution_count": 2,
   "metadata": {},
   "outputs": [],
   "source": [
    "# SEU CÓDIGO DO ITEM 1\n",
    "def modelo(x,t):\n",
    "    A=x[0]\n",
    "    B=x[1]\n",
    "    C=x[2]\n",
    "    dAdt=-(1/6)*A+(1/6)*C\n",
    "    dBdt=(1/6)*A-(1/3)*B\n",
    "    dCdt=(1/3)*B-(1/6)*C\n",
    "    dxdt=[dAdt,dBdt,dCdt]\n",
    "    return dxdt\n",
    "\n"
   ]
  },
  {
   "cell_type": "markdown",
   "metadata": {},
   "source": [
    "---\n",
    "\n",
    "#### Item 2 (2,0 pontos)\n",
    "\n",
    "Utilizando a função que você implementou no **Item 1** (**não copie o código novamente** no espaço a seguir), resolva o sistema de equações diferenciais utilizando a função `odeint`.\n",
    "\n",
    "Para isso:\n",
    "- Considere como condições iniciais $A(0) = 2$ $L$, $B(0) = 2$ $L$ e $C(0) = 1$ $L$\n",
    "- Crie uma lista de tempo de $0$ $s$ a $20$ $s$ com $\\Delta t=10^{-3}$ $s$\n",
    "\n",
    "Em seguida, plote em uma **mesma** figura os gráficos de $A(t)$ por $t$, $B(t)$ por $t$ e $C(t)$ por $t$. "
   ]
  },
  {
   "cell_type": "code",
   "execution_count": 3,
   "metadata": {},
   "outputs": [
    {
     "data": {
      "image/png": "[encoded data removed]",
      "text/plain": [
       "<Figure size 432x288 with 1 Axes>"
      ]
     },
     "metadata": {
      "needs_background": "light"
     },
     "output_type": "display_data"
    }
   ],
   "source": [
    "# SEU CÓDIGO DO ITEM 2\n",
    "\n",
    "delta_t=1e-3\n",
    "lista_t=np.arange(0,20,delta_t)\n",
    "A_0=2\n",
    "B_0=2\n",
    "C_0=1\n",
    "x_0=[A_0,B_0,C_0]\n",
    "\n",
    "x=odeint(modelo,x_0,lista_t)\n",
    "\n",
    "A_lista=x[:,0]\n",
    "B_lista=x[:,1]\n",
    "C_lista=x[:,2]\n",
    "\n",
    "plt.plot(lista_t,A_lista,label= 'A' )\n",
    "plt.plot(lista_t,B_lista,label='B')\n",
    "plt.plot(lista_t,C_lista,label='C')\n",
    "\n",
    "plt.xlabel('tempo em segundos')\n",
    "plt.ylabel('fluxo de tanques')\n",
    "plt.legend()\n",
    "plt.title('Solução dos tanques')\n",
    "plt.grid(True)\n",
    "plt.show()\n",
    "\n",
    "\n",
    "\n"
   ]
  },
  {
   "cell_type": "markdown",
   "metadata": {},
   "source": [
    "---\n",
    "\n",
    "#### Item 3 (1,0 pontos)\n",
    "\n",
    "Determine, com pelo menos duas casas decimais de precisão, o instante em que o volume do tanque $C$ supera o do tanque $B$.\n",
    "\n",
    "Dê sua resposta na forma de um ```print```."
   ]
  },
  {
   "cell_type": "code",
   "execution_count": null,
   "metadata": {},
   "outputs": [],
   "source": [
    "# SEU CÓDIGO DO ITEM 3\n",
    "def igual(listaC,listaB,listatempo):\n",
    "    for i in range(len(listaC)):\n",
    "        tempoatinge=0\n",
    "        if listaC[i]>=listaB[i]:\n",
    "            tempoatinge=listatempo[i]\n",
    "            break\n",
    "    return tempoatinge\n",
    "\n",
    "listatempoatinge=[]\n",
    "\n",
    "for i in range(len(C_lista)):\n",
    "    tempoatinge=igual(C_lista,B_lista,lista_t)\n",
    "    listatempoatinge.append(tempoatinge)\n",
    "\n",
    "print(listatempoatinge[0])\n",
    "\n",
    "\n",
    "\n"
   ]
  },
  {
   "cell_type": "markdown",
   "metadata": {},
   "source": [
    "---\n",
    "\n",
    "#### Item 4 (3,0 pontos)\n",
    "\n",
    "Agora, vamos considerar a influência da válvula de realimentação do tanque $C$ para o tanque $A$, a qual pode ser modelada pelo parâmetro $c_r$ nas equações diferenciais:\n",
    "\n",
    "<center><font size = 3><br>\n",
    "$\\frac{dA}{dt}= -\\frac{1}{6} \\cdot A(t) + c_r \\cdot C(t)$\n",
    "<br><br>\n",
    "$\\frac{dB}{dt}= \\frac{1}{6} \\cdot A(t) - \\frac{1}{3} \\cdot B(t)$\n",
    "<br><br>\n",
    "$\\frac{dC}{dt}= \\frac{1}{3} \\cdot B(t) - c_r \\cdot C(t)$\n",
    "    <br></font></center>\n",
    "\n",
    "Primeiramente, implemente uma função a ser utilizada por ```odeint``` para a resolução numérica do sistema de equações diferenciais. Essa função deve receber como parâmetros:\n",
    "\n",
    "- Uma lista com os valores $A(t)$, $B(t)$ e $C(t)$\n",
    "- O instante $t$\n",
    "- O parâmetro $c_r$\n",
    "\n",
    "A função deve retornar, **necessariamente nessa ordem**:\n",
    "\n",
    "- A taxa de variação $\\frac{dA}{dt}$\n",
    "- A taxa de variação $\\frac{dB}{dt}$\n",
    "- A taxa de variação $\\frac{dC}{dt}$\n",
    "\n",
    "Em seguida, utilizando essa função, resolva o sistema de equações diferenciais utilizando a função ```odeint``` 30 vezes consecutivas, para os seguintes valores do parâmetro $c_r$:\n",
    "\n",
    "<center> 0.2  ,  0.21  ,  0.22  ,  ...  ,  0.47  ,  0.48  ,  0.49 </center>\n",
    "    \n",
    "(Sugestão: use a função ```arange```)\n",
    "\n",
    "Em cada uma das execuções:\n",
    "- Considere como condições iniciais $A(0) = 2$ $L$, $B(0) = 2$ $L$ e $C(0) = 1$ $L$\n",
    "- Crie uma lista de tempo de $0$ $s$ a $20$ $s$ com $\\Delta t=10^{-3}$ $s$\n",
    "\n",
    "Em seguida, plote em uma **mesma** figura o gráfico de $C(t)$ por $t$ para cada uma das 30 execuções.\n",
    "\n",
    "Observação 1: **não ative a legenda!**\n",
    "\n",
    "Observação 2: plote **apenas** as curvas referentes ao tanque $C(t)$!\n",
    "\n",
    "Observação 3: use outro nome (diferente do usado no **item 1**) para a função que calcula as derivadas."
   ]
  },
  {
   "cell_type": "code",
   "execution_count": null,
   "metadata": {},
   "outputs": [],
   "source": [
    "# SEU CÓDIGO DO ITEM 4\n",
    "\n",
    "def modelocr(x,t,cr):\n",
    "    A=x[0]\n",
    "    B=x[1]\n",
    "    C=x[2]\n",
    "    dAdt=-(1/6)*A+cr*C\n",
    "    dBdt=(1/6)*A-(1/3)*B\n",
    "    dCdt=(1/3)*B-cr*C\n",
    "    dxdt=[dAdt,dBdt,dCdt]\n",
    "    return dxdt\n",
    "\n",
    "\n",
    "listacr=np.arange(0.2,0.49,0.01)\n",
    "delta_t=1e-3\n",
    "lista_t=np.arange(0,20,delta_t)\n",
    "A_0=2\n",
    "B_0=2\n",
    "C_0=1\n",
    "x_0=[A_0,B_0,C_0]\n",
    "\n",
    "for i in range(len(listacr)):\n",
    "    z=odeint(modelocr,x_0,lista_t,args=(listacr[i],))\n",
    "    C_lista=(z[:,2])\n",
    "    plt.plot(lista_t,C_lista)\n",
    "    \n",
    "plt.xlabel('tempo em segundos')\n",
    "plt.ylabel('C em litros')\n",
    "plt.title('Diferentes valores de cr')\n",
    "plt.grid(True)\n",
    "plt.show()\n",
    "\n",
    "\n",
    "\n",
    "\n",
    "\n"
   ]
  },
  {
   "cell_type": "markdown",
   "metadata": {},
   "source": [
    "---\n",
    "\n",
    "#### Item 5 (2,0 pontos)\n",
    "\n",
    "Por fim, crie um gráfico conclusivo que mostre o **maior valor** atingido por $C(t)$ para cada um dos 30 valores de $c_r$.\n",
    "\n",
    "Você pode copiar o código do item anterior a seguir, caso julgue necessário."
   ]
  },
  {
   "cell_type": "code",
   "execution_count": null,
   "metadata": {},
   "outputs": [],
   "source": [
    "# SEU CÓDIGO DO ITEM 5\n",
    "def modelocr(x,t,cr):\n",
    "    A=x[0]\n",
    "    B=x[1]\n",
    "    C=x[2]\n",
    "    dAdt=-(1/6)*A+cr*C\n",
    "    dBdt=(1/6)*A-(1/3)*B\n",
    "    dCdt=(1/3)*B-cr*C\n",
    "    dxdt=[dAdt,dBdt,dCdt]\n",
    "    return dxdt\n",
    "\n",
    "listacr=np.arange(0,0.49,0.01)\n",
    "delta_t=1e-3\n",
    "lista_t=np.arange(0,20,delta_t)\n",
    "A_0=2\n",
    "B_0=2\n",
    "C_0=1\n",
    "x_0=[A_0,B_0,C_0]\n",
    "listamax_C=[]\n",
    "\n",
    "for i in range(len(listacr)):\n",
    "    z=odeint(modelocr,x_0,lista_t,args=(listacr[i],))\n",
    "    C_lista=(z[:,2])\n",
    "    listamax_C.append(max(C_lista))\n",
    "\n",
    "plt.plot(listacr,listamax_C,'ro')    \n",
    "plt.xlabel('valores de cr')\n",
    "plt.ylabel('C máximo em litros')\n",
    "plt.title('Gráfico conclusivo')\n",
    "plt.grid(True)\n",
    "plt.show()\n",
    "\n",
    "\n",
    "\n",
    "\n",
    "\n",
    "\n"
   ]
  },
  {
   "cell_type": "code",
   "execution_count": null,
   "metadata": {},
   "outputs": [],
   "source": []
  }
 ],
 "metadata": {
  "kernelspec": {
   "display_name": "Python 3",
   "language": "python",
   "name": "python3"
  },
  "language_info": {
   "codemirror_mode": {
    "name": "ipython",
    "version": 3
   },
   "file_extension": ".py",
   "mimetype": "text/x-python",
   "name": "python",
   "nbconvert_exporter": "python",
   "pygments_lexer": "ipython3",
   "version": "3.7.6"
  }
 },
 "nbformat": 4,
 "nbformat_minor": 4
}
