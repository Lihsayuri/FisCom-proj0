{
 "cells": [
  {
   "cell_type": "code",
   "execution_count": 75,
   "metadata": {
    "colab": {
     "base_uri": "https://localhost:8080/"
    },
    "executionInfo": {
     "elapsed": 580,
     "status": "ok",
     "timestamp": 1619017257881,
     "user": {
      "displayName": "Bernardo Capoferri",
      "photoUrl": "",
      "userId": "17590727472716698303"
     },
     "user_tz": 180
    },
    "id": "1aZWMjnYYfMx",
    "outputId": "6f076770-5b01-4175-98d7-f4a1276e9de8"
   },
   "outputs": [
    {
     "name": "stdout",
     "output_type": "stream",
     "text": [
      "Tamanho da lista dos pontos é 6284\n",
      "A area da cicloide é 490.09\n"
     ]
    }
   ],
   "source": [
    "import math\n",
    "\n",
    "def calculaAresta(pontoInicial,pontoFinal):\n",
    "    xIn = pontoInicial[0] \n",
    "    yIn = pontoInicial[1]\n",
    "\n",
    "    xFin = pontoFinal[0]\n",
    "    yFin = pontoFinal[1]\n",
    "\n",
    "    x = xFin - xIn \n",
    "    y = yFin - yIn\n",
    "    hipotenusa = math.sqrt(x**2+y**2)\n",
    "    return hipotenusa\n",
    "\n",
    "def areaTriangulo (aresta1, aresta2, aresta3):\n",
    "    # adaptado do código neste site: https://www.programiz.com/python-programming/examples/area-triangle\n",
    "    s = (aresta1 + aresta2 + aresta3) / 2\n",
    "\n",
    "    # calcula a área do triangulo por fórmula de Héron\n",
    "    area = (s*(s-aresta1)*(s-aresta2)*(s-aresta3)) ** 0.5\n",
    "    return area\n",
    "\n",
    "lista_pontos = []\n",
    "x_lista = []\n",
    "y_lista = []\n",
    "\n",
    "t = 0\n",
    "while t < 2*math.pi:\n",
    "    x = 0\n",
    "    y = 0\n",
    "    #Insira Parametrização\n",
    "    x = 12*math.cos(t) - math.cos(12*t)\n",
    "    y = 12*math.sin(t) - math.sin(12*t)\n",
    "    lista_pontos.append((x,y))\n",
    "    x_lista.append(x)\n",
    "    y_lista.append(y)\n",
    "    t += 0.001\n",
    "\n",
    "zero = (0,0)\n",
    "\n",
    "i = 0\n",
    "area = 0\n",
    "\n",
    "#Calcula a área de toda a Curva\n",
    "for ponto1 in lista_pontos:\n",
    "    if i > len(lista_pontos)-2:\n",
    "      ponto2 = lista_pontos[0]\n",
    "    else:\n",
    "      ponto2 = lista_pontos[i+1]\n",
    "\n",
    "    arestaOrigPonto1 = calculaAresta(zero, ponto1)\n",
    "    arestaOrigPonto2 = calculaAresta(zero, ponto2)\n",
    "    arestaPonto1Ponto2 = calculaAresta(ponto1, ponto2)\n",
    "    \n",
    "    area += areaTriangulo(arestaOrigPonto1, arestaOrigPonto2, arestaPonto1Ponto2)\n",
    "\n",
    "    i += 1\n",
    "\n",
    "print('Tamanho da lista dos pontos é %0.0f' %len(lista_pontos))\n",
    "print('A area da cicloide é %0.2f' %area)"
   ]
  },
  {
   "cell_type": "code",
   "execution_count": null,
   "metadata": {
    "colab": {
     "base_uri": "https://localhost:8080/",
     "height": 269
    },
    "executionInfo": {
     "elapsed": 828,
     "status": "ok",
     "timestamp": 1619013756273,
     "user": {
      "displayName": "Bernardo Capoferri",
      "photoUrl": "",
      "userId": "17590727472716698303"
     },
     "user_tz": 180
    },
    "id": "EVTF8pe8rsXP",
    "outputId": "4907a2ad-f27f-4ce0-b135-2bb7ff0d282f"
   },
   "outputs": [
    {
     "data": {
      "image/png": "[encoded data removed]",
      "text/plain": [
       "<Figure size 432x288 with 1 Axes>"
      ]
     },
     "metadata": {
      "needs_background": "light",
      "tags": []
     },
     "output_type": "display_data"
    }
   ],
   "source": [
    "import matplotlib.pyplot as plt\n",
    "\n",
    "plt.plot(x_lista, y_lista)\n",
    "plt.axis(xmin = -15, xmax =15, ymin = -15, ymax = 15)\n",
    "plt.show()"
   ]
  }
 ],
 "metadata": {
  "colab": {
   "authorship_tag": "ABX9TyPiAi6Rg+U+bCA1KwUTqw9e",
   "collapsed_sections": [],
   "name": "CalculaAreaCilcloide.ipynb",
   "provenance": []
  },
  "kernelspec": {
   "display_name": "Python 3",
   "language": "python",
   "name": "python3"
  },
  "language_info": {
   "codemirror_mode": {
    "name": "ipython",
    "version": 3
   },
   "file_extension": ".py",
   "mimetype": "text/x-python",
   "name": "python",
   "nbconvert_exporter": "python",
   "pygments_lexer": "ipython3",
   "version": "3.7.6"
  }
 },
 "nbformat": 4,
 "nbformat_minor": 1
}
